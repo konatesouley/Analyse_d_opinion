{
 "cells": [
  {
   "cell_type": "code",
   "execution_count": 17,
   "id": "a9888af7",
   "metadata": {},
   "outputs": [],
   "source": [
    "import pandas as pd\n",
    "import matplotlib.pyplot as plt\n",
    "import spacy as sp\n",
    "import numpy as np\n",
    "from afinn import Afinn \n",
    "import spacy"
   ]
  },
  {
   "cell_type": "code",
   "execution_count": 3,
   "id": "1c82abba",
   "metadata": {},
   "outputs": [],
   "source": [
    "df = pd.read_csv(\"C://Users//ganci//Documents//master_miashs sans TER//Analyse de données textuelles//Projet//Analyse_d_opinion//Données//corpus_bogdanof.csv\")"
   ]
  },
  {
   "cell_type": "code",
   "execution_count": 4,
   "id": "06b50869",
   "metadata": {},
   "outputs": [
    {
     "data": {
      "text/html": [
       "<div>\n",
       "<style scoped>\n",
       "    .dataframe tbody tr th:only-of-type {\n",
       "        vertical-align: middle;\n",
       "    }\n",
       "\n",
       "    .dataframe tbody tr th {\n",
       "        vertical-align: top;\n",
       "    }\n",
       "\n",
       "    .dataframe thead th {\n",
       "        text-align: right;\n",
       "    }\n",
       "</style>\n",
       "<table border=\"1\" class=\"dataframe\">\n",
       "  <thead>\n",
       "    <tr style=\"text-align: right;\">\n",
       "      <th></th>\n",
       "      <th>Unnamed: 0</th>\n",
       "      <th>post</th>\n",
       "      <th>sujet</th>\n",
       "    </tr>\n",
       "  </thead>\n",
       "  <tbody>\n",
       "    <tr>\n",
       "      <th>0</th>\n",
       "      <td>0</td>\n",
       "      <td>\\nPour corriger les passages tendancieux, je p...</td>\n",
       "      <td>frerebogdanof_travaux</td>\n",
       "    </tr>\n",
       "    <tr>\n",
       "      <th>1</th>\n",
       "      <td>1</td>\n",
       "      <td>\\nAssez d'accord.\\nJ'ai fait quelques reformul...</td>\n",
       "      <td>frerebogdanof_travaux</td>\n",
       "    </tr>\n",
       "    <tr>\n",
       "      <th>2</th>\n",
       "      <td>2</td>\n",
       "      <td>\\nIl semble bien que le drame soit plus autour...</td>\n",
       "      <td>frerebogdanof_travaux</td>\n",
       "    </tr>\n",
       "    <tr>\n",
       "      <th>3</th>\n",
       "      <td>3</td>\n",
       "      <td>\\nJe suis aussi d'accord pour dire qu'il y atr...</td>\n",
       "      <td>frerebogdanof_travaux</td>\n",
       "    </tr>\n",
       "    <tr>\n",
       "      <th>4</th>\n",
       "      <td>4</td>\n",
       "      <td>\\nJe vois pas trop le dÃ©bat avancer. Ne serai...</td>\n",
       "      <td>frerebogdanof_travaux</td>\n",
       "    </tr>\n",
       "    <tr>\n",
       "      <th>...</th>\n",
       "      <td>...</td>\n",
       "      <td>...</td>\n",
       "      <td>...</td>\n",
       "    </tr>\n",
       "    <tr>\n",
       "      <th>271</th>\n",
       "      <td>271</td>\n",
       "      <td>\\n\\nEn effet , pas très encyclopédique et pas ...</td>\n",
       "      <td>frerebogdanof_travaux</td>\n",
       "    </tr>\n",
       "    <tr>\n",
       "      <th>272</th>\n",
       "      <td>272</td>\n",
       "      <td>\\n\\nJe trouve l'article assez faible, surtout ...</td>\n",
       "      <td>frerebogdanof_travaux</td>\n",
       "    </tr>\n",
       "    <tr>\n",
       "      <th>273</th>\n",
       "      <td>273</td>\n",
       "      <td>\\n\\nPour information : Sylvestre Huet, «\\nUn c...</td>\n",
       "      <td>frerebogdanof_travaux</td>\n",
       "    </tr>\n",
       "    <tr>\n",
       "      <th>274</th>\n",
       "      <td>274</td>\n",
       "      <td>\\n\\n\\n\\nSalut tout le monde,\\n\\nDans l'interve...</td>\n",
       "      <td>frerebogdanof_travaux</td>\n",
       "    </tr>\n",
       "    <tr>\n",
       "      <th>275</th>\n",
       "      <td>275</td>\n",
       "      <td>\\n\\nUne série de vidéo, présentent sur youtube...</td>\n",
       "      <td>frerebogdanof_travaux</td>\n",
       "    </tr>\n",
       "  </tbody>\n",
       "</table>\n",
       "<p>276 rows × 3 columns</p>\n",
       "</div>"
      ],
      "text/plain": [
       "     Unnamed: 0                                               post  \\\n",
       "0             0  \\nPour corriger les passages tendancieux, je p...   \n",
       "1             1  \\nAssez d'accord.\\nJ'ai fait quelques reformul...   \n",
       "2             2  \\nIl semble bien que le drame soit plus autour...   \n",
       "3             3  \\nJe suis aussi d'accord pour dire qu'il y atr...   \n",
       "4             4  \\nJe vois pas trop le dÃ©bat avancer. Ne serai...   \n",
       "..          ...                                                ...   \n",
       "271         271  \\n\\nEn effet , pas très encyclopédique et pas ...   \n",
       "272         272  \\n\\nJe trouve l'article assez faible, surtout ...   \n",
       "273         273  \\n\\nPour information : Sylvestre Huet, «\\nUn c...   \n",
       "274         274  \\n\\n\\n\\nSalut tout le monde,\\n\\nDans l'interve...   \n",
       "275         275  \\n\\nUne série de vidéo, présentent sur youtube...   \n",
       "\n",
       "                     sujet  \n",
       "0    frerebogdanof_travaux  \n",
       "1    frerebogdanof_travaux  \n",
       "2    frerebogdanof_travaux  \n",
       "3    frerebogdanof_travaux  \n",
       "4    frerebogdanof_travaux  \n",
       "..                     ...  \n",
       "271  frerebogdanof_travaux  \n",
       "272  frerebogdanof_travaux  \n",
       "273  frerebogdanof_travaux  \n",
       "274  frerebogdanof_travaux  \n",
       "275  frerebogdanof_travaux  \n",
       "\n",
       "[276 rows x 3 columns]"
      ]
     },
     "execution_count": 4,
     "metadata": {},
     "output_type": "execute_result"
    }
   ],
   "source": [
    "df"
   ]
  },
  {
   "cell_type": "code",
   "execution_count": 5,
   "id": "5d886bbb",
   "metadata": {},
   "outputs": [],
   "source": [
    "df = df.replace(to_replace='\\n', value='', regex=True)"
   ]
  },
  {
   "cell_type": "code",
   "execution_count": 6,
   "id": "3bc2d4cc",
   "metadata": {},
   "outputs": [],
   "source": [
    "df = df.replace(to_replace='Ã©', value='é', regex=True)"
   ]
  },
  {
   "cell_type": "code",
   "execution_count": 7,
   "id": "b2dba271",
   "metadata": {},
   "outputs": [
    {
     "data": {
      "text/html": [
       "<div>\n",
       "<style scoped>\n",
       "    .dataframe tbody tr th:only-of-type {\n",
       "        vertical-align: middle;\n",
       "    }\n",
       "\n",
       "    .dataframe tbody tr th {\n",
       "        vertical-align: top;\n",
       "    }\n",
       "\n",
       "    .dataframe thead th {\n",
       "        text-align: right;\n",
       "    }\n",
       "</style>\n",
       "<table border=\"1\" class=\"dataframe\">\n",
       "  <thead>\n",
       "    <tr style=\"text-align: right;\">\n",
       "      <th></th>\n",
       "      <th>Unnamed: 0</th>\n",
       "      <th>post</th>\n",
       "      <th>sujet</th>\n",
       "    </tr>\n",
       "  </thead>\n",
       "  <tbody>\n",
       "    <tr>\n",
       "      <th>0</th>\n",
       "      <td>0</td>\n",
       "      <td>Pour corriger les passages tendancieux, je pro...</td>\n",
       "      <td>frerebogdanof_travaux</td>\n",
       "    </tr>\n",
       "    <tr>\n",
       "      <th>1</th>\n",
       "      <td>1</td>\n",
       "      <td>Assez d'accord.J'ai fait quelques reformulatio...</td>\n",
       "      <td>frerebogdanof_travaux</td>\n",
       "    </tr>\n",
       "    <tr>\n",
       "      <th>2</th>\n",
       "      <td>2</td>\n",
       "      <td>Il semble bien que le drame soit plus autour d...</td>\n",
       "      <td>frerebogdanof_travaux</td>\n",
       "    </tr>\n",
       "    <tr>\n",
       "      <th>3</th>\n",
       "      <td>3</td>\n",
       "      <td>Je suis aussi d'accord pour dire qu'il y atrop...</td>\n",
       "      <td>frerebogdanof_travaux</td>\n",
       "    </tr>\n",
       "    <tr>\n",
       "      <th>4</th>\n",
       "      <td>4</td>\n",
       "      <td>Je vois pas trop le débat avancer. Ne serait-i...</td>\n",
       "      <td>frerebogdanof_travaux</td>\n",
       "    </tr>\n",
       "    <tr>\n",
       "      <th>...</th>\n",
       "      <td>...</td>\n",
       "      <td>...</td>\n",
       "      <td>...</td>\n",
       "    </tr>\n",
       "    <tr>\n",
       "      <th>271</th>\n",
       "      <td>271</td>\n",
       "      <td>En effet , pas très encyclopédique et pas très...</td>\n",
       "      <td>frerebogdanof_travaux</td>\n",
       "    </tr>\n",
       "    <tr>\n",
       "      <th>272</th>\n",
       "      <td>272</td>\n",
       "      <td>Je trouve l'article assez faible, surtout par ...</td>\n",
       "      <td>frerebogdanof_travaux</td>\n",
       "    </tr>\n",
       "    <tr>\n",
       "      <th>273</th>\n",
       "      <td>273</td>\n",
       "      <td>Pour information : Sylvestre Huet, «Un curieux...</td>\n",
       "      <td>frerebogdanof_travaux</td>\n",
       "    </tr>\n",
       "    <tr>\n",
       "      <th>274</th>\n",
       "      <td>274</td>\n",
       "      <td>Salut tout le monde,Dans l'intervention ci-des...</td>\n",
       "      <td>frerebogdanof_travaux</td>\n",
       "    </tr>\n",
       "    <tr>\n",
       "      <th>275</th>\n",
       "      <td>275</td>\n",
       "      <td>Une série de vidéo, présentent sur youtube au ...</td>\n",
       "      <td>frerebogdanof_travaux</td>\n",
       "    </tr>\n",
       "  </tbody>\n",
       "</table>\n",
       "<p>276 rows × 3 columns</p>\n",
       "</div>"
      ],
      "text/plain": [
       "     Unnamed: 0                                               post  \\\n",
       "0             0  Pour corriger les passages tendancieux, je pro...   \n",
       "1             1  Assez d'accord.J'ai fait quelques reformulatio...   \n",
       "2             2  Il semble bien que le drame soit plus autour d...   \n",
       "3             3  Je suis aussi d'accord pour dire qu'il y atrop...   \n",
       "4             4  Je vois pas trop le débat avancer. Ne serait-i...   \n",
       "..          ...                                                ...   \n",
       "271         271  En effet , pas très encyclopédique et pas très...   \n",
       "272         272  Je trouve l'article assez faible, surtout par ...   \n",
       "273         273  Pour information : Sylvestre Huet, «Un curieux...   \n",
       "274         274  Salut tout le monde,Dans l'intervention ci-des...   \n",
       "275         275  Une série de vidéo, présentent sur youtube au ...   \n",
       "\n",
       "                     sujet  \n",
       "0    frerebogdanof_travaux  \n",
       "1    frerebogdanof_travaux  \n",
       "2    frerebogdanof_travaux  \n",
       "3    frerebogdanof_travaux  \n",
       "4    frerebogdanof_travaux  \n",
       "..                     ...  \n",
       "271  frerebogdanof_travaux  \n",
       "272  frerebogdanof_travaux  \n",
       "273  frerebogdanof_travaux  \n",
       "274  frerebogdanof_travaux  \n",
       "275  frerebogdanof_travaux  \n",
       "\n",
       "[276 rows x 3 columns]"
      ]
     },
     "execution_count": 7,
     "metadata": {},
     "output_type": "execute_result"
    }
   ],
   "source": [
    "df"
   ]
  },
  {
   "cell_type": "code",
   "execution_count": 8,
   "id": "c2969a5b",
   "metadata": {},
   "outputs": [
    {
     "data": {
      "text/plain": [
       "'Vous dites :\" Oui, sans doute, mais qui est compétent pour juger de l\\'erreur mathématique ici ? Pas moi ! \"Dans ce cas, pourquoi se prononcer ? Je le répète, renvoyer dos à dos les intervenants de cette polémique n\\'est pas faire acte de neutralité.\" Entre les directeurs de thèse des frères B. et d\\'autres éminents savants, je ne vois pas comment trancher. \"Là encore, je vous le répète, il ne s\\'agit pas que d\\'une querelle d\\'experts où l\\'on ne saura jamais le fin mot de l\\'histoire.\" sachant qu\\'en sciences, dures ou pas, il n\\'y a pas de vérité définitive, seule l\\'erreur peut être prouvée \"Non, mille fois non. La science se distingue des autres connaissances justement parce que la démarche consiste à parfaitement définir les objets. On définit un cadre et dans ce cadre, il y a une seule vérité.Mieux, s\\'il y a (comme vous l\\'avez très justement fait remarquer)un niveau où tout ce débat n\\'aurait jamais du avoir lieu, c\\'est précisément au niveau d\\'une thèse jugée digne d\\'être soutenue.Un texte mathématique doit tenir tout seul malgré les pires attaques (sur le plan scientifique).\" mais je ne sais pas qui est compétent pour en juger, et je ne pense pas que ce sont ceux qui traquent les Bogdanoff sur des forums qui soient le mieux placés pour le faire non plus. \"Là encore, vous n\\'êtes pas neutre:Sur quelles bases appuyez vous ce propos ? Sinon la véracité jugée à l\\'aune d\\'un ton (très véhément). Même mettre en doute la valeur d\\'un argument revient\" ceux qui traquent \": Là encore, jugement partial. Avez vous participé à un de ces débats ?\" Alors il faut en rester aux faits : ils ont effectivement soutenu leurs thèses, avec succès mais sans éclat (comme plein de gens)\"Ce n\\'est pas tout, il y a d\\'autres éléments qui pretent le flan à quelques critiques.\" et il y a effectivement eu un tollé contre eux pour des raisons apparemment très diverses \"Pas si diverses que cela. De façon générale, ce que l\\'on reproche le plus aux Bogdanov c\\'est la prétention avec laquelle ils présentent leurs travaux. Effectivement, prendre environ 10 ans pour obtenir une thèse qu\\'une médailles Fields(Alain Connes)juge indigne d\\'un mémoire de dea n\\'est pas forcément critiquable (de mon point de vue). Par contre, présenté ces thèses comme des avancées décisives dans la science l\\'est beaucoup plus. je sais; il y a des milieux où c\\'est quasiment une faute professionnel de ne pas se présenter comme un génie. Mais en science,c\\'est rarement le cas.\" ou des présomptions des docteurs (qui prétendent expliquer tout tandis qu\\'un thésard lambda s\\'occupe de points de détails algébriques chiants)\"Là encore, cette apparence de neutralité est en fait, une prise de position ferme :\"Présomptions\" ? Vous êtes donc aptes à qualifier tel ou tel propos de docteurs en sciences de \"présomptions\". Avec quels arguments ?Vous avez parfaitement le droit d\\'avoir votre opinion sur ce sujet, je suis par ailleurs heureux de confronter mon point de vue au votre. Ce que je regrette vivement, c\\'est que vous ne cherchiez pas les éléments qui vous permettraient d\\'avoir une meilleure idée sur cette polémique. Vous en avez les moyens intellectuels.Bien à vous.--Green Heart8 août 2005 à 19:51 (CEST)'"
      ]
     },
     "execution_count": 8,
     "metadata": {},
     "output_type": "execute_result"
    }
   ],
   "source": [
    "df.post[56]"
   ]
  },
  {
   "cell_type": "markdown",
   "id": "95b14915",
   "metadata": {},
   "source": [
    "# debut de l'analyse de sentiment avec AFINN"
   ]
  },
  {
   "cell_type": "code",
   "execution_count": 24,
   "id": "bd774783",
   "metadata": {
    "scrolled": true
   },
   "outputs": [
    {
     "name": "stdout",
     "output_type": "stream",
     "text": [
      "                            topic  scores sentiments\n",
      "0     les gens pensent aux chiens     0.0    neutral\n",
      "1           je deteste les fleurs     0.0    neutral\n",
      "2  il est gentils et intelligents     0.0    neutral\n"
     ]
    }
   ],
   "source": [
    "from afinn import Afinn \n",
    "import pandas as pd \n",
    "  \n",
    "afn = Afinn() \n",
    "  \n",
    "news_df = ['les gens pensent aux chiens','je deteste les fleurs', \n",
    "         'il est gentils et intelligents'] \n",
    "           \n",
    "scores = [afn.score(article) for article in news_df] \n",
    "sentiment = ['positive' if score > 0 \n",
    "                          else 'negative' if score < 0 \n",
    "                              else 'neutral' \n",
    "                                  for score in scores] \n",
    "      \n",
    "df = pd.DataFrame() \n",
    "df['topic'] =  news_df \n",
    "df['scores'] = scores \n",
    "df['sentiments'] = sentiment \n",
    "print(df)"
   ]
  },
  {
   "cell_type": "code",
   "execution_count": null,
   "id": "5ed1eeb3",
   "metadata": {},
   "outputs": [],
   "source": []
  }
 ],
 "metadata": {
  "kernelspec": {
   "display_name": "Python 3",
   "language": "python",
   "name": "python3"
  },
  "language_info": {
   "codemirror_mode": {
    "name": "ipython",
    "version": 3
   },
   "file_extension": ".py",
   "mimetype": "text/x-python",
   "name": "python",
   "nbconvert_exporter": "python",
   "pygments_lexer": "ipython3",
   "version": "3.8.8"
  }
 },
 "nbformat": 4,
 "nbformat_minor": 5
}
