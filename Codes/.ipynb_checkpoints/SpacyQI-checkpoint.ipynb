{
 "cells": [
  {
   "cell_type": "markdown",
   "id": "7a24f222",
   "metadata": {},
   "source": [
    "# Importation des packages"
   ]
  },
  {
   "cell_type": "code",
   "execution_count": 2,
   "id": "0c228da5",
   "metadata": {},
   "outputs": [],
   "source": [
    "import os \n",
    "import pandas as pd \n",
    "import warnings\n",
    "warnings.filterwarnings(\"ignore\")\n",
    "import matplotlib.pyplot as plt\n",
    "import chardet\n",
    "import numpy as np"
   ]
  },
  {
   "cell_type": "code",
   "execution_count": 2,
   "id": "014f2341",
   "metadata": {},
   "outputs": [
    {
     "name": "stdout",
     "output_type": "stream",
     "text": [
      "Requirement already satisfied: spaCy in c:\\users\\ycarl\\anaconda\\lib\\site-packages (3.2.4)\n",
      "Requirement already satisfied: spacy-legacy<3.1.0,>=3.0.8 in c:\\users\\ycarl\\anaconda\\lib\\site-packages (from spaCy) (3.0.9)\n",
      "Requirement already satisfied: cymem<2.1.0,>=2.0.2 in c:\\users\\ycarl\\anaconda\\lib\\site-packages (from spaCy) (2.0.6)\n",
      "Requirement already satisfied: requests<3.0.0,>=2.13.0 in c:\\users\\ycarl\\anaconda\\lib\\site-packages (from spaCy) (2.26.0)\n",
      "Requirement already satisfied: preshed<3.1.0,>=3.0.2 in c:\\users\\ycarl\\anaconda\\lib\\site-packages (from spaCy) (3.0.6)\n",
      "Requirement already satisfied: catalogue<2.1.0,>=2.0.6 in c:\\users\\ycarl\\anaconda\\lib\\site-packages (from spaCy) (2.0.7)\n",
      "Requirement already satisfied: packaging>=20.0 in c:\\users\\ycarl\\anaconda\\lib\\site-packages (from spaCy) (21.0)\n",
      "Requirement already satisfied: click<8.1.0 in c:\\users\\ycarl\\anaconda\\lib\\site-packages (from spaCy) (8.0.3)\n",
      "Requirement already satisfied: typer<0.5.0,>=0.3.0 in c:\\users\\ycarl\\anaconda\\lib\\site-packages (from spaCy) (0.4.0)\n",
      "Requirement already satisfied: tqdm<5.0.0,>=4.38.0 in c:\\users\\ycarl\\anaconda\\lib\\site-packages (from spaCy) (4.62.3)\n",
      "Requirement already satisfied: pydantic!=1.8,!=1.8.1,<1.9.0,>=1.7.4 in c:\\users\\ycarl\\anaconda\\lib\\site-packages (from spaCy) (1.8.2)\n",
      "Requirement already satisfied: thinc<8.1.0,>=8.0.12 in c:\\users\\ycarl\\anaconda\\lib\\site-packages (from spaCy) (8.0.15)\n",
      "Requirement already satisfied: srsly<3.0.0,>=2.4.1 in c:\\users\\ycarl\\anaconda\\lib\\site-packages (from spaCy) (2.4.2)\n",
      "Requirement already satisfied: pathy>=0.3.5 in c:\\users\\ycarl\\anaconda\\lib\\site-packages (from spaCy) (0.6.1)\n",
      "Requirement already satisfied: spacy-loggers<2.0.0,>=1.0.0 in c:\\users\\ycarl\\anaconda\\lib\\site-packages (from spaCy) (1.0.1)\n",
      "Requirement already satisfied: numpy>=1.15.0 in c:\\users\\ycarl\\anaconda\\lib\\site-packages (from spaCy) (1.20.3)\n",
      "Requirement already satisfied: jinja2 in c:\\users\\ycarl\\anaconda\\lib\\site-packages (from spaCy) (2.11.3)\n",
      "Requirement already satisfied: langcodes<4.0.0,>=3.2.0 in c:\\users\\ycarl\\anaconda\\lib\\site-packages (from spaCy) (3.3.0)\n",
      "Requirement already satisfied: murmurhash<1.1.0,>=0.28.0 in c:\\users\\ycarl\\anaconda\\lib\\site-packages (from spaCy) (1.0.6)\n",
      "Requirement already satisfied: setuptools in c:\\users\\ycarl\\anaconda\\lib\\site-packages (from spaCy) (58.0.4)\n",
      "Requirement already satisfied: wasabi<1.1.0,>=0.8.1 in c:\\users\\ycarl\\anaconda\\lib\\site-packages (from spaCy) (0.9.0)\n",
      "Requirement already satisfied: blis<0.8.0,>=0.4.0 in c:\\users\\ycarl\\anaconda\\lib\\site-packages (from spaCy) (0.7.7)\n",
      "Requirement already satisfied: colorama in c:\\users\\ycarl\\anaconda\\lib\\site-packages (from click<8.1.0->spaCy) (0.4.4)\n",
      "Requirement already satisfied: pyparsing>=2.0.2 in c:\\users\\ycarl\\anaconda\\lib\\site-packages (from packaging>=20.0->spaCy) (3.0.4)\n",
      "Requirement already satisfied: smart-open<6.0.0,>=5.0.0 in c:\\users\\ycarl\\anaconda\\lib\\site-packages (from pathy>=0.3.5->spaCy) (5.2.1)\n",
      "Requirement already satisfied: typing-extensions>=3.7.4.3 in c:\\users\\ycarl\\anaconda\\lib\\site-packages (from pydantic!=1.8,!=1.8.1,<1.9.0,>=1.7.4->spaCy) (3.10.0.2)\n",
      "Requirement already satisfied: certifi>=2017.4.17 in c:\\users\\ycarl\\anaconda\\lib\\site-packages (from requests<3.0.0,>=2.13.0->spaCy) (2021.10.8)\n",
      "Requirement already satisfied: charset-normalizer~=2.0.0 in c:\\users\\ycarl\\anaconda\\lib\\site-packages (from requests<3.0.0,>=2.13.0->spaCy) (2.0.4)\n",
      "Requirement already satisfied: urllib3<1.27,>=1.21.1 in c:\\users\\ycarl\\anaconda\\lib\\site-packages (from requests<3.0.0,>=2.13.0->spaCy) (1.26.7)\n",
      "Requirement already satisfied: idna<4,>=2.5 in c:\\users\\ycarl\\anaconda\\lib\\site-packages (from requests<3.0.0,>=2.13.0->spaCy) (3.2)\n",
      "Requirement already satisfied: MarkupSafe>=0.23 in c:\\users\\ycarl\\anaconda\\lib\\site-packages (from jinja2->spaCy) (1.1.1)\n"
     ]
    }
   ],
   "source": [
    "!pip install -U spaCy"
   ]
  },
  {
   "cell_type": "code",
   "execution_count": 3,
   "id": "2d934af1",
   "metadata": {},
   "outputs": [
    {
     "name": "stdout",
     "output_type": "stream",
     "text": [
      "Collecting fr-core-news-md==3.2.0\n",
      "  Downloading https://github.com/explosion/spacy-models/releases/download/fr_core_news_md-3.2.0/fr_core_news_md-3.2.0-py3-none-any.whl (46.9 MB)\n",
      "Requirement already satisfied: spacy<3.3.0,>=3.2.0 in c:\\users\\ycarl\\anaconda\\lib\\site-packages (from fr-core-news-md==3.2.0) (3.2.4)\n",
      "Requirement already satisfied: numpy>=1.15.0 in c:\\users\\ycarl\\anaconda\\lib\\site-packages (from spacy<3.3.0,>=3.2.0->fr-core-news-md==3.2.0) (1.20.3)\n",
      "Requirement already satisfied: jinja2 in c:\\users\\ycarl\\anaconda\\lib\\site-packages (from spacy<3.3.0,>=3.2.0->fr-core-news-md==3.2.0) (2.11.3)\n",
      "Requirement already satisfied: cymem<2.1.0,>=2.0.2 in c:\\users\\ycarl\\anaconda\\lib\\site-packages (from spacy<3.3.0,>=3.2.0->fr-core-news-md==3.2.0) (2.0.6)\n",
      "Requirement already satisfied: murmurhash<1.1.0,>=0.28.0 in c:\\users\\ycarl\\anaconda\\lib\\site-packages (from spacy<3.3.0,>=3.2.0->fr-core-news-md==3.2.0) (1.0.6)\n",
      "Requirement already satisfied: preshed<3.1.0,>=3.0.2 in c:\\users\\ycarl\\anaconda\\lib\\site-packages (from spacy<3.3.0,>=3.2.0->fr-core-news-md==3.2.0) (3.0.6)\n",
      "Requirement already satisfied: blis<0.8.0,>=0.4.0 in c:\\users\\ycarl\\anaconda\\lib\\site-packages (from spacy<3.3.0,>=3.2.0->fr-core-news-md==3.2.0) (0.7.7)\n",
      "Requirement already satisfied: catalogue<2.1.0,>=2.0.6 in c:\\users\\ycarl\\anaconda\\lib\\site-packages (from spacy<3.3.0,>=3.2.0->fr-core-news-md==3.2.0) (2.0.7)\n",
      "Requirement already satisfied: requests<3.0.0,>=2.13.0 in c:\\users\\ycarl\\anaconda\\lib\\site-packages (from spacy<3.3.0,>=3.2.0->fr-core-news-md==3.2.0) (2.26.0)\n",
      "Requirement already satisfied: typer<0.5.0,>=0.3.0 in c:\\users\\ycarl\\anaconda\\lib\\site-packages (from spacy<3.3.0,>=3.2.0->fr-core-news-md==3.2.0) (0.4.0)\n",
      "Requirement already satisfied: pydantic!=1.8,!=1.8.1,<1.9.0,>=1.7.4 in c:\\users\\ycarl\\anaconda\\lib\\site-packages (from spacy<3.3.0,>=3.2.0->fr-core-news-md==3.2.0) (1.8.2)\n",
      "Requirement already satisfied: tqdm<5.0.0,>=4.38.0 in c:\\users\\ycarl\\anaconda\\lib\\site-packages (from spacy<3.3.0,>=3.2.0->fr-core-news-md==3.2.0) (4.62.3)\n",
      "Requirement already satisfied: wasabi<1.1.0,>=0.8.1 in c:\\users\\ycarl\\anaconda\\lib\\site-packages (from spacy<3.3.0,>=3.2.0->fr-core-news-md==3.2.0) (0.9.0)\n",
      "Requirement already satisfied: setuptools in c:\\users\\ycarl\\anaconda\\lib\\site-packages (from spacy<3.3.0,>=3.2.0->fr-core-news-md==3.2.0) (58.0.4)\n",
      "Requirement already satisfied: srsly<3.0.0,>=2.4.1 in c:\\users\\ycarl\\anaconda\\lib\\site-packages (from spacy<3.3.0,>=3.2.0->fr-core-news-md==3.2.0) (2.4.2)\n",
      "Requirement already satisfied: spacy-loggers<2.0.0,>=1.0.0 in c:\\users\\ycarl\\anaconda\\lib\\site-packages (from spacy<3.3.0,>=3.2.0->fr-core-news-md==3.2.0) (1.0.1)\n",
      "Requirement already satisfied: thinc<8.1.0,>=8.0.12 in c:\\users\\ycarl\\anaconda\\lib\\site-packages (from spacy<3.3.0,>=3.2.0->fr-core-news-md==3.2.0) (8.0.15)\n",
      "Requirement already satisfied: langcodes<4.0.0,>=3.2.0 in c:\\users\\ycarl\\anaconda\\lib\\site-packages (from spacy<3.3.0,>=3.2.0->fr-core-news-md==3.2.0) (3.3.0)\n",
      "Requirement already satisfied: spacy-legacy<3.1.0,>=3.0.8 in c:\\users\\ycarl\\anaconda\\lib\\site-packages (from spacy<3.3.0,>=3.2.0->fr-core-news-md==3.2.0) (3.0.9)\n",
      "Requirement already satisfied: click<8.1.0 in c:\\users\\ycarl\\anaconda\\lib\\site-packages (from spacy<3.3.0,>=3.2.0->fr-core-news-md==3.2.0) (8.0.3)\n",
      "Requirement already satisfied: packaging>=20.0 in c:\\users\\ycarl\\anaconda\\lib\\site-packages (from spacy<3.3.0,>=3.2.0->fr-core-news-md==3.2.0) (21.0)\n",
      "Requirement already satisfied: pathy>=0.3.5 in c:\\users\\ycarl\\anaconda\\lib\\site-packages (from spacy<3.3.0,>=3.2.0->fr-core-news-md==3.2.0) (0.6.1)\n",
      "Requirement already satisfied: colorama in c:\\users\\ycarl\\anaconda\\lib\\site-packages (from click<8.1.0->spacy<3.3.0,>=3.2.0->fr-core-news-md==3.2.0) (0.4.4)\n",
      "Requirement already satisfied: pyparsing>=2.0.2 in c:\\users\\ycarl\\anaconda\\lib\\site-packages (from packaging>=20.0->spacy<3.3.0,>=3.2.0->fr-core-news-md==3.2.0) (3.0.4)\n",
      "Requirement already satisfied: smart-open<6.0.0,>=5.0.0 in c:\\users\\ycarl\\anaconda\\lib\\site-packages (from pathy>=0.3.5->spacy<3.3.0,>=3.2.0->fr-core-news-md==3.2.0) (5.2.1)\n",
      "Requirement already satisfied: typing-extensions>=3.7.4.3 in c:\\users\\ycarl\\anaconda\\lib\\site-packages (from pydantic!=1.8,!=1.8.1,<1.9.0,>=1.7.4->spacy<3.3.0,>=3.2.0->fr-core-news-md==3.2.0) (3.10.0.2)\n",
      "Requirement already satisfied: certifi>=2017.4.17 in c:\\users\\ycarl\\anaconda\\lib\\site-packages (from requests<3.0.0,>=2.13.0->spacy<3.3.0,>=3.2.0->fr-core-news-md==3.2.0) (2021.10.8)\n",
      "Requirement already satisfied: idna<4,>=2.5 in c:\\users\\ycarl\\anaconda\\lib\\site-packages (from requests<3.0.0,>=2.13.0->spacy<3.3.0,>=3.2.0->fr-core-news-md==3.2.0) (3.2)\n",
      "Requirement already satisfied: urllib3<1.27,>=1.21.1 in c:\\users\\ycarl\\anaconda\\lib\\site-packages (from requests<3.0.0,>=2.13.0->spacy<3.3.0,>=3.2.0->fr-core-news-md==3.2.0) (1.26.7)\n",
      "Requirement already satisfied: charset-normalizer~=2.0.0 in c:\\users\\ycarl\\anaconda\\lib\\site-packages (from requests<3.0.0,>=2.13.0->spacy<3.3.0,>=3.2.0->fr-core-news-md==3.2.0) (2.0.4)\n",
      "Requirement already satisfied: MarkupSafe>=0.23 in c:\\users\\ycarl\\anaconda\\lib\\site-packages (from jinja2->spacy<3.3.0,>=3.2.0->fr-core-news-md==3.2.0) (1.1.1)\n",
      "[+] Download and installation successful\n",
      "You can now load the package via spacy.load('fr_core_news_md')\n"
     ]
    }
   ],
   "source": [
    "#python -m spacy download fr\n",
    "!python -m spacy download fr_core_news_md\n",
    "#!pip install -U pip setuptools wheel\n",
    "\n"
   ]
  },
  {
   "cell_type": "code",
   "execution_count": null,
   "id": "4aa06eca",
   "metadata": {},
   "outputs": [],
   "source": [
    "#python -m spacy download fr\n",
    "!python -m spacy download fr_dep_news_trf\n",
    "#!pip install -U pip setuptools wheel\n",
    "\n"
   ]
  },
  {
   "cell_type": "code",
   "execution_count": 5,
   "id": "ba003a83",
   "metadata": {},
   "outputs": [],
   "source": [
    "import spacy\n",
    "from spacy import displacy\n",
    "\n",
    "\n",
    "#nlp = spacy.load(\"fr_dep_news_trf\")\n",
    "nlp = spacy.load(\"fr_core_news_md\")\n"
   ]
  },
  {
   "cell_type": "code",
   "execution_count": 6,
   "id": "c908d362",
   "metadata": {},
   "outputs": [
    {
     "name": "stdout",
     "output_type": "stream",
     "text": [
      "Bonjour\t0\tbonjour\tFalse\tFalse\tXxxxx\tNOUN\tNOUN\t\n",
      ",\t7\t,\tTrue\tFalse\t,\tPUNCT\tPUNCT\t\n",
      "je\t9\tje\tFalse\tFalse\txx\tPRON\tPRON\t\n",
      "m'\t12\tme\tFalse\tFalse\tx'\tPRON\tPRON\t\n",
      "appelle\t14\tappeler\tFalse\tFalse\txxxx\tVERB\tVERB\t\n",
      "Cynthia\t22\tCynthia\tFalse\tFalse\tXxxxx\tPROPN\tPROPN\tMISC\n"
     ]
    }
   ],
   "source": [
    "doc = nlp(\"Bonjour, je m'appelle Cynthia\")\n",
    "for token in doc:\n",
    "    print(\"{0}\\t{1}\\t{2}\\t{3}\\t{4}\\t{5}\\t{6}\\t{7}\\t{8}\".format(\n",
    "        token.text,\n",
    "        token.idx,\n",
    "        token.lemma_,\n",
    "        token.is_punct,\n",
    "        token.is_space,\n",
    "        token.shape_,\n",
    "        token.pos_,\n",
    "        token.tag_,\n",
    "        token.ent_type_\n",
    "    ))"
   ]
  },
  {
   "cell_type": "code",
   "execution_count": 1,
   "id": "ac4696f8",
   "metadata": {},
   "outputs": [
    {
     "ename": "NameError",
     "evalue": "name 'pd' is not defined",
     "output_type": "error",
     "traceback": [
      "\u001b[1;31m---------------------------------------------------------------------------\u001b[0m",
      "\u001b[1;31mNameError\u001b[0m                                 Traceback (most recent call last)",
      "\u001b[1;32m<ipython-input-1-0665e1ff9051>\u001b[0m in \u001b[0;36m<module>\u001b[1;34m\u001b[0m\n\u001b[1;32m----> 1\u001b[1;33m \u001b[0mdata\u001b[0m \u001b[1;33m=\u001b[0m \u001b[0mpd\u001b[0m\u001b[1;33m.\u001b[0m\u001b[0mread_excel\u001b[0m\u001b[1;33m(\u001b[0m\u001b[1;34m'fichierQI.xlsx'\u001b[0m\u001b[1;33m)\u001b[0m\u001b[1;33m\u001b[0m\u001b[1;33m\u001b[0m\u001b[0m\n\u001b[0m",
      "\u001b[1;31mNameError\u001b[0m: name 'pd' is not defined"
     ]
    }
   ],
   "source": [
    "data = pd.read_excel('fichierQI.xlsx')"
   ]
  },
  {
   "cell_type": "code",
   "execution_count": null,
   "id": "1befe2df",
   "metadata": {},
   "outputs": [],
   "source": [
    "data.head()"
   ]
  },
  {
   "cell_type": "code",
   "execution_count": 7,
   "id": "6e82f8ff",
   "metadata": {},
   "outputs": [],
   "source": [
    "spacy = pd.DataFrame(columns=['Thématique','Contenu','Date','Heure','Contenu_texte','Numéro du post','Id de l Auteur','Références de l Auteur','Auteur1','text','pos','tag'])"
   ]
  },
  {
   "cell_type": "code",
   "execution_count": 8,
   "id": "5e02691b",
   "metadata": {},
   "outputs": [],
   "source": [
    "ligne=0\n",
    "\n",
    "for j in data['Contenu_texte']:\n",
    "    donnee=data.iloc[ligne]\n",
    "    doc = nlp(j)\n",
    "    for token in doc:\n",
    "        nv_ligne = pd.DataFrame([[donnee['Thématique'], donnee['Contenu'],donnee['Date'],donnee['Heure'], donnee['Contenu_texte'],donnee['Numéro du post'],donnee['Id de l Auteur'],donnee['Références de l Auteur'],donnee['Auteur1'], token.text,token.pos_,token.tag_]],\n",
    "                      columns = spacy.columns)\n",
    "        spacy = spacy.append(nv_ligne, ignore_index=True)    \n",
    "    ligne=ligne+1"
   ]
  },
  {
   "cell_type": "code",
   "execution_count": 9,
   "id": "6b774ff9",
   "metadata": {},
   "outputs": [
    {
     "data": {
      "text/html": [
       "<div>\n",
       "<style scoped>\n",
       "    .dataframe tbody tr th:only-of-type {\n",
       "        vertical-align: middle;\n",
       "    }\n",
       "\n",
       "    .dataframe tbody tr th {\n",
       "        vertical-align: top;\n",
       "    }\n",
       "\n",
       "    .dataframe thead th {\n",
       "        text-align: right;\n",
       "    }\n",
       "</style>\n",
       "<table border=\"1\" class=\"dataframe\">\n",
       "  <thead>\n",
       "    <tr style=\"text-align: right;\">\n",
       "      <th></th>\n",
       "      <th>Thématique</th>\n",
       "      <th>Contenu</th>\n",
       "      <th>Date</th>\n",
       "      <th>Heure</th>\n",
       "      <th>Contenu_texte</th>\n",
       "      <th>Numéro du post</th>\n",
       "      <th>Id de l Auteur</th>\n",
       "      <th>Références de l Auteur</th>\n",
       "      <th>Auteur1</th>\n",
       "      <th>text</th>\n",
       "      <th>pos</th>\n",
       "      <th>tag</th>\n",
       "    </tr>\n",
       "  </thead>\n",
       "  <tbody>\n",
       "    <tr>\n",
       "      <th>0</th>\n",
       "      <td>Quotient intellectuel</td>\n",
       "      <td>&lt;post n=\"0\" when-iso=\"2004-04-30T00:53\" who=\"p...</td>\n",
       "      <td>2004-04-30</td>\n",
       "      <td>00:53:00</td>\n",
       "      <td>Je viens de réécrire la page qui contenait de ...</td>\n",
       "      <td>0</td>\n",
       "      <td>cmr-wiki-c001-a1</td>\n",
       "      <td>NaN</td>\n",
       "      <td>psn:cmr-wikiconflits-p1723</td>\n",
       "      <td>Je</td>\n",
       "      <td>PRON</td>\n",
       "      <td>PRON</td>\n",
       "    </tr>\n",
       "    <tr>\n",
       "      <th>1</th>\n",
       "      <td>Quotient intellectuel</td>\n",
       "      <td>&lt;post n=\"0\" when-iso=\"2004-04-30T00:53\" who=\"p...</td>\n",
       "      <td>2004-04-30</td>\n",
       "      <td>00:53:00</td>\n",
       "      <td>Je viens de réécrire la page qui contenait de ...</td>\n",
       "      <td>0</td>\n",
       "      <td>cmr-wiki-c001-a1</td>\n",
       "      <td>NaN</td>\n",
       "      <td>psn:cmr-wikiconflits-p1723</td>\n",
       "      <td>viens</td>\n",
       "      <td>VERB</td>\n",
       "      <td>VERB</td>\n",
       "    </tr>\n",
       "    <tr>\n",
       "      <th>2</th>\n",
       "      <td>Quotient intellectuel</td>\n",
       "      <td>&lt;post n=\"0\" when-iso=\"2004-04-30T00:53\" who=\"p...</td>\n",
       "      <td>2004-04-30</td>\n",
       "      <td>00:53:00</td>\n",
       "      <td>Je viens de réécrire la page qui contenait de ...</td>\n",
       "      <td>0</td>\n",
       "      <td>cmr-wiki-c001-a1</td>\n",
       "      <td>NaN</td>\n",
       "      <td>psn:cmr-wikiconflits-p1723</td>\n",
       "      <td>de</td>\n",
       "      <td>ADP</td>\n",
       "      <td>ADP</td>\n",
       "    </tr>\n",
       "    <tr>\n",
       "      <th>3</th>\n",
       "      <td>Quotient intellectuel</td>\n",
       "      <td>&lt;post n=\"0\" when-iso=\"2004-04-30T00:53\" who=\"p...</td>\n",
       "      <td>2004-04-30</td>\n",
       "      <td>00:53:00</td>\n",
       "      <td>Je viens de réécrire la page qui contenait de ...</td>\n",
       "      <td>0</td>\n",
       "      <td>cmr-wiki-c001-a1</td>\n",
       "      <td>NaN</td>\n",
       "      <td>psn:cmr-wikiconflits-p1723</td>\n",
       "      <td>réécrire</td>\n",
       "      <td>VERB</td>\n",
       "      <td>VERB</td>\n",
       "    </tr>\n",
       "    <tr>\n",
       "      <th>4</th>\n",
       "      <td>Quotient intellectuel</td>\n",
       "      <td>&lt;post n=\"0\" when-iso=\"2004-04-30T00:53\" who=\"p...</td>\n",
       "      <td>2004-04-30</td>\n",
       "      <td>00:53:00</td>\n",
       "      <td>Je viens de réécrire la page qui contenait de ...</td>\n",
       "      <td>0</td>\n",
       "      <td>cmr-wiki-c001-a1</td>\n",
       "      <td>NaN</td>\n",
       "      <td>psn:cmr-wikiconflits-p1723</td>\n",
       "      <td>la</td>\n",
       "      <td>DET</td>\n",
       "      <td>DET</td>\n",
       "    </tr>\n",
       "  </tbody>\n",
       "</table>\n",
       "</div>"
      ],
      "text/plain": [
       "              Thématique                                            Contenu  \\\n",
       "0  Quotient intellectuel  <post n=\"0\" when-iso=\"2004-04-30T00:53\" who=\"p...   \n",
       "1  Quotient intellectuel  <post n=\"0\" when-iso=\"2004-04-30T00:53\" who=\"p...   \n",
       "2  Quotient intellectuel  <post n=\"0\" when-iso=\"2004-04-30T00:53\" who=\"p...   \n",
       "3  Quotient intellectuel  <post n=\"0\" when-iso=\"2004-04-30T00:53\" who=\"p...   \n",
       "4  Quotient intellectuel  <post n=\"0\" when-iso=\"2004-04-30T00:53\" who=\"p...   \n",
       "\n",
       "        Date     Heure                                      Contenu_texte  \\\n",
       "0 2004-04-30  00:53:00  Je viens de réécrire la page qui contenait de ...   \n",
       "1 2004-04-30  00:53:00  Je viens de réécrire la page qui contenait de ...   \n",
       "2 2004-04-30  00:53:00  Je viens de réécrire la page qui contenait de ...   \n",
       "3 2004-04-30  00:53:00  Je viens de réécrire la page qui contenait de ...   \n",
       "4 2004-04-30  00:53:00  Je viens de réécrire la page qui contenait de ...   \n",
       "\n",
       "  Numéro du post    Id de l Auteur Références de l Auteur  \\\n",
       "0              0  cmr-wiki-c001-a1                    NaN   \n",
       "1              0  cmr-wiki-c001-a1                    NaN   \n",
       "2              0  cmr-wiki-c001-a1                    NaN   \n",
       "3              0  cmr-wiki-c001-a1                    NaN   \n",
       "4              0  cmr-wiki-c001-a1                    NaN   \n",
       "\n",
       "                      Auteur1      text   pos   tag  \n",
       "0  psn:cmr-wikiconflits-p1723        Je  PRON  PRON  \n",
       "1  psn:cmr-wikiconflits-p1723     viens  VERB  VERB  \n",
       "2  psn:cmr-wikiconflits-p1723        de   ADP   ADP  \n",
       "3  psn:cmr-wikiconflits-p1723  réécrire  VERB  VERB  \n",
       "4  psn:cmr-wikiconflits-p1723        la   DET   DET  "
      ]
     },
     "execution_count": 9,
     "metadata": {},
     "output_type": "execute_result"
    }
   ],
   "source": [
    "spacy.head(5)"
   ]
  },
  {
   "cell_type": "code",
   "execution_count": 10,
   "id": "cb3e58d4",
   "metadata": {},
   "outputs": [],
   "source": [
    "spacy.to_excel('data_QI_Spacy.xlsx',\n",
    "           encoding = 'utf-8',\n",
    "           header = True)"
   ]
  },
  {
   "cell_type": "code",
   "execution_count": null,
   "id": "6bd702b0",
   "metadata": {},
   "outputs": [],
   "source": []
  }
 ],
 "metadata": {
  "kernelspec": {
   "display_name": "Python 3",
   "language": "python",
   "name": "python3"
  },
  "language_info": {
   "codemirror_mode": {
    "name": "ipython",
    "version": 3
   },
   "file_extension": ".py",
   "mimetype": "text/x-python",
   "name": "python",
   "nbconvert_exporter": "python",
   "pygments_lexer": "ipython3",
   "version": "3.8.8"
  }
 },
 "nbformat": 4,
 "nbformat_minor": 5
}
