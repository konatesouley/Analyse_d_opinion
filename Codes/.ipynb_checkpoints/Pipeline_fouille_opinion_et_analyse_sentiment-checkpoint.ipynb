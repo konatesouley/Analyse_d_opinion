{
 "cells": [
  {
   "cell_type": "code",
   "execution_count": 128,
   "id": "a9888af7",
   "metadata": {},
   "outputs": [],
   "source": [
    "import pandas as pd\n",
    "import matplotlib.pyplot as plt\n",
    "import numpy as np\n",
    "from afinn import Afinn \n",
    "import spacy\n",
    "from nltk.tokenize import sent_tokenize\n",
    "from nltk.tokenize import word_tokenize\n",
    "import re\n",
    "from spacy.lang.fr.stop_words import STOP_WORDS\n",
    "import string\n",
    "from textblob import Blobber\n",
    "from textblob_fr import PatternTagger, PatternAnalyzer\n",
    "tb = Blobber(pos_tagger=PatternTagger(), analyzer=PatternAnalyzer())\n",
    "import plotly.graph_objects as go\n",
    "import plotly.express as px\n"
   ]
  },
  {
   "cell_type": "code",
   "execution_count": 129,
   "id": "1c82abba",
   "metadata": {},
   "outputs": [],
   "source": [
    "df = pd.read_csv(\"C://Users//ganci//Documents//master_miashs sans TER//Analyse de données textuelles//Projet//Analyse_d_opinion//Données//corpus_bogdanof.csv\")"
   ]
  },
  {
   "cell_type": "code",
   "execution_count": 130,
   "id": "06b50869",
   "metadata": {},
   "outputs": [
    {
     "data": {
      "text/html": [
       "<div>\n",
       "<style scoped>\n",
       "    .dataframe tbody tr th:only-of-type {\n",
       "        vertical-align: middle;\n",
       "    }\n",
       "\n",
       "    .dataframe tbody tr th {\n",
       "        vertical-align: top;\n",
       "    }\n",
       "\n",
       "    .dataframe thead th {\n",
       "        text-align: right;\n",
       "    }\n",
       "</style>\n",
       "<table border=\"1\" class=\"dataframe\">\n",
       "  <thead>\n",
       "    <tr style=\"text-align: right;\">\n",
       "      <th></th>\n",
       "      <th>Unnamed: 0</th>\n",
       "      <th>post</th>\n",
       "      <th>sujet</th>\n",
       "    </tr>\n",
       "  </thead>\n",
       "  <tbody>\n",
       "    <tr>\n",
       "      <th>0</th>\n",
       "      <td>0</td>\n",
       "      <td>\\nPour corriger les passages tendancieux, je p...</td>\n",
       "      <td>frerebogdanof_travaux</td>\n",
       "    </tr>\n",
       "    <tr>\n",
       "      <th>1</th>\n",
       "      <td>1</td>\n",
       "      <td>\\nAssez d'accord.\\nJ'ai fait quelques reformul...</td>\n",
       "      <td>frerebogdanof_travaux</td>\n",
       "    </tr>\n",
       "    <tr>\n",
       "      <th>2</th>\n",
       "      <td>2</td>\n",
       "      <td>\\nIl semble bien que le drame soit plus autour...</td>\n",
       "      <td>frerebogdanof_travaux</td>\n",
       "    </tr>\n",
       "    <tr>\n",
       "      <th>3</th>\n",
       "      <td>3</td>\n",
       "      <td>\\nJe suis aussi d'accord pour dire qu'il y atr...</td>\n",
       "      <td>frerebogdanof_travaux</td>\n",
       "    </tr>\n",
       "    <tr>\n",
       "      <th>4</th>\n",
       "      <td>4</td>\n",
       "      <td>\\nJe vois pas trop le dÃ©bat avancer. Ne serai...</td>\n",
       "      <td>frerebogdanof_travaux</td>\n",
       "    </tr>\n",
       "    <tr>\n",
       "      <th>...</th>\n",
       "      <td>...</td>\n",
       "      <td>...</td>\n",
       "      <td>...</td>\n",
       "    </tr>\n",
       "    <tr>\n",
       "      <th>271</th>\n",
       "      <td>271</td>\n",
       "      <td>\\n\\nEn effet , pas très encyclopédique et pas ...</td>\n",
       "      <td>frerebogdanof_travaux</td>\n",
       "    </tr>\n",
       "    <tr>\n",
       "      <th>272</th>\n",
       "      <td>272</td>\n",
       "      <td>\\n\\nJe trouve l'article assez faible, surtout ...</td>\n",
       "      <td>frerebogdanof_travaux</td>\n",
       "    </tr>\n",
       "    <tr>\n",
       "      <th>273</th>\n",
       "      <td>273</td>\n",
       "      <td>\\n\\nPour information : Sylvestre Huet, «\\nUn c...</td>\n",
       "      <td>frerebogdanof_travaux</td>\n",
       "    </tr>\n",
       "    <tr>\n",
       "      <th>274</th>\n",
       "      <td>274</td>\n",
       "      <td>\\n\\n\\n\\nSalut tout le monde,\\n\\nDans l'interve...</td>\n",
       "      <td>frerebogdanof_travaux</td>\n",
       "    </tr>\n",
       "    <tr>\n",
       "      <th>275</th>\n",
       "      <td>275</td>\n",
       "      <td>\\n\\nUne série de vidéo, présentent sur youtube...</td>\n",
       "      <td>frerebogdanof_travaux</td>\n",
       "    </tr>\n",
       "  </tbody>\n",
       "</table>\n",
       "<p>276 rows × 3 columns</p>\n",
       "</div>"
      ],
      "text/plain": [
       "     Unnamed: 0                                               post  \\\n",
       "0             0  \\nPour corriger les passages tendancieux, je p...   \n",
       "1             1  \\nAssez d'accord.\\nJ'ai fait quelques reformul...   \n",
       "2             2  \\nIl semble bien que le drame soit plus autour...   \n",
       "3             3  \\nJe suis aussi d'accord pour dire qu'il y atr...   \n",
       "4             4  \\nJe vois pas trop le dÃ©bat avancer. Ne serai...   \n",
       "..          ...                                                ...   \n",
       "271         271  \\n\\nEn effet , pas très encyclopédique et pas ...   \n",
       "272         272  \\n\\nJe trouve l'article assez faible, surtout ...   \n",
       "273         273  \\n\\nPour information : Sylvestre Huet, «\\nUn c...   \n",
       "274         274  \\n\\n\\n\\nSalut tout le monde,\\n\\nDans l'interve...   \n",
       "275         275  \\n\\nUne série de vidéo, présentent sur youtube...   \n",
       "\n",
       "                     sujet  \n",
       "0    frerebogdanof_travaux  \n",
       "1    frerebogdanof_travaux  \n",
       "2    frerebogdanof_travaux  \n",
       "3    frerebogdanof_travaux  \n",
       "4    frerebogdanof_travaux  \n",
       "..                     ...  \n",
       "271  frerebogdanof_travaux  \n",
       "272  frerebogdanof_travaux  \n",
       "273  frerebogdanof_travaux  \n",
       "274  frerebogdanof_travaux  \n",
       "275  frerebogdanof_travaux  \n",
       "\n",
       "[276 rows x 3 columns]"
      ]
     },
     "execution_count": 130,
     "metadata": {},
     "output_type": "execute_result"
    }
   ],
   "source": [
    "df"
   ]
  },
  {
   "cell_type": "code",
   "execution_count": 131,
   "id": "5d886bbb",
   "metadata": {},
   "outputs": [],
   "source": [
    "df = df.replace(to_replace='\\n', value='', regex=True)"
   ]
  },
  {
   "cell_type": "code",
   "execution_count": 132,
   "id": "3bc2d4cc",
   "metadata": {},
   "outputs": [],
   "source": [
    "df = df.replace(to_replace='Ã©', value='é', regex=True)"
   ]
  },
  {
   "cell_type": "code",
   "execution_count": 133,
   "id": "b2dba271",
   "metadata": {},
   "outputs": [
    {
     "data": {
      "text/html": [
       "<div>\n",
       "<style scoped>\n",
       "    .dataframe tbody tr th:only-of-type {\n",
       "        vertical-align: middle;\n",
       "    }\n",
       "\n",
       "    .dataframe tbody tr th {\n",
       "        vertical-align: top;\n",
       "    }\n",
       "\n",
       "    .dataframe thead th {\n",
       "        text-align: right;\n",
       "    }\n",
       "</style>\n",
       "<table border=\"1\" class=\"dataframe\">\n",
       "  <thead>\n",
       "    <tr style=\"text-align: right;\">\n",
       "      <th></th>\n",
       "      <th>post</th>\n",
       "      <th>sujet</th>\n",
       "    </tr>\n",
       "  </thead>\n",
       "  <tbody>\n",
       "    <tr>\n",
       "      <th>0</th>\n",
       "      <td>Pour corriger les passages tendancieux, je pro...</td>\n",
       "      <td>frerebogdanof_travaux</td>\n",
       "    </tr>\n",
       "    <tr>\n",
       "      <th>1</th>\n",
       "      <td>Assez d'accord.J'ai fait quelques reformulatio...</td>\n",
       "      <td>frerebogdanof_travaux</td>\n",
       "    </tr>\n",
       "    <tr>\n",
       "      <th>2</th>\n",
       "      <td>Il semble bien que le drame soit plus autour d...</td>\n",
       "      <td>frerebogdanof_travaux</td>\n",
       "    </tr>\n",
       "    <tr>\n",
       "      <th>3</th>\n",
       "      <td>Je suis aussi d'accord pour dire qu'il y atrop...</td>\n",
       "      <td>frerebogdanof_travaux</td>\n",
       "    </tr>\n",
       "    <tr>\n",
       "      <th>4</th>\n",
       "      <td>Je vois pas trop le débat avancer. Ne serait-i...</td>\n",
       "      <td>frerebogdanof_travaux</td>\n",
       "    </tr>\n",
       "    <tr>\n",
       "      <th>...</th>\n",
       "      <td>...</td>\n",
       "      <td>...</td>\n",
       "    </tr>\n",
       "    <tr>\n",
       "      <th>271</th>\n",
       "      <td>En effet , pas très encyclopédique et pas très...</td>\n",
       "      <td>frerebogdanof_travaux</td>\n",
       "    </tr>\n",
       "    <tr>\n",
       "      <th>272</th>\n",
       "      <td>Je trouve l'article assez faible, surtout par ...</td>\n",
       "      <td>frerebogdanof_travaux</td>\n",
       "    </tr>\n",
       "    <tr>\n",
       "      <th>273</th>\n",
       "      <td>Pour information : Sylvestre Huet, «Un curieux...</td>\n",
       "      <td>frerebogdanof_travaux</td>\n",
       "    </tr>\n",
       "    <tr>\n",
       "      <th>274</th>\n",
       "      <td>Salut tout le monde,Dans l'intervention ci-des...</td>\n",
       "      <td>frerebogdanof_travaux</td>\n",
       "    </tr>\n",
       "    <tr>\n",
       "      <th>275</th>\n",
       "      <td>Une série de vidéo, présentent sur youtube au ...</td>\n",
       "      <td>frerebogdanof_travaux</td>\n",
       "    </tr>\n",
       "  </tbody>\n",
       "</table>\n",
       "<p>276 rows × 2 columns</p>\n",
       "</div>"
      ],
      "text/plain": [
       "                                                  post                  sujet\n",
       "0    Pour corriger les passages tendancieux, je pro...  frerebogdanof_travaux\n",
       "1    Assez d'accord.J'ai fait quelques reformulatio...  frerebogdanof_travaux\n",
       "2    Il semble bien que le drame soit plus autour d...  frerebogdanof_travaux\n",
       "3    Je suis aussi d'accord pour dire qu'il y atrop...  frerebogdanof_travaux\n",
       "4    Je vois pas trop le débat avancer. Ne serait-i...  frerebogdanof_travaux\n",
       "..                                                 ...                    ...\n",
       "271  En effet , pas très encyclopédique et pas très...  frerebogdanof_travaux\n",
       "272  Je trouve l'article assez faible, surtout par ...  frerebogdanof_travaux\n",
       "273  Pour information : Sylvestre Huet, «Un curieux...  frerebogdanof_travaux\n",
       "274  Salut tout le monde,Dans l'intervention ci-des...  frerebogdanof_travaux\n",
       "275  Une série de vidéo, présentent sur youtube au ...  frerebogdanof_travaux\n",
       "\n",
       "[276 rows x 2 columns]"
      ]
     },
     "execution_count": 133,
     "metadata": {},
     "output_type": "execute_result"
    }
   ],
   "source": [
    "df= df.drop(['Unnamed: 0'],axis=1)\n",
    "df"
   ]
  },
  {
   "cell_type": "code",
   "execution_count": 134,
   "id": "c2969a5b",
   "metadata": {},
   "outputs": [
    {
     "data": {
      "text/html": [
       "<div>\n",
       "<style scoped>\n",
       "    .dataframe tbody tr th:only-of-type {\n",
       "        vertical-align: middle;\n",
       "    }\n",
       "\n",
       "    .dataframe tbody tr th {\n",
       "        vertical-align: top;\n",
       "    }\n",
       "\n",
       "    .dataframe thead th {\n",
       "        text-align: right;\n",
       "    }\n",
       "</style>\n",
       "<table border=\"1\" class=\"dataframe\">\n",
       "  <thead>\n",
       "    <tr style=\"text-align: right;\">\n",
       "      <th></th>\n",
       "      <th>column_name</th>\n",
       "      <th>percentage</th>\n",
       "    </tr>\n",
       "  </thead>\n",
       "  <tbody>\n",
       "    <tr>\n",
       "      <th>0</th>\n",
       "      <td>post</td>\n",
       "      <td>0.0</td>\n",
       "    </tr>\n",
       "    <tr>\n",
       "      <th>1</th>\n",
       "      <td>sujet</td>\n",
       "      <td>0.0</td>\n",
       "    </tr>\n",
       "  </tbody>\n",
       "</table>\n",
       "</div>"
      ],
      "text/plain": [
       "  column_name  percentage\n",
       "0        post         0.0\n",
       "1       sujet         0.0"
      ]
     },
     "execution_count": 134,
     "metadata": {},
     "output_type": "execute_result"
    }
   ],
   "source": [
    "NAN = [(c, df[c].isna().mean()*100) for c in df]\n",
    "NAN = pd.DataFrame(NAN, columns=[\"column_name\", \"percentage\"])\n",
    "NAN.sort_values(\"percentage\", ascending=False)"
   ]
  },
  {
   "cell_type": "code",
   "execution_count": 135,
   "id": "739c9c6e",
   "metadata": {},
   "outputs": [],
   "source": [
    "df[\"post\"]= df[\"post\"].str.lower()"
   ]
  },
  {
   "cell_type": "code",
   "execution_count": 136,
   "id": "41a12c15",
   "metadata": {},
   "outputs": [],
   "source": [
    "dfspacy = df[[\"post\",\"sujet\"]]"
   ]
  },
  {
   "cell_type": "code",
   "execution_count": null,
   "id": "c9dc704c",
   "metadata": {},
   "outputs": [],
   "source": []
  },
  {
   "cell_type": "markdown",
   "id": "58119f7d",
   "metadata": {},
   "source": [
    "## tokenisation des poste"
   ]
  },
  {
   "cell_type": "code",
   "execution_count": 137,
   "id": "cee15401",
   "metadata": {},
   "outputs": [],
   "source": [
    "tokenpost=[]\n",
    "for comment in df[\"post\"].apply(str):\n",
    "    Word_Tok = []\n",
    "    for word in  re.sub(\"\\W\",\" \",comment ).split():\n",
    "        Word_Tok.append(word)\n",
    "    tokenpost.append(Word_Tok)\n"
   ]
  },
  {
   "cell_type": "code",
   "execution_count": 139,
   "id": "3f718daf",
   "metadata": {},
   "outputs": [
    {
     "data": {
      "text/html": [
       "<div>\n",
       "<style scoped>\n",
       "    .dataframe tbody tr th:only-of-type {\n",
       "        vertical-align: middle;\n",
       "    }\n",
       "\n",
       "    .dataframe tbody tr th {\n",
       "        vertical-align: top;\n",
       "    }\n",
       "\n",
       "    .dataframe thead th {\n",
       "        text-align: right;\n",
       "    }\n",
       "</style>\n",
       "<table border=\"1\" class=\"dataframe\">\n",
       "  <thead>\n",
       "    <tr style=\"text-align: right;\">\n",
       "      <th></th>\n",
       "      <th>post</th>\n",
       "      <th>sujet</th>\n",
       "      <th>tokenpost</th>\n",
       "    </tr>\n",
       "  </thead>\n",
       "  <tbody>\n",
       "    <tr>\n",
       "      <th>0</th>\n",
       "      <td>pour corriger les passages tendancieux, je pro...</td>\n",
       "      <td>frerebogdanof_travaux</td>\n",
       "      <td>[pour, corriger, les, passages, tendancieux, j...</td>\n",
       "    </tr>\n",
       "    <tr>\n",
       "      <th>1</th>\n",
       "      <td>assez d'accord.j'ai fait quelques reformulatio...</td>\n",
       "      <td>frerebogdanof_travaux</td>\n",
       "      <td>[assez, d, accord, j, ai, fait, quelques, refo...</td>\n",
       "    </tr>\n",
       "    <tr>\n",
       "      <th>2</th>\n",
       "      <td>il semble bien que le drame soit plus autour d...</td>\n",
       "      <td>frerebogdanof_travaux</td>\n",
       "      <td>[il, semble, bien, que, le, drame, soit, plus,...</td>\n",
       "    </tr>\n",
       "    <tr>\n",
       "      <th>3</th>\n",
       "      <td>je suis aussi d'accord pour dire qu'il y atrop...</td>\n",
       "      <td>frerebogdanof_travaux</td>\n",
       "      <td>[je, suis, aussi, d, accord, pour, dire, qu, i...</td>\n",
       "    </tr>\n",
       "    <tr>\n",
       "      <th>4</th>\n",
       "      <td>je vois pas trop le débat avancer. ne serait-i...</td>\n",
       "      <td>frerebogdanof_travaux</td>\n",
       "      <td>[je, vois, pas, trop, le, débat, avancer, ne, ...</td>\n",
       "    </tr>\n",
       "  </tbody>\n",
       "</table>\n",
       "</div>"
      ],
      "text/plain": [
       "                                                post                  sujet  \\\n",
       "0  pour corriger les passages tendancieux, je pro...  frerebogdanof_travaux   \n",
       "1  assez d'accord.j'ai fait quelques reformulatio...  frerebogdanof_travaux   \n",
       "2  il semble bien que le drame soit plus autour d...  frerebogdanof_travaux   \n",
       "3  je suis aussi d'accord pour dire qu'il y atrop...  frerebogdanof_travaux   \n",
       "4  je vois pas trop le débat avancer. ne serait-i...  frerebogdanof_travaux   \n",
       "\n",
       "                                           tokenpost  \n",
       "0  [pour, corriger, les, passages, tendancieux, j...  \n",
       "1  [assez, d, accord, j, ai, fait, quelques, refo...  \n",
       "2  [il, semble, bien, que, le, drame, soit, plus,...  \n",
       "3  [je, suis, aussi, d, accord, pour, dire, qu, i...  \n",
       "4  [je, vois, pas, trop, le, débat, avancer, ne, ...  "
      ]
     },
     "execution_count": 139,
     "metadata": {},
     "output_type": "execute_result"
    }
   ],
   "source": [
    "df[\"tokenpost\"]= tokenpost\n",
    "df.head()"
   ]
  },
  {
   "cell_type": "markdown",
   "id": "0ce05acb",
   "metadata": {},
   "source": [
    "## Suppression des negations avec le stopwords de spacy"
   ]
  },
  {
   "cell_type": "code",
   "execution_count": 140,
   "id": "0547ab2e",
   "metadata": {},
   "outputs": [],
   "source": [
    "stop_words=set(STOP_WORDS)\n",
    "\n",
    "## supression des mots de negations de mots vide afin(important pour la suite de l'analyse de sentement)\n",
    "deselect_stop_words = ['n\\'', 'ne','pas','plus','personne','aucun','ni','aucune','rien']\n",
    "for w in deselect_stop_words:\n",
    "    if w in stop_words:\n",
    "        stop_words.remove(w)\n",
    "    else:\n",
    "        continue"
   ]
  },
  {
   "cell_type": "markdown",
   "id": "8edb55e4",
   "metadata": {},
   "source": [
    "### suppression de mots vides de sens "
   ]
  },
  {
   "cell_type": "code",
   "execution_count": 141,
   "id": "ed082b45",
   "metadata": {},
   "outputs": [],
   "source": [
    "postfiltre=[]\n",
    "for comment in df[\"tokenpost\"]:\n",
    "    filteredComment = [w for w in comment if not ((w in stop_words) or (len(w) == 1))]\n",
    "    postfiltre.append(' '.join(filteredComment))"
   ]
  },
  {
   "cell_type": "code",
   "execution_count": 142,
   "id": "b411b762",
   "metadata": {},
   "outputs": [
    {
     "data": {
      "text/html": [
       "<div>\n",
       "<style scoped>\n",
       "    .dataframe tbody tr th:only-of-type {\n",
       "        vertical-align: middle;\n",
       "    }\n",
       "\n",
       "    .dataframe tbody tr th {\n",
       "        vertical-align: top;\n",
       "    }\n",
       "\n",
       "    .dataframe thead th {\n",
       "        text-align: right;\n",
       "    }\n",
       "</style>\n",
       "<table border=\"1\" class=\"dataframe\">\n",
       "  <thead>\n",
       "    <tr style=\"text-align: right;\">\n",
       "      <th></th>\n",
       "      <th>post</th>\n",
       "      <th>sujet</th>\n",
       "      <th>tokenpost</th>\n",
       "      <th>postfinal</th>\n",
       "    </tr>\n",
       "  </thead>\n",
       "  <tbody>\n",
       "    <tr>\n",
       "      <th>0</th>\n",
       "      <td>pour corriger les passages tendancieux, je pro...</td>\n",
       "      <td>frerebogdanof_travaux</td>\n",
       "      <td>[pour, corriger, les, passages, tendancieux, j...</td>\n",
       "      <td>corriger passages tendancieux propose modifica...</td>\n",
       "    </tr>\n",
       "    <tr>\n",
       "      <th>1</th>\n",
       "      <td>assez d'accord.j'ai fait quelques reformulatio...</td>\n",
       "      <td>frerebogdanof_travaux</td>\n",
       "      <td>[assez, d, accord, j, ai, fait, quelques, refo...</td>\n",
       "      <td>accord reformulations sens pas fin compte arti...</td>\n",
       "    </tr>\n",
       "    <tr>\n",
       "      <th>2</th>\n",
       "      <td>il semble bien que le drame soit plus autour d...</td>\n",
       "      <td>frerebogdanof_travaux</td>\n",
       "      <td>[il, semble, bien, que, le, drame, soit, plus,...</td>\n",
       "      <td>bien drame plus autour article mãªme lignes ré...</td>\n",
       "    </tr>\n",
       "    <tr>\n",
       "      <th>3</th>\n",
       "      <td>je suis aussi d'accord pour dire qu'il y atrop...</td>\n",
       "      <td>frerebogdanof_travaux</td>\n",
       "      <td>[je, suis, aussi, d, accord, pour, dire, qu, i...</td>\n",
       "      <td>accord qu atrop anti bogdanov page non signé 7...</td>\n",
       "    </tr>\n",
       "    <tr>\n",
       "      <th>4</th>\n",
       "      <td>je vois pas trop le débat avancer. ne serait-i...</td>\n",
       "      <td>frerebogdanof_travaux</td>\n",
       "      <td>[je, vois, pas, trop, le, débat, avancer, ne, ...</td>\n",
       "      <td>vois pas trop débat avancer ne pas temps clore...</td>\n",
       "    </tr>\n",
       "    <tr>\n",
       "      <th>...</th>\n",
       "      <td>...</td>\n",
       "      <td>...</td>\n",
       "      <td>...</td>\n",
       "      <td>...</td>\n",
       "    </tr>\n",
       "    <tr>\n",
       "      <th>271</th>\n",
       "      <td>en effet , pas très encyclopédique et pas très...</td>\n",
       "      <td>frerebogdanof_travaux</td>\n",
       "      <td>[en, effet, pas, très, encyclopédique, et, pas...</td>\n",
       "      <td>pas encyclopédique pas neutre article viking59...</td>\n",
       "    </tr>\n",
       "    <tr>\n",
       "      <th>272</th>\n",
       "      <td>je trouve l'article assez faible, surtout par ...</td>\n",
       "      <td>frerebogdanof_travaux</td>\n",
       "      <td>[je, trouve, l, article, assez, faible, surtou...</td>\n",
       "      <td>trouve article faible rapport équivalent angla...</td>\n",
       "    </tr>\n",
       "    <tr>\n",
       "      <th>273</th>\n",
       "      <td>pour information : sylvestre huet, «un curieux...</td>\n",
       "      <td>frerebogdanof_travaux</td>\n",
       "      <td>[pour, information, sylvestre, huet, un, curie...</td>\n",
       "      <td>information sylvestre huet curieux jugement fr...</td>\n",
       "    </tr>\n",
       "    <tr>\n",
       "      <th>274</th>\n",
       "      <td>salut tout le monde,dans l'intervention ci-des...</td>\n",
       "      <td>frerebogdanof_travaux</td>\n",
       "      <td>[salut, tout, le, monde, dans, l, intervention...</td>\n",
       "      <td>salut monde intervention réalité travaux ignor...</td>\n",
       "    </tr>\n",
       "    <tr>\n",
       "      <th>275</th>\n",
       "      <td>une série de vidéo, présentent sur youtube au ...</td>\n",
       "      <td>frerebogdanof_travaux</td>\n",
       "      <td>[une, série, de, vidéo, présentent, sur, youtu...</td>\n",
       "      <td>série vidéo présentent youtube lien suivanthtt...</td>\n",
       "    </tr>\n",
       "  </tbody>\n",
       "</table>\n",
       "<p>276 rows × 4 columns</p>\n",
       "</div>"
      ],
      "text/plain": [
       "                                                  post                  sujet  \\\n",
       "0    pour corriger les passages tendancieux, je pro...  frerebogdanof_travaux   \n",
       "1    assez d'accord.j'ai fait quelques reformulatio...  frerebogdanof_travaux   \n",
       "2    il semble bien que le drame soit plus autour d...  frerebogdanof_travaux   \n",
       "3    je suis aussi d'accord pour dire qu'il y atrop...  frerebogdanof_travaux   \n",
       "4    je vois pas trop le débat avancer. ne serait-i...  frerebogdanof_travaux   \n",
       "..                                                 ...                    ...   \n",
       "271  en effet , pas très encyclopédique et pas très...  frerebogdanof_travaux   \n",
       "272  je trouve l'article assez faible, surtout par ...  frerebogdanof_travaux   \n",
       "273  pour information : sylvestre huet, «un curieux...  frerebogdanof_travaux   \n",
       "274  salut tout le monde,dans l'intervention ci-des...  frerebogdanof_travaux   \n",
       "275  une série de vidéo, présentent sur youtube au ...  frerebogdanof_travaux   \n",
       "\n",
       "                                             tokenpost  \\\n",
       "0    [pour, corriger, les, passages, tendancieux, j...   \n",
       "1    [assez, d, accord, j, ai, fait, quelques, refo...   \n",
       "2    [il, semble, bien, que, le, drame, soit, plus,...   \n",
       "3    [je, suis, aussi, d, accord, pour, dire, qu, i...   \n",
       "4    [je, vois, pas, trop, le, débat, avancer, ne, ...   \n",
       "..                                                 ...   \n",
       "271  [en, effet, pas, très, encyclopédique, et, pas...   \n",
       "272  [je, trouve, l, article, assez, faible, surtou...   \n",
       "273  [pour, information, sylvestre, huet, un, curie...   \n",
       "274  [salut, tout, le, monde, dans, l, intervention...   \n",
       "275  [une, série, de, vidéo, présentent, sur, youtu...   \n",
       "\n",
       "                                             postfinal  \n",
       "0    corriger passages tendancieux propose modifica...  \n",
       "1    accord reformulations sens pas fin compte arti...  \n",
       "2    bien drame plus autour article mãªme lignes ré...  \n",
       "3    accord qu atrop anti bogdanov page non signé 7...  \n",
       "4    vois pas trop débat avancer ne pas temps clore...  \n",
       "..                                                 ...  \n",
       "271  pas encyclopédique pas neutre article viking59...  \n",
       "272  trouve article faible rapport équivalent angla...  \n",
       "273  information sylvestre huet curieux jugement fr...  \n",
       "274  salut monde intervention réalité travaux ignor...  \n",
       "275  série vidéo présentent youtube lien suivanthtt...  \n",
       "\n",
       "[276 rows x 4 columns]"
      ]
     },
     "execution_count": 142,
     "metadata": {},
     "output_type": "execute_result"
    }
   ],
   "source": [
    "df[\"postfinal\"]=postfiltre\n",
    "df"
   ]
  },
  {
   "cell_type": "markdown",
   "id": "4d128561",
   "metadata": {},
   "source": [
    "# Analyse de sentiment par documents"
   ]
  },
  {
   "cell_type": "code",
   "execution_count": 111,
   "id": "ba2e89c7",
   "metadata": {},
   "outputs": [],
   "source": [
    "senti_list = []\n",
    "for i in df[\"postfinal\"]:\n",
    "    vs = tb(i).sentiment[0]\n",
    "    if (vs > 0):\n",
    "        senti_list.append('Positive')\n",
    "    elif (vs < 0):\n",
    "        senti_list.append('Negative')\n",
    "    else:\n",
    "        senti_list.append('Neutral')   "
   ]
  },
  {
   "cell_type": "code",
   "execution_count": 112,
   "id": "4e3820f0",
   "metadata": {},
   "outputs": [
    {
     "data": {
      "text/html": [
       "<div>\n",
       "<style scoped>\n",
       "    .dataframe tbody tr th:only-of-type {\n",
       "        vertical-align: middle;\n",
       "    }\n",
       "\n",
       "    .dataframe tbody tr th {\n",
       "        vertical-align: top;\n",
       "    }\n",
       "\n",
       "    .dataframe thead th {\n",
       "        text-align: right;\n",
       "    }\n",
       "</style>\n",
       "<table border=\"1\" class=\"dataframe\">\n",
       "  <thead>\n",
       "    <tr style=\"text-align: right;\">\n",
       "      <th></th>\n",
       "      <th>post</th>\n",
       "      <th>sujet</th>\n",
       "      <th>tokenpost</th>\n",
       "      <th>postfinal</th>\n",
       "      <th>sentiment</th>\n",
       "    </tr>\n",
       "  </thead>\n",
       "  <tbody>\n",
       "    <tr>\n",
       "      <th>0</th>\n",
       "      <td>pour corriger les passages tendancieux, je pro...</td>\n",
       "      <td>frerebogdanof_travaux</td>\n",
       "      <td>[pour, corriger, les, passages, tendancieux, j...</td>\n",
       "      <td>corriger passages tendancieux propose modifica...</td>\n",
       "      <td>Positive</td>\n",
       "    </tr>\n",
       "    <tr>\n",
       "      <th>1</th>\n",
       "      <td>assez d'accord.j'ai fait quelques reformulatio...</td>\n",
       "      <td>frerebogdanof_travaux</td>\n",
       "      <td>[assez, d, accord, j, ai, fait, quelques, refo...</td>\n",
       "      <td>accord reformulations sens pas fin compte arti...</td>\n",
       "      <td>Negative</td>\n",
       "    </tr>\n",
       "    <tr>\n",
       "      <th>2</th>\n",
       "      <td>il semble bien que le drame soit plus autour d...</td>\n",
       "      <td>frerebogdanof_travaux</td>\n",
       "      <td>[il, semble, bien, que, le, drame, soit, plus,...</td>\n",
       "      <td>bien drame plus autour article mãªme lignes ré...</td>\n",
       "      <td>Positive</td>\n",
       "    </tr>\n",
       "    <tr>\n",
       "      <th>3</th>\n",
       "      <td>je suis aussi d'accord pour dire qu'il y atrop...</td>\n",
       "      <td>frerebogdanof_travaux</td>\n",
       "      <td>[je, suis, aussi, d, accord, pour, dire, qu, i...</td>\n",
       "      <td>accord qu atrop anti bogdanov page non signé 7...</td>\n",
       "      <td>Negative</td>\n",
       "    </tr>\n",
       "    <tr>\n",
       "      <th>4</th>\n",
       "      <td>je vois pas trop le débat avancer. ne serait-i...</td>\n",
       "      <td>frerebogdanof_travaux</td>\n",
       "      <td>[je, vois, pas, trop, le, débat, avancer, ne, ...</td>\n",
       "      <td>vois pas trop débat avancer ne pas temps clore...</td>\n",
       "      <td>Positive</td>\n",
       "    </tr>\n",
       "  </tbody>\n",
       "</table>\n",
       "</div>"
      ],
      "text/plain": [
       "                                                post                  sujet  \\\n",
       "0  pour corriger les passages tendancieux, je pro...  frerebogdanof_travaux   \n",
       "1  assez d'accord.j'ai fait quelques reformulatio...  frerebogdanof_travaux   \n",
       "2  il semble bien que le drame soit plus autour d...  frerebogdanof_travaux   \n",
       "3  je suis aussi d'accord pour dire qu'il y atrop...  frerebogdanof_travaux   \n",
       "4  je vois pas trop le débat avancer. ne serait-i...  frerebogdanof_travaux   \n",
       "\n",
       "                                           tokenpost  \\\n",
       "0  [pour, corriger, les, passages, tendancieux, j...   \n",
       "1  [assez, d, accord, j, ai, fait, quelques, refo...   \n",
       "2  [il, semble, bien, que, le, drame, soit, plus,...   \n",
       "3  [je, suis, aussi, d, accord, pour, dire, qu, i...   \n",
       "4  [je, vois, pas, trop, le, débat, avancer, ne, ...   \n",
       "\n",
       "                                           postfinal sentiment  \n",
       "0  corriger passages tendancieux propose modifica...  Positive  \n",
       "1  accord reformulations sens pas fin compte arti...  Negative  \n",
       "2  bien drame plus autour article mãªme lignes ré...  Positive  \n",
       "3  accord qu atrop anti bogdanov page non signé 7...  Negative  \n",
       "4  vois pas trop débat avancer ne pas temps clore...  Positive  "
      ]
     },
     "execution_count": 112,
     "metadata": {},
     "output_type": "execute_result"
    }
   ],
   "source": [
    "df[\"sentiment\"]=senti_list\n",
    "df.head()"
   ]
  },
  {
   "cell_type": "markdown",
   "id": "929624fc",
   "metadata": {},
   "source": [
    "## Data Visualization"
   ]
  },
  {
   "cell_type": "code",
   "execution_count": 113,
   "id": "17d1ab69",
   "metadata": {},
   "outputs": [],
   "source": [
    "Number_sentiment= df.groupby([\"sentiment\"]).count().reset_index().reset_index(drop=True)"
   ]
  },
  {
   "cell_type": "code",
   "execution_count": 114,
   "id": "4a346601",
   "metadata": {},
   "outputs": [
    {
     "data": {
      "application/vnd.plotly.v1+json": {
       "config": {
        "plotlyServerURL": "https://plot.ly"
       },
       "data": [
        {
         "alignmentgroup": "True",
         "bingroup": "x",
         "hovertemplate": "sentiment=%{x}<br>count=%{y}<extra></extra>",
         "legendgroup": "Positive",
         "marker": {
          "color": "#636efa",
          "pattern": {
           "shape": ""
          }
         },
         "name": "Positive",
         "offsetgroup": "Positive",
         "orientation": "v",
         "showlegend": true,
         "type": "histogram",
         "x": [
          "Positive",
          "Positive",
          "Positive",
          "Positive",
          "Positive",
          "Positive",
          "Positive",
          "Positive",
          "Positive",
          "Positive",
          "Positive",
          "Positive",
          "Positive",
          "Positive",
          "Positive",
          "Positive",
          "Positive",
          "Positive",
          "Positive",
          "Positive",
          "Positive",
          "Positive",
          "Positive",
          "Positive",
          "Positive",
          "Positive",
          "Positive",
          "Positive",
          "Positive",
          "Positive",
          "Positive",
          "Positive",
          "Positive",
          "Positive",
          "Positive",
          "Positive",
          "Positive",
          "Positive",
          "Positive",
          "Positive",
          "Positive",
          "Positive",
          "Positive",
          "Positive",
          "Positive",
          "Positive",
          "Positive",
          "Positive",
          "Positive",
          "Positive",
          "Positive",
          "Positive",
          "Positive",
          "Positive",
          "Positive",
          "Positive",
          "Positive",
          "Positive",
          "Positive",
          "Positive",
          "Positive",
          "Positive",
          "Positive",
          "Positive",
          "Positive",
          "Positive",
          "Positive",
          "Positive",
          "Positive",
          "Positive",
          "Positive",
          "Positive",
          "Positive",
          "Positive",
          "Positive",
          "Positive",
          "Positive",
          "Positive",
          "Positive",
          "Positive",
          "Positive",
          "Positive",
          "Positive",
          "Positive",
          "Positive",
          "Positive",
          "Positive",
          "Positive",
          "Positive",
          "Positive",
          "Positive",
          "Positive",
          "Positive",
          "Positive",
          "Positive",
          "Positive",
          "Positive",
          "Positive",
          "Positive",
          "Positive",
          "Positive",
          "Positive",
          "Positive",
          "Positive",
          "Positive",
          "Positive",
          "Positive",
          "Positive",
          "Positive",
          "Positive",
          "Positive",
          "Positive",
          "Positive",
          "Positive",
          "Positive",
          "Positive",
          "Positive",
          "Positive",
          "Positive",
          "Positive",
          "Positive",
          "Positive",
          "Positive",
          "Positive",
          "Positive",
          "Positive",
          "Positive",
          "Positive",
          "Positive",
          "Positive",
          "Positive",
          "Positive",
          "Positive",
          "Positive",
          "Positive",
          "Positive",
          "Positive",
          "Positive",
          "Positive",
          "Positive",
          "Positive",
          "Positive",
          "Positive",
          "Positive",
          "Positive",
          "Positive",
          "Positive",
          "Positive",
          "Positive",
          "Positive",
          "Positive",
          "Positive",
          "Positive",
          "Positive",
          "Positive",
          "Positive",
          "Positive",
          "Positive",
          "Positive",
          "Positive",
          "Positive",
          "Positive",
          "Positive",
          "Positive",
          "Positive",
          "Positive",
          "Positive",
          "Positive",
          "Positive",
          "Positive",
          "Positive",
          "Positive",
          "Positive",
          "Positive",
          "Positive",
          "Positive",
          "Positive",
          "Positive"
         ],
         "xaxis": "x",
         "yaxis": "y"
        },
        {
         "alignmentgroup": "True",
         "bingroup": "x",
         "hovertemplate": "sentiment=%{x}<br>count=%{y}<extra></extra>",
         "legendgroup": "Negative",
         "marker": {
          "color": "#EF553B",
          "pattern": {
           "shape": ""
          }
         },
         "name": "Negative",
         "offsetgroup": "Negative",
         "orientation": "v",
         "showlegend": true,
         "type": "histogram",
         "x": [
          "Negative",
          "Negative",
          "Negative",
          "Negative",
          "Negative",
          "Negative",
          "Negative",
          "Negative",
          "Negative",
          "Negative",
          "Negative",
          "Negative",
          "Negative",
          "Negative",
          "Negative",
          "Negative",
          "Negative",
          "Negative",
          "Negative",
          "Negative",
          "Negative",
          "Negative",
          "Negative",
          "Negative",
          "Negative",
          "Negative",
          "Negative",
          "Negative",
          "Negative",
          "Negative",
          "Negative",
          "Negative",
          "Negative",
          "Negative",
          "Negative",
          "Negative",
          "Negative",
          "Negative",
          "Negative",
          "Negative",
          "Negative",
          "Negative",
          "Negative",
          "Negative",
          "Negative",
          "Negative",
          "Negative",
          "Negative",
          "Negative",
          "Negative",
          "Negative",
          "Negative",
          "Negative",
          "Negative",
          "Negative",
          "Negative",
          "Negative",
          "Negative",
          "Negative",
          "Negative",
          "Negative",
          "Negative",
          "Negative",
          "Negative",
          "Negative"
         ],
         "xaxis": "x",
         "yaxis": "y"
        },
        {
         "alignmentgroup": "True",
         "bingroup": "x",
         "hovertemplate": "sentiment=%{x}<br>count=%{y}<extra></extra>",
         "legendgroup": "Neutral",
         "marker": {
          "color": "#00cc96",
          "pattern": {
           "shape": ""
          }
         },
         "name": "Neutral",
         "offsetgroup": "Neutral",
         "orientation": "v",
         "showlegend": true,
         "type": "histogram",
         "x": [
          "Neutral",
          "Neutral",
          "Neutral",
          "Neutral",
          "Neutral",
          "Neutral",
          "Neutral",
          "Neutral",
          "Neutral",
          "Neutral",
          "Neutral",
          "Neutral",
          "Neutral",
          "Neutral",
          "Neutral",
          "Neutral",
          "Neutral",
          "Neutral",
          "Neutral",
          "Neutral",
          "Neutral",
          "Neutral",
          "Neutral",
          "Neutral",
          "Neutral",
          "Neutral",
          "Neutral",
          "Neutral",
          "Neutral",
          "Neutral",
          "Neutral",
          "Neutral",
          "Neutral"
         ],
         "xaxis": "x",
         "yaxis": "y"
        }
       ],
       "layout": {
        "bargap": 0.2,
        "bargroupgap": 0.1,
        "barmode": "relative",
        "legend": {
         "title": {
          "text": "sentiment"
         },
         "tracegroupgap": 0
        },
        "margin": {
         "t": 60
        },
        "template": {
         "data": {
          "bar": [
           {
            "error_x": {
             "color": "#2a3f5f"
            },
            "error_y": {
             "color": "#2a3f5f"
            },
            "marker": {
             "line": {
              "color": "#E5ECF6",
              "width": 0.5
             },
             "pattern": {
              "fillmode": "overlay",
              "size": 10,
              "solidity": 0.2
             }
            },
            "type": "bar"
           }
          ],
          "barpolar": [
           {
            "marker": {
             "line": {
              "color": "#E5ECF6",
              "width": 0.5
             },
             "pattern": {
              "fillmode": "overlay",
              "size": 10,
              "solidity": 0.2
             }
            },
            "type": "barpolar"
           }
          ],
          "carpet": [
           {
            "aaxis": {
             "endlinecolor": "#2a3f5f",
             "gridcolor": "white",
             "linecolor": "white",
             "minorgridcolor": "white",
             "startlinecolor": "#2a3f5f"
            },
            "baxis": {
             "endlinecolor": "#2a3f5f",
             "gridcolor": "white",
             "linecolor": "white",
             "minorgridcolor": "white",
             "startlinecolor": "#2a3f5f"
            },
            "type": "carpet"
           }
          ],
          "choropleth": [
           {
            "colorbar": {
             "outlinewidth": 0,
             "ticks": ""
            },
            "type": "choropleth"
           }
          ],
          "contour": [
           {
            "colorbar": {
             "outlinewidth": 0,
             "ticks": ""
            },
            "colorscale": [
             [
              0,
              "#0d0887"
             ],
             [
              0.1111111111111111,
              "#46039f"
             ],
             [
              0.2222222222222222,
              "#7201a8"
             ],
             [
              0.3333333333333333,
              "#9c179e"
             ],
             [
              0.4444444444444444,
              "#bd3786"
             ],
             [
              0.5555555555555556,
              "#d8576b"
             ],
             [
              0.6666666666666666,
              "#ed7953"
             ],
             [
              0.7777777777777778,
              "#fb9f3a"
             ],
             [
              0.8888888888888888,
              "#fdca26"
             ],
             [
              1,
              "#f0f921"
             ]
            ],
            "type": "contour"
           }
          ],
          "contourcarpet": [
           {
            "colorbar": {
             "outlinewidth": 0,
             "ticks": ""
            },
            "type": "contourcarpet"
           }
          ],
          "heatmap": [
           {
            "colorbar": {
             "outlinewidth": 0,
             "ticks": ""
            },
            "colorscale": [
             [
              0,
              "#0d0887"
             ],
             [
              0.1111111111111111,
              "#46039f"
             ],
             [
              0.2222222222222222,
              "#7201a8"
             ],
             [
              0.3333333333333333,
              "#9c179e"
             ],
             [
              0.4444444444444444,
              "#bd3786"
             ],
             [
              0.5555555555555556,
              "#d8576b"
             ],
             [
              0.6666666666666666,
              "#ed7953"
             ],
             [
              0.7777777777777778,
              "#fb9f3a"
             ],
             [
              0.8888888888888888,
              "#fdca26"
             ],
             [
              1,
              "#f0f921"
             ]
            ],
            "type": "heatmap"
           }
          ],
          "heatmapgl": [
           {
            "colorbar": {
             "outlinewidth": 0,
             "ticks": ""
            },
            "colorscale": [
             [
              0,
              "#0d0887"
             ],
             [
              0.1111111111111111,
              "#46039f"
             ],
             [
              0.2222222222222222,
              "#7201a8"
             ],
             [
              0.3333333333333333,
              "#9c179e"
             ],
             [
              0.4444444444444444,
              "#bd3786"
             ],
             [
              0.5555555555555556,
              "#d8576b"
             ],
             [
              0.6666666666666666,
              "#ed7953"
             ],
             [
              0.7777777777777778,
              "#fb9f3a"
             ],
             [
              0.8888888888888888,
              "#fdca26"
             ],
             [
              1,
              "#f0f921"
             ]
            ],
            "type": "heatmapgl"
           }
          ],
          "histogram": [
           {
            "marker": {
             "pattern": {
              "fillmode": "overlay",
              "size": 10,
              "solidity": 0.2
             }
            },
            "type": "histogram"
           }
          ],
          "histogram2d": [
           {
            "colorbar": {
             "outlinewidth": 0,
             "ticks": ""
            },
            "colorscale": [
             [
              0,
              "#0d0887"
             ],
             [
              0.1111111111111111,
              "#46039f"
             ],
             [
              0.2222222222222222,
              "#7201a8"
             ],
             [
              0.3333333333333333,
              "#9c179e"
             ],
             [
              0.4444444444444444,
              "#bd3786"
             ],
             [
              0.5555555555555556,
              "#d8576b"
             ],
             [
              0.6666666666666666,
              "#ed7953"
             ],
             [
              0.7777777777777778,
              "#fb9f3a"
             ],
             [
              0.8888888888888888,
              "#fdca26"
             ],
             [
              1,
              "#f0f921"
             ]
            ],
            "type": "histogram2d"
           }
          ],
          "histogram2dcontour": [
           {
            "colorbar": {
             "outlinewidth": 0,
             "ticks": ""
            },
            "colorscale": [
             [
              0,
              "#0d0887"
             ],
             [
              0.1111111111111111,
              "#46039f"
             ],
             [
              0.2222222222222222,
              "#7201a8"
             ],
             [
              0.3333333333333333,
              "#9c179e"
             ],
             [
              0.4444444444444444,
              "#bd3786"
             ],
             [
              0.5555555555555556,
              "#d8576b"
             ],
             [
              0.6666666666666666,
              "#ed7953"
             ],
             [
              0.7777777777777778,
              "#fb9f3a"
             ],
             [
              0.8888888888888888,
              "#fdca26"
             ],
             [
              1,
              "#f0f921"
             ]
            ],
            "type": "histogram2dcontour"
           }
          ],
          "mesh3d": [
           {
            "colorbar": {
             "outlinewidth": 0,
             "ticks": ""
            },
            "type": "mesh3d"
           }
          ],
          "parcoords": [
           {
            "line": {
             "colorbar": {
              "outlinewidth": 0,
              "ticks": ""
             }
            },
            "type": "parcoords"
           }
          ],
          "pie": [
           {
            "automargin": true,
            "type": "pie"
           }
          ],
          "scatter": [
           {
            "marker": {
             "colorbar": {
              "outlinewidth": 0,
              "ticks": ""
             }
            },
            "type": "scatter"
           }
          ],
          "scatter3d": [
           {
            "line": {
             "colorbar": {
              "outlinewidth": 0,
              "ticks": ""
             }
            },
            "marker": {
             "colorbar": {
              "outlinewidth": 0,
              "ticks": ""
             }
            },
            "type": "scatter3d"
           }
          ],
          "scattercarpet": [
           {
            "marker": {
             "colorbar": {
              "outlinewidth": 0,
              "ticks": ""
             }
            },
            "type": "scattercarpet"
           }
          ],
          "scattergeo": [
           {
            "marker": {
             "colorbar": {
              "outlinewidth": 0,
              "ticks": ""
             }
            },
            "type": "scattergeo"
           }
          ],
          "scattergl": [
           {
            "marker": {
             "colorbar": {
              "outlinewidth": 0,
              "ticks": ""
             }
            },
            "type": "scattergl"
           }
          ],
          "scattermapbox": [
           {
            "marker": {
             "colorbar": {
              "outlinewidth": 0,
              "ticks": ""
             }
            },
            "type": "scattermapbox"
           }
          ],
          "scatterpolar": [
           {
            "marker": {
             "colorbar": {
              "outlinewidth": 0,
              "ticks": ""
             }
            },
            "type": "scatterpolar"
           }
          ],
          "scatterpolargl": [
           {
            "marker": {
             "colorbar": {
              "outlinewidth": 0,
              "ticks": ""
             }
            },
            "type": "scatterpolargl"
           }
          ],
          "scatterternary": [
           {
            "marker": {
             "colorbar": {
              "outlinewidth": 0,
              "ticks": ""
             }
            },
            "type": "scatterternary"
           }
          ],
          "surface": [
           {
            "colorbar": {
             "outlinewidth": 0,
             "ticks": ""
            },
            "colorscale": [
             [
              0,
              "#0d0887"
             ],
             [
              0.1111111111111111,
              "#46039f"
             ],
             [
              0.2222222222222222,
              "#7201a8"
             ],
             [
              0.3333333333333333,
              "#9c179e"
             ],
             [
              0.4444444444444444,
              "#bd3786"
             ],
             [
              0.5555555555555556,
              "#d8576b"
             ],
             [
              0.6666666666666666,
              "#ed7953"
             ],
             [
              0.7777777777777778,
              "#fb9f3a"
             ],
             [
              0.8888888888888888,
              "#fdca26"
             ],
             [
              1,
              "#f0f921"
             ]
            ],
            "type": "surface"
           }
          ],
          "table": [
           {
            "cells": {
             "fill": {
              "color": "#EBF0F8"
             },
             "line": {
              "color": "white"
             }
            },
            "header": {
             "fill": {
              "color": "#C8D4E3"
             },
             "line": {
              "color": "white"
             }
            },
            "type": "table"
           }
          ]
         },
         "layout": {
          "annotationdefaults": {
           "arrowcolor": "#2a3f5f",
           "arrowhead": 0,
           "arrowwidth": 1
          },
          "autotypenumbers": "strict",
          "coloraxis": {
           "colorbar": {
            "outlinewidth": 0,
            "ticks": ""
           }
          },
          "colorscale": {
           "diverging": [
            [
             0,
             "#8e0152"
            ],
            [
             0.1,
             "#c51b7d"
            ],
            [
             0.2,
             "#de77ae"
            ],
            [
             0.3,
             "#f1b6da"
            ],
            [
             0.4,
             "#fde0ef"
            ],
            [
             0.5,
             "#f7f7f7"
            ],
            [
             0.6,
             "#e6f5d0"
            ],
            [
             0.7,
             "#b8e186"
            ],
            [
             0.8,
             "#7fbc41"
            ],
            [
             0.9,
             "#4d9221"
            ],
            [
             1,
             "#276419"
            ]
           ],
           "sequential": [
            [
             0,
             "#0d0887"
            ],
            [
             0.1111111111111111,
             "#46039f"
            ],
            [
             0.2222222222222222,
             "#7201a8"
            ],
            [
             0.3333333333333333,
             "#9c179e"
            ],
            [
             0.4444444444444444,
             "#bd3786"
            ],
            [
             0.5555555555555556,
             "#d8576b"
            ],
            [
             0.6666666666666666,
             "#ed7953"
            ],
            [
             0.7777777777777778,
             "#fb9f3a"
            ],
            [
             0.8888888888888888,
             "#fdca26"
            ],
            [
             1,
             "#f0f921"
            ]
           ],
           "sequentialminus": [
            [
             0,
             "#0d0887"
            ],
            [
             0.1111111111111111,
             "#46039f"
            ],
            [
             0.2222222222222222,
             "#7201a8"
            ],
            [
             0.3333333333333333,
             "#9c179e"
            ],
            [
             0.4444444444444444,
             "#bd3786"
            ],
            [
             0.5555555555555556,
             "#d8576b"
            ],
            [
             0.6666666666666666,
             "#ed7953"
            ],
            [
             0.7777777777777778,
             "#fb9f3a"
            ],
            [
             0.8888888888888888,
             "#fdca26"
            ],
            [
             1,
             "#f0f921"
            ]
           ]
          },
          "colorway": [
           "#636efa",
           "#EF553B",
           "#00cc96",
           "#ab63fa",
           "#FFA15A",
           "#19d3f3",
           "#FF6692",
           "#B6E880",
           "#FF97FF",
           "#FECB52"
          ],
          "font": {
           "color": "#2a3f5f"
          },
          "geo": {
           "bgcolor": "white",
           "lakecolor": "white",
           "landcolor": "#E5ECF6",
           "showlakes": true,
           "showland": true,
           "subunitcolor": "white"
          },
          "hoverlabel": {
           "align": "left"
          },
          "hovermode": "closest",
          "mapbox": {
           "style": "light"
          },
          "paper_bgcolor": "white",
          "plot_bgcolor": "#E5ECF6",
          "polar": {
           "angularaxis": {
            "gridcolor": "white",
            "linecolor": "white",
            "ticks": ""
           },
           "bgcolor": "#E5ECF6",
           "radialaxis": {
            "gridcolor": "white",
            "linecolor": "white",
            "ticks": ""
           }
          },
          "scene": {
           "xaxis": {
            "backgroundcolor": "#E5ECF6",
            "gridcolor": "white",
            "gridwidth": 2,
            "linecolor": "white",
            "showbackground": true,
            "ticks": "",
            "zerolinecolor": "white"
           },
           "yaxis": {
            "backgroundcolor": "#E5ECF6",
            "gridcolor": "white",
            "gridwidth": 2,
            "linecolor": "white",
            "showbackground": true,
            "ticks": "",
            "zerolinecolor": "white"
           },
           "zaxis": {
            "backgroundcolor": "#E5ECF6",
            "gridcolor": "white",
            "gridwidth": 2,
            "linecolor": "white",
            "showbackground": true,
            "ticks": "",
            "zerolinecolor": "white"
           }
          },
          "shapedefaults": {
           "line": {
            "color": "#2a3f5f"
           }
          },
          "ternary": {
           "aaxis": {
            "gridcolor": "white",
            "linecolor": "white",
            "ticks": ""
           },
           "baxis": {
            "gridcolor": "white",
            "linecolor": "white",
            "ticks": ""
           },
           "bgcolor": "#E5ECF6",
           "caxis": {
            "gridcolor": "white",
            "linecolor": "white",
            "ticks": ""
           }
          },
          "title": {
           "x": 0.05
          },
          "xaxis": {
           "automargin": true,
           "gridcolor": "white",
           "linecolor": "white",
           "ticks": "",
           "title": {
            "standoff": 15
           },
           "zerolinecolor": "white",
           "zerolinewidth": 2
          },
          "yaxis": {
           "automargin": true,
           "gridcolor": "white",
           "linecolor": "white",
           "ticks": "",
           "title": {
            "standoff": 15
           },
           "zerolinecolor": "white",
           "zerolinewidth": 2
          }
         }
        },
        "title": {
         "text": "Sentiment of reviews"
        },
        "xaxis": {
         "anchor": "y",
         "categoryarray": [
          "Positive",
          "Negative",
          "Neutral"
         ],
         "categoryorder": "array",
         "domain": [
          0,
          1
         ],
         "title": {
          "text": "Sentiment"
         }
        },
        "yaxis": {
         "anchor": "x",
         "domain": [
          0,
          1
         ],
         "title": {
          "text": "Count"
         }
        }
       }
      },
      "text/html": [
       "<div>                            <div id=\"df4f5da7-7cb3-4108-bd39-ebf5ede485de\" class=\"plotly-graph-div\" style=\"height:525px; width:100%;\"></div>            <script type=\"text/javascript\">                require([\"plotly\"], function(Plotly) {                    window.PLOTLYENV=window.PLOTLYENV || {};                                    if (document.getElementById(\"df4f5da7-7cb3-4108-bd39-ebf5ede485de\")) {                    Plotly.newPlot(                        \"df4f5da7-7cb3-4108-bd39-ebf5ede485de\",                        [{\"alignmentgroup\":\"True\",\"bingroup\":\"x\",\"hovertemplate\":\"sentiment=%{x}<br>count=%{y}<extra></extra>\",\"legendgroup\":\"Positive\",\"marker\":{\"color\":\"#636efa\",\"pattern\":{\"shape\":\"\"}},\"name\":\"Positive\",\"offsetgroup\":\"Positive\",\"orientation\":\"v\",\"showlegend\":true,\"x\":[\"Positive\",\"Positive\",\"Positive\",\"Positive\",\"Positive\",\"Positive\",\"Positive\",\"Positive\",\"Positive\",\"Positive\",\"Positive\",\"Positive\",\"Positive\",\"Positive\",\"Positive\",\"Positive\",\"Positive\",\"Positive\",\"Positive\",\"Positive\",\"Positive\",\"Positive\",\"Positive\",\"Positive\",\"Positive\",\"Positive\",\"Positive\",\"Positive\",\"Positive\",\"Positive\",\"Positive\",\"Positive\",\"Positive\",\"Positive\",\"Positive\",\"Positive\",\"Positive\",\"Positive\",\"Positive\",\"Positive\",\"Positive\",\"Positive\",\"Positive\",\"Positive\",\"Positive\",\"Positive\",\"Positive\",\"Positive\",\"Positive\",\"Positive\",\"Positive\",\"Positive\",\"Positive\",\"Positive\",\"Positive\",\"Positive\",\"Positive\",\"Positive\",\"Positive\",\"Positive\",\"Positive\",\"Positive\",\"Positive\",\"Positive\",\"Positive\",\"Positive\",\"Positive\",\"Positive\",\"Positive\",\"Positive\",\"Positive\",\"Positive\",\"Positive\",\"Positive\",\"Positive\",\"Positive\",\"Positive\",\"Positive\",\"Positive\",\"Positive\",\"Positive\",\"Positive\",\"Positive\",\"Positive\",\"Positive\",\"Positive\",\"Positive\",\"Positive\",\"Positive\",\"Positive\",\"Positive\",\"Positive\",\"Positive\",\"Positive\",\"Positive\",\"Positive\",\"Positive\",\"Positive\",\"Positive\",\"Positive\",\"Positive\",\"Positive\",\"Positive\",\"Positive\",\"Positive\",\"Positive\",\"Positive\",\"Positive\",\"Positive\",\"Positive\",\"Positive\",\"Positive\",\"Positive\",\"Positive\",\"Positive\",\"Positive\",\"Positive\",\"Positive\",\"Positive\",\"Positive\",\"Positive\",\"Positive\",\"Positive\",\"Positive\",\"Positive\",\"Positive\",\"Positive\",\"Positive\",\"Positive\",\"Positive\",\"Positive\",\"Positive\",\"Positive\",\"Positive\",\"Positive\",\"Positive\",\"Positive\",\"Positive\",\"Positive\",\"Positive\",\"Positive\",\"Positive\",\"Positive\",\"Positive\",\"Positive\",\"Positive\",\"Positive\",\"Positive\",\"Positive\",\"Positive\",\"Positive\",\"Positive\",\"Positive\",\"Positive\",\"Positive\",\"Positive\",\"Positive\",\"Positive\",\"Positive\",\"Positive\",\"Positive\",\"Positive\",\"Positive\",\"Positive\",\"Positive\",\"Positive\",\"Positive\",\"Positive\",\"Positive\",\"Positive\",\"Positive\",\"Positive\",\"Positive\",\"Positive\",\"Positive\",\"Positive\",\"Positive\",\"Positive\"],\"xaxis\":\"x\",\"yaxis\":\"y\",\"type\":\"histogram\"},{\"alignmentgroup\":\"True\",\"bingroup\":\"x\",\"hovertemplate\":\"sentiment=%{x}<br>count=%{y}<extra></extra>\",\"legendgroup\":\"Negative\",\"marker\":{\"color\":\"#EF553B\",\"pattern\":{\"shape\":\"\"}},\"name\":\"Negative\",\"offsetgroup\":\"Negative\",\"orientation\":\"v\",\"showlegend\":true,\"x\":[\"Negative\",\"Negative\",\"Negative\",\"Negative\",\"Negative\",\"Negative\",\"Negative\",\"Negative\",\"Negative\",\"Negative\",\"Negative\",\"Negative\",\"Negative\",\"Negative\",\"Negative\",\"Negative\",\"Negative\",\"Negative\",\"Negative\",\"Negative\",\"Negative\",\"Negative\",\"Negative\",\"Negative\",\"Negative\",\"Negative\",\"Negative\",\"Negative\",\"Negative\",\"Negative\",\"Negative\",\"Negative\",\"Negative\",\"Negative\",\"Negative\",\"Negative\",\"Negative\",\"Negative\",\"Negative\",\"Negative\",\"Negative\",\"Negative\",\"Negative\",\"Negative\",\"Negative\",\"Negative\",\"Negative\",\"Negative\",\"Negative\",\"Negative\",\"Negative\",\"Negative\",\"Negative\",\"Negative\",\"Negative\",\"Negative\",\"Negative\",\"Negative\",\"Negative\",\"Negative\",\"Negative\",\"Negative\",\"Negative\",\"Negative\",\"Negative\"],\"xaxis\":\"x\",\"yaxis\":\"y\",\"type\":\"histogram\"},{\"alignmentgroup\":\"True\",\"bingroup\":\"x\",\"hovertemplate\":\"sentiment=%{x}<br>count=%{y}<extra></extra>\",\"legendgroup\":\"Neutral\",\"marker\":{\"color\":\"#00cc96\",\"pattern\":{\"shape\":\"\"}},\"name\":\"Neutral\",\"offsetgroup\":\"Neutral\",\"orientation\":\"v\",\"showlegend\":true,\"x\":[\"Neutral\",\"Neutral\",\"Neutral\",\"Neutral\",\"Neutral\",\"Neutral\",\"Neutral\",\"Neutral\",\"Neutral\",\"Neutral\",\"Neutral\",\"Neutral\",\"Neutral\",\"Neutral\",\"Neutral\",\"Neutral\",\"Neutral\",\"Neutral\",\"Neutral\",\"Neutral\",\"Neutral\",\"Neutral\",\"Neutral\",\"Neutral\",\"Neutral\",\"Neutral\",\"Neutral\",\"Neutral\",\"Neutral\",\"Neutral\",\"Neutral\",\"Neutral\",\"Neutral\"],\"xaxis\":\"x\",\"yaxis\":\"y\",\"type\":\"histogram\"}],                        {\"template\":{\"data\":{\"bar\":[{\"error_x\":{\"color\":\"#2a3f5f\"},\"error_y\":{\"color\":\"#2a3f5f\"},\"marker\":{\"line\":{\"color\":\"#E5ECF6\",\"width\":0.5},\"pattern\":{\"fillmode\":\"overlay\",\"size\":10,\"solidity\":0.2}},\"type\":\"bar\"}],\"barpolar\":[{\"marker\":{\"line\":{\"color\":\"#E5ECF6\",\"width\":0.5},\"pattern\":{\"fillmode\":\"overlay\",\"size\":10,\"solidity\":0.2}},\"type\":\"barpolar\"}],\"carpet\":[{\"aaxis\":{\"endlinecolor\":\"#2a3f5f\",\"gridcolor\":\"white\",\"linecolor\":\"white\",\"minorgridcolor\":\"white\",\"startlinecolor\":\"#2a3f5f\"},\"baxis\":{\"endlinecolor\":\"#2a3f5f\",\"gridcolor\":\"white\",\"linecolor\":\"white\",\"minorgridcolor\":\"white\",\"startlinecolor\":\"#2a3f5f\"},\"type\":\"carpet\"}],\"choropleth\":[{\"colorbar\":{\"outlinewidth\":0,\"ticks\":\"\"},\"type\":\"choropleth\"}],\"contour\":[{\"colorbar\":{\"outlinewidth\":0,\"ticks\":\"\"},\"colorscale\":[[0.0,\"#0d0887\"],[0.1111111111111111,\"#46039f\"],[0.2222222222222222,\"#7201a8\"],[0.3333333333333333,\"#9c179e\"],[0.4444444444444444,\"#bd3786\"],[0.5555555555555556,\"#d8576b\"],[0.6666666666666666,\"#ed7953\"],[0.7777777777777778,\"#fb9f3a\"],[0.8888888888888888,\"#fdca26\"],[1.0,\"#f0f921\"]],\"type\":\"contour\"}],\"contourcarpet\":[{\"colorbar\":{\"outlinewidth\":0,\"ticks\":\"\"},\"type\":\"contourcarpet\"}],\"heatmap\":[{\"colorbar\":{\"outlinewidth\":0,\"ticks\":\"\"},\"colorscale\":[[0.0,\"#0d0887\"],[0.1111111111111111,\"#46039f\"],[0.2222222222222222,\"#7201a8\"],[0.3333333333333333,\"#9c179e\"],[0.4444444444444444,\"#bd3786\"],[0.5555555555555556,\"#d8576b\"],[0.6666666666666666,\"#ed7953\"],[0.7777777777777778,\"#fb9f3a\"],[0.8888888888888888,\"#fdca26\"],[1.0,\"#f0f921\"]],\"type\":\"heatmap\"}],\"heatmapgl\":[{\"colorbar\":{\"outlinewidth\":0,\"ticks\":\"\"},\"colorscale\":[[0.0,\"#0d0887\"],[0.1111111111111111,\"#46039f\"],[0.2222222222222222,\"#7201a8\"],[0.3333333333333333,\"#9c179e\"],[0.4444444444444444,\"#bd3786\"],[0.5555555555555556,\"#d8576b\"],[0.6666666666666666,\"#ed7953\"],[0.7777777777777778,\"#fb9f3a\"],[0.8888888888888888,\"#fdca26\"],[1.0,\"#f0f921\"]],\"type\":\"heatmapgl\"}],\"histogram\":[{\"marker\":{\"pattern\":{\"fillmode\":\"overlay\",\"size\":10,\"solidity\":0.2}},\"type\":\"histogram\"}],\"histogram2d\":[{\"colorbar\":{\"outlinewidth\":0,\"ticks\":\"\"},\"colorscale\":[[0.0,\"#0d0887\"],[0.1111111111111111,\"#46039f\"],[0.2222222222222222,\"#7201a8\"],[0.3333333333333333,\"#9c179e\"],[0.4444444444444444,\"#bd3786\"],[0.5555555555555556,\"#d8576b\"],[0.6666666666666666,\"#ed7953\"],[0.7777777777777778,\"#fb9f3a\"],[0.8888888888888888,\"#fdca26\"],[1.0,\"#f0f921\"]],\"type\":\"histogram2d\"}],\"histogram2dcontour\":[{\"colorbar\":{\"outlinewidth\":0,\"ticks\":\"\"},\"colorscale\":[[0.0,\"#0d0887\"],[0.1111111111111111,\"#46039f\"],[0.2222222222222222,\"#7201a8\"],[0.3333333333333333,\"#9c179e\"],[0.4444444444444444,\"#bd3786\"],[0.5555555555555556,\"#d8576b\"],[0.6666666666666666,\"#ed7953\"],[0.7777777777777778,\"#fb9f3a\"],[0.8888888888888888,\"#fdca26\"],[1.0,\"#f0f921\"]],\"type\":\"histogram2dcontour\"}],\"mesh3d\":[{\"colorbar\":{\"outlinewidth\":0,\"ticks\":\"\"},\"type\":\"mesh3d\"}],\"parcoords\":[{\"line\":{\"colorbar\":{\"outlinewidth\":0,\"ticks\":\"\"}},\"type\":\"parcoords\"}],\"pie\":[{\"automargin\":true,\"type\":\"pie\"}],\"scatter\":[{\"marker\":{\"colorbar\":{\"outlinewidth\":0,\"ticks\":\"\"}},\"type\":\"scatter\"}],\"scatter3d\":[{\"line\":{\"colorbar\":{\"outlinewidth\":0,\"ticks\":\"\"}},\"marker\":{\"colorbar\":{\"outlinewidth\":0,\"ticks\":\"\"}},\"type\":\"scatter3d\"}],\"scattercarpet\":[{\"marker\":{\"colorbar\":{\"outlinewidth\":0,\"ticks\":\"\"}},\"type\":\"scattercarpet\"}],\"scattergeo\":[{\"marker\":{\"colorbar\":{\"outlinewidth\":0,\"ticks\":\"\"}},\"type\":\"scattergeo\"}],\"scattergl\":[{\"marker\":{\"colorbar\":{\"outlinewidth\":0,\"ticks\":\"\"}},\"type\":\"scattergl\"}],\"scattermapbox\":[{\"marker\":{\"colorbar\":{\"outlinewidth\":0,\"ticks\":\"\"}},\"type\":\"scattermapbox\"}],\"scatterpolar\":[{\"marker\":{\"colorbar\":{\"outlinewidth\":0,\"ticks\":\"\"}},\"type\":\"scatterpolar\"}],\"scatterpolargl\":[{\"marker\":{\"colorbar\":{\"outlinewidth\":0,\"ticks\":\"\"}},\"type\":\"scatterpolargl\"}],\"scatterternary\":[{\"marker\":{\"colorbar\":{\"outlinewidth\":0,\"ticks\":\"\"}},\"type\":\"scatterternary\"}],\"surface\":[{\"colorbar\":{\"outlinewidth\":0,\"ticks\":\"\"},\"colorscale\":[[0.0,\"#0d0887\"],[0.1111111111111111,\"#46039f\"],[0.2222222222222222,\"#7201a8\"],[0.3333333333333333,\"#9c179e\"],[0.4444444444444444,\"#bd3786\"],[0.5555555555555556,\"#d8576b\"],[0.6666666666666666,\"#ed7953\"],[0.7777777777777778,\"#fb9f3a\"],[0.8888888888888888,\"#fdca26\"],[1.0,\"#f0f921\"]],\"type\":\"surface\"}],\"table\":[{\"cells\":{\"fill\":{\"color\":\"#EBF0F8\"},\"line\":{\"color\":\"white\"}},\"header\":{\"fill\":{\"color\":\"#C8D4E3\"},\"line\":{\"color\":\"white\"}},\"type\":\"table\"}]},\"layout\":{\"annotationdefaults\":{\"arrowcolor\":\"#2a3f5f\",\"arrowhead\":0,\"arrowwidth\":1},\"autotypenumbers\":\"strict\",\"coloraxis\":{\"colorbar\":{\"outlinewidth\":0,\"ticks\":\"\"}},\"colorscale\":{\"diverging\":[[0,\"#8e0152\"],[0.1,\"#c51b7d\"],[0.2,\"#de77ae\"],[0.3,\"#f1b6da\"],[0.4,\"#fde0ef\"],[0.5,\"#f7f7f7\"],[0.6,\"#e6f5d0\"],[0.7,\"#b8e186\"],[0.8,\"#7fbc41\"],[0.9,\"#4d9221\"],[1,\"#276419\"]],\"sequential\":[[0.0,\"#0d0887\"],[0.1111111111111111,\"#46039f\"],[0.2222222222222222,\"#7201a8\"],[0.3333333333333333,\"#9c179e\"],[0.4444444444444444,\"#bd3786\"],[0.5555555555555556,\"#d8576b\"],[0.6666666666666666,\"#ed7953\"],[0.7777777777777778,\"#fb9f3a\"],[0.8888888888888888,\"#fdca26\"],[1.0,\"#f0f921\"]],\"sequentialminus\":[[0.0,\"#0d0887\"],[0.1111111111111111,\"#46039f\"],[0.2222222222222222,\"#7201a8\"],[0.3333333333333333,\"#9c179e\"],[0.4444444444444444,\"#bd3786\"],[0.5555555555555556,\"#d8576b\"],[0.6666666666666666,\"#ed7953\"],[0.7777777777777778,\"#fb9f3a\"],[0.8888888888888888,\"#fdca26\"],[1.0,\"#f0f921\"]]},\"colorway\":[\"#636efa\",\"#EF553B\",\"#00cc96\",\"#ab63fa\",\"#FFA15A\",\"#19d3f3\",\"#FF6692\",\"#B6E880\",\"#FF97FF\",\"#FECB52\"],\"font\":{\"color\":\"#2a3f5f\"},\"geo\":{\"bgcolor\":\"white\",\"lakecolor\":\"white\",\"landcolor\":\"#E5ECF6\",\"showlakes\":true,\"showland\":true,\"subunitcolor\":\"white\"},\"hoverlabel\":{\"align\":\"left\"},\"hovermode\":\"closest\",\"mapbox\":{\"style\":\"light\"},\"paper_bgcolor\":\"white\",\"plot_bgcolor\":\"#E5ECF6\",\"polar\":{\"angularaxis\":{\"gridcolor\":\"white\",\"linecolor\":\"white\",\"ticks\":\"\"},\"bgcolor\":\"#E5ECF6\",\"radialaxis\":{\"gridcolor\":\"white\",\"linecolor\":\"white\",\"ticks\":\"\"}},\"scene\":{\"xaxis\":{\"backgroundcolor\":\"#E5ECF6\",\"gridcolor\":\"white\",\"gridwidth\":2,\"linecolor\":\"white\",\"showbackground\":true,\"ticks\":\"\",\"zerolinecolor\":\"white\"},\"yaxis\":{\"backgroundcolor\":\"#E5ECF6\",\"gridcolor\":\"white\",\"gridwidth\":2,\"linecolor\":\"white\",\"showbackground\":true,\"ticks\":\"\",\"zerolinecolor\":\"white\"},\"zaxis\":{\"backgroundcolor\":\"#E5ECF6\",\"gridcolor\":\"white\",\"gridwidth\":2,\"linecolor\":\"white\",\"showbackground\":true,\"ticks\":\"\",\"zerolinecolor\":\"white\"}},\"shapedefaults\":{\"line\":{\"color\":\"#2a3f5f\"}},\"ternary\":{\"aaxis\":{\"gridcolor\":\"white\",\"linecolor\":\"white\",\"ticks\":\"\"},\"baxis\":{\"gridcolor\":\"white\",\"linecolor\":\"white\",\"ticks\":\"\"},\"bgcolor\":\"#E5ECF6\",\"caxis\":{\"gridcolor\":\"white\",\"linecolor\":\"white\",\"ticks\":\"\"}},\"title\":{\"x\":0.05},\"xaxis\":{\"automargin\":true,\"gridcolor\":\"white\",\"linecolor\":\"white\",\"ticks\":\"\",\"title\":{\"standoff\":15},\"zerolinecolor\":\"white\",\"zerolinewidth\":2},\"yaxis\":{\"automargin\":true,\"gridcolor\":\"white\",\"linecolor\":\"white\",\"ticks\":\"\",\"title\":{\"standoff\":15},\"zerolinecolor\":\"white\",\"zerolinewidth\":2}}},\"xaxis\":{\"anchor\":\"y\",\"domain\":[0.0,1.0],\"title\":{\"text\":\"Sentiment\"},\"categoryorder\":\"array\",\"categoryarray\":[\"Positive\",\"Negative\",\"Neutral\"]},\"yaxis\":{\"anchor\":\"x\",\"domain\":[0.0,1.0],\"title\":{\"text\":\"Count\"}},\"legend\":{\"title\":{\"text\":\"sentiment\"},\"tracegroupgap\":0},\"margin\":{\"t\":60},\"barmode\":\"relative\",\"title\":{\"text\":\"Sentiment of reviews\"},\"bargap\":0.2,\"bargroupgap\":0.1},                        {\"responsive\": true}                    ).then(function(){\n",
       "                            \n",
       "var gd = document.getElementById('df4f5da7-7cb3-4108-bd39-ebf5ede485de');\n",
       "var x = new MutationObserver(function (mutations, observer) {{\n",
       "        var display = window.getComputedStyle(gd).display;\n",
       "        if (!display || display === 'none') {{\n",
       "            console.log([gd, 'removed!']);\n",
       "            Plotly.purge(gd);\n",
       "            observer.disconnect();\n",
       "        }}\n",
       "}});\n",
       "\n",
       "// Listen for the removal of the full notebook cells\n",
       "var notebookContainer = gd.closest('#notebook-container');\n",
       "if (notebookContainer) {{\n",
       "    x.observe(notebookContainer, {childList: true});\n",
       "}}\n",
       "\n",
       "// Listen for the clearing of the current output cell\n",
       "var outputEl = gd.closest('.output');\n",
       "if (outputEl) {{\n",
       "    x.observe(outputEl, {childList: true});\n",
       "}}\n",
       "\n",
       "                        })                };                });            </script>        </div>"
      ]
     },
     "metadata": {},
     "output_type": "display_data"
    }
   ],
   "source": [
    "fig = px.histogram(df, x=\"sentiment\",color=\"sentiment\")\n",
    "fig.update_layout(\n",
    "    title_text='Sentiment of reviews', # title of plot\n",
    "    xaxis_title_text='Sentiment', # xaxis label\n",
    "    yaxis_title_text='Count', # yaxis label\n",
    "    bargap=0.2, \n",
    "    bargroupgap=0.1\n",
    ")\n",
    "fig.show()"
   ]
  },
  {
   "cell_type": "markdown",
   "id": "79f531ea",
   "metadata": {},
   "source": [
    "# Extraction de texte et parsing des poste avec spacy"
   ]
  },
  {
   "cell_type": "code",
   "execution_count": 115,
   "id": "f440892f",
   "metadata": {},
   "outputs": [],
   "source": [
    "# Load Our Model & NLP(TALN) Object\n",
    "nlp = spacy.load('fr_core_news_sm')"
   ]
  },
  {
   "cell_type": "code",
   "execution_count": 116,
   "id": "5ab5f02c",
   "metadata": {},
   "outputs": [
    {
     "data": {
      "text/html": [
       "<div>\n",
       "<style scoped>\n",
       "    .dataframe tbody tr th:only-of-type {\n",
       "        vertical-align: middle;\n",
       "    }\n",
       "\n",
       "    .dataframe tbody tr th {\n",
       "        vertical-align: top;\n",
       "    }\n",
       "\n",
       "    .dataframe thead th {\n",
       "        text-align: right;\n",
       "    }\n",
       "</style>\n",
       "<table border=\"1\" class=\"dataframe\">\n",
       "  <thead>\n",
       "    <tr style=\"text-align: right;\">\n",
       "      <th></th>\n",
       "      <th>post</th>\n",
       "      <th>sujet</th>\n",
       "    </tr>\n",
       "  </thead>\n",
       "  <tbody>\n",
       "    <tr>\n",
       "      <th>0</th>\n",
       "      <td>pour corriger les passages tendancieux, je pro...</td>\n",
       "      <td>frerebogdanof_travaux</td>\n",
       "    </tr>\n",
       "    <tr>\n",
       "      <th>1</th>\n",
       "      <td>assez d'accord.j'ai fait quelques reformulatio...</td>\n",
       "      <td>frerebogdanof_travaux</td>\n",
       "    </tr>\n",
       "    <tr>\n",
       "      <th>2</th>\n",
       "      <td>il semble bien que le drame soit plus autour d...</td>\n",
       "      <td>frerebogdanof_travaux</td>\n",
       "    </tr>\n",
       "    <tr>\n",
       "      <th>3</th>\n",
       "      <td>je suis aussi d'accord pour dire qu'il y atrop...</td>\n",
       "      <td>frerebogdanof_travaux</td>\n",
       "    </tr>\n",
       "    <tr>\n",
       "      <th>4</th>\n",
       "      <td>je vois pas trop le débat avancer. ne serait-i...</td>\n",
       "      <td>frerebogdanof_travaux</td>\n",
       "    </tr>\n",
       "    <tr>\n",
       "      <th>...</th>\n",
       "      <td>...</td>\n",
       "      <td>...</td>\n",
       "    </tr>\n",
       "    <tr>\n",
       "      <th>271</th>\n",
       "      <td>en effet , pas très encyclopédique et pas très...</td>\n",
       "      <td>frerebogdanof_travaux</td>\n",
       "    </tr>\n",
       "    <tr>\n",
       "      <th>272</th>\n",
       "      <td>je trouve l'article assez faible, surtout par ...</td>\n",
       "      <td>frerebogdanof_travaux</td>\n",
       "    </tr>\n",
       "    <tr>\n",
       "      <th>273</th>\n",
       "      <td>pour information : sylvestre huet, «un curieux...</td>\n",
       "      <td>frerebogdanof_travaux</td>\n",
       "    </tr>\n",
       "    <tr>\n",
       "      <th>274</th>\n",
       "      <td>salut tout le monde,dans l'intervention ci-des...</td>\n",
       "      <td>frerebogdanof_travaux</td>\n",
       "    </tr>\n",
       "    <tr>\n",
       "      <th>275</th>\n",
       "      <td>une série de vidéo, présentent sur youtube au ...</td>\n",
       "      <td>frerebogdanof_travaux</td>\n",
       "    </tr>\n",
       "  </tbody>\n",
       "</table>\n",
       "<p>276 rows × 2 columns</p>\n",
       "</div>"
      ],
      "text/plain": [
       "                                                  post                  sujet\n",
       "0    pour corriger les passages tendancieux, je pro...  frerebogdanof_travaux\n",
       "1    assez d'accord.j'ai fait quelques reformulatio...  frerebogdanof_travaux\n",
       "2    il semble bien que le drame soit plus autour d...  frerebogdanof_travaux\n",
       "3    je suis aussi d'accord pour dire qu'il y atrop...  frerebogdanof_travaux\n",
       "4    je vois pas trop le débat avancer. ne serait-i...  frerebogdanof_travaux\n",
       "..                                                 ...                    ...\n",
       "271  en effet , pas très encyclopédique et pas très...  frerebogdanof_travaux\n",
       "272  je trouve l'article assez faible, surtout par ...  frerebogdanof_travaux\n",
       "273  pour information : sylvestre huet, «un curieux...  frerebogdanof_travaux\n",
       "274  salut tout le monde,dans l'intervention ci-des...  frerebogdanof_travaux\n",
       "275  une série de vidéo, présentent sur youtube au ...  frerebogdanof_travaux\n",
       "\n",
       "[276 rows x 2 columns]"
      ]
     },
     "execution_count": 116,
     "metadata": {},
     "output_type": "execute_result"
    }
   ],
   "source": [
    "dfspacy "
   ]
  },
  {
   "cell_type": "markdown",
   "id": "87b709ad",
   "metadata": {},
   "source": [
    "## EXTRATION DES PHRASE DE CHAQUE POST"
   ]
  },
  {
   "cell_type": "code",
   "execution_count": 144,
   "id": "92b343bf",
   "metadata": {},
   "outputs": [
    {
     "data": {
      "text/plain": [
       "[assez d'accord.j'ai fait quelques reformulations en ce sens mais pas pour tout.,\n",
       " en fin de compte, je pense que cet article n'est pas non plus un drame de pov.,\n",
       " il y a quelques maladresses et je crois que quelques passages et reformulations suffiront.,\n",
       " noisetier (d),\n",
       " 22 mars 2011 ã  21:13 (cet)]"
      ]
     },
     "execution_count": 144,
     "metadata": {},
     "output_type": "execute_result"
    }
   ],
   "source": [
    "phrasepost=[]\n",
    "for comment in dfspacy[\"post\"].apply(str):\n",
    "    phrase_Tok = []\n",
    "    phrase = nlp(comment)\n",
    "    for p in phrase.sents:\n",
    "        phrase_Tok.append(p)\n",
    "    phrasepost.append(phrase_Tok)\n"
   ]
  },
  {
   "cell_type": "code",
   "execution_count": 150,
   "id": "5c251869",
   "metadata": {},
   "outputs": [
    {
     "data": {
      "text/plain": [
       "12"
      ]
     },
     "execution_count": 150,
     "metadata": {},
     "output_type": "execute_result"
    }
   ],
   "source": [
    "dfspacy[\"phrasepost\"]= phrasepost\n",
    "len(dfspacy.phrasepost[0])"
   ]
  },
  {
   "cell_type": "markdown",
   "id": "31c18971",
   "metadata": {},
   "source": [
    "# debut de l'analyse de sentiment avec AFINN"
   ]
  },
  {
   "cell_type": "code",
   "execution_count": 117,
   "id": "9fbd6fdc",
   "metadata": {
    "scrolled": true
   },
   "outputs": [
    {
     "name": "stdout",
     "output_type": "stream",
     "text": [
      "                            topic  scores sentiments\n",
      "0     les gens pensent aux chiens     0.0    neutral\n",
      "1           je deteste les fleurs     0.0    neutral\n",
      "2  il est gentils et intelligents     0.0    neutral\n"
     ]
    }
   ],
   "source": [
    "from afinn import Afinn \n",
    "import pandas as pd \n",
    "  \n",
    "afn = Afinn() \n",
    "  \n",
    "news_df = ['les gens pensent aux chiens','je deteste les fleurs', \n",
    "         'il est gentils et intelligents'] \n",
    "           \n",
    "scores = [afn.score(article) for article in news_df] \n",
    "sentiment = ['positive' if score > 0 \n",
    "                          else 'negative' if score < 0 \n",
    "                              else 'neutral' \n",
    "                                  for score in scores] \n",
    "      \n",
    "df = pd.DataFrame() \n",
    "df['topic'] =  news_df \n",
    "df['scores'] = scores \n",
    "df['sentiments'] = sentiment \n",
    "print(df)"
   ]
  },
  {
   "cell_type": "markdown",
   "id": "9ce1f11a",
   "metadata": {},
   "source": [
    "## text de polarité avec textblob\n"
   ]
  },
  {
   "cell_type": "raw",
   "id": "3c3d25f7",
   "metadata": {},
   "source": [
    "!pip install textblob_fr"
   ]
  },
  {
   "cell_type": "code",
   "execution_count": 118,
   "id": "728f0c45",
   "metadata": {},
   "outputs": [],
   "source": [
    "import spacy\n",
    "from spacy.lang.fr.stop_words import STOP_WORDS\n",
    "import string\n",
    "from textblob import Blobber\n",
    "from textblob_fr import PatternTagger, PatternAnalyzer\n",
    "tb = Blobber(pos_tagger=PatternTagger(), analyzer=PatternAnalyzer())"
   ]
  },
  {
   "cell_type": "code",
   "execution_count": 119,
   "id": "e19087ef",
   "metadata": {},
   "outputs": [],
   "source": [
    "import textblob_fr \n",
    "from textblob import TextBlob"
   ]
  },
  {
   "cell_type": "code",
   "execution_count": 120,
   "id": "99dd19c6",
   "metadata": {},
   "outputs": [],
   "source": [
    "news_df = ['les gens pensent aux chiens',\"il n'aime pas les fleurs\", \n",
    "         'il est gentils et intelligents'] \n"
   ]
  },
  {
   "cell_type": "code",
   "execution_count": 121,
   "id": "cdc46c05",
   "metadata": {},
   "outputs": [],
   "source": [
    "for i in news_df:\n",
    "    text=[]\n",
    "    text.append(TextBlob(i))\n",
    "    "
   ]
  },
  {
   "cell_type": "code",
   "execution_count": 122,
   "id": "86b3abe6",
   "metadata": {},
   "outputs": [
    {
     "name": "stdout",
     "output_type": "stream",
     "text": [
      "0.0\n",
      "0.6\n",
      "0.65\n"
     ]
    }
   ],
   "source": [
    "for i in news_df:\n",
    "    print(tb(i).sentiment[0])\n"
   ]
  },
  {
   "cell_type": "raw",
   "id": "b2e6cc9a",
   "metadata": {},
   "source": [
    "pour traiter les ne pas dans notre pipeline ( contexte )"
   ]
  },
  {
   "cell_type": "code",
   "execution_count": 123,
   "id": "f077af13",
   "metadata": {},
   "outputs": [],
   "source": [
    "nlp = spacy.load(\"fr_core_news_sm\")\n",
    "# Construction from class\n",
    "#from spacy.pipeline import DependencyParser"
   ]
  },
  {
   "cell_type": "code",
   "execution_count": 124,
   "id": "bf72458c",
   "metadata": {},
   "outputs": [],
   "source": [
    "doc = nlp(\"c'est une phrase\")\n"
   ]
  },
  {
   "cell_type": "code",
   "execution_count": 125,
   "id": "021c5f16",
   "metadata": {},
   "outputs": [],
   "source": [
    "fell = pd.read_csv(\"C://Users//ganci//Documents//master_miashs sans TER//Analyse de données textuelles//Projet//Analyse_d_opinion//Données//FEEL.csv\",sep=\";\")"
   ]
  },
  {
   "cell_type": "code",
   "execution_count": 126,
   "id": "dad93080",
   "metadata": {},
   "outputs": [
    {
     "data": {
      "text/html": [
       "<div>\n",
       "<style scoped>\n",
       "    .dataframe tbody tr th:only-of-type {\n",
       "        vertical-align: middle;\n",
       "    }\n",
       "\n",
       "    .dataframe tbody tr th {\n",
       "        vertical-align: top;\n",
       "    }\n",
       "\n",
       "    .dataframe thead th {\n",
       "        text-align: right;\n",
       "    }\n",
       "</style>\n",
       "<table border=\"1\" class=\"dataframe\">\n",
       "  <thead>\n",
       "    <tr style=\"text-align: right;\">\n",
       "      <th></th>\n",
       "      <th>id</th>\n",
       "      <th>word</th>\n",
       "      <th>polarity</th>\n",
       "      <th>joy</th>\n",
       "      <th>fear</th>\n",
       "      <th>sadness</th>\n",
       "      <th>anger</th>\n",
       "      <th>surprise</th>\n",
       "      <th>disgust</th>\n",
       "    </tr>\n",
       "  </thead>\n",
       "  <tbody>\n",
       "    <tr>\n",
       "      <th>0</th>\n",
       "      <td>1</td>\n",
       "      <td>à ce endroit là</td>\n",
       "      <td>positive</td>\n",
       "      <td>0</td>\n",
       "      <td>0</td>\n",
       "      <td>0</td>\n",
       "      <td>0</td>\n",
       "      <td>0</td>\n",
       "      <td>0</td>\n",
       "    </tr>\n",
       "    <tr>\n",
       "      <th>1</th>\n",
       "      <td>2</td>\n",
       "      <td>à le hâte</td>\n",
       "      <td>negative</td>\n",
       "      <td>0</td>\n",
       "      <td>1</td>\n",
       "      <td>0</td>\n",
       "      <td>0</td>\n",
       "      <td>1</td>\n",
       "      <td>0</td>\n",
       "    </tr>\n",
       "    <tr>\n",
       "      <th>2</th>\n",
       "      <td>3</td>\n",
       "      <td>à part</td>\n",
       "      <td>negative</td>\n",
       "      <td>0</td>\n",
       "      <td>0</td>\n",
       "      <td>1</td>\n",
       "      <td>0</td>\n",
       "      <td>0</td>\n",
       "      <td>0</td>\n",
       "    </tr>\n",
       "    <tr>\n",
       "      <th>3</th>\n",
       "      <td>4</td>\n",
       "      <td>à pic</td>\n",
       "      <td>negative</td>\n",
       "      <td>0</td>\n",
       "      <td>1</td>\n",
       "      <td>0</td>\n",
       "      <td>0</td>\n",
       "      <td>0</td>\n",
       "      <td>0</td>\n",
       "    </tr>\n",
       "    <tr>\n",
       "      <th>4</th>\n",
       "      <td>5</td>\n",
       "      <td>à rallonge</td>\n",
       "      <td>negative</td>\n",
       "      <td>0</td>\n",
       "      <td>0</td>\n",
       "      <td>1</td>\n",
       "      <td>0</td>\n",
       "      <td>0</td>\n",
       "      <td>0</td>\n",
       "    </tr>\n",
       "    <tr>\n",
       "      <th>...</th>\n",
       "      <td>...</td>\n",
       "      <td>...</td>\n",
       "      <td>...</td>\n",
       "      <td>...</td>\n",
       "      <td>...</td>\n",
       "      <td>...</td>\n",
       "      <td>...</td>\n",
       "      <td>...</td>\n",
       "      <td>...</td>\n",
       "    </tr>\n",
       "    <tr>\n",
       "      <th>14122</th>\n",
       "      <td>14125</td>\n",
       "      <td>zozoter</td>\n",
       "      <td>negative</td>\n",
       "      <td>0</td>\n",
       "      <td>1</td>\n",
       "      <td>1</td>\n",
       "      <td>1</td>\n",
       "      <td>0</td>\n",
       "      <td>0</td>\n",
       "    </tr>\n",
       "    <tr>\n",
       "      <th>14123</th>\n",
       "      <td>14126</td>\n",
       "      <td>merci</td>\n",
       "      <td>positive</td>\n",
       "      <td>1</td>\n",
       "      <td>0</td>\n",
       "      <td>0</td>\n",
       "      <td>0</td>\n",
       "      <td>0</td>\n",
       "      <td>0</td>\n",
       "    </tr>\n",
       "    <tr>\n",
       "      <th>14124</th>\n",
       "      <td>14127</td>\n",
       "      <td>remercier</td>\n",
       "      <td>positive</td>\n",
       "      <td>1</td>\n",
       "      <td>0</td>\n",
       "      <td>0</td>\n",
       "      <td>0</td>\n",
       "      <td>0</td>\n",
       "      <td>0</td>\n",
       "    </tr>\n",
       "    <tr>\n",
       "      <th>14125</th>\n",
       "      <td>14128</td>\n",
       "      <td>remerciment</td>\n",
       "      <td>positive</td>\n",
       "      <td>1</td>\n",
       "      <td>0</td>\n",
       "      <td>0</td>\n",
       "      <td>0</td>\n",
       "      <td>0</td>\n",
       "      <td>0</td>\n",
       "    </tr>\n",
       "    <tr>\n",
       "      <th>14126</th>\n",
       "      <td>14129</td>\n",
       "      <td>moins</td>\n",
       "      <td>negative</td>\n",
       "      <td>0</td>\n",
       "      <td>0</td>\n",
       "      <td>0</td>\n",
       "      <td>0</td>\n",
       "      <td>0</td>\n",
       "      <td>0</td>\n",
       "    </tr>\n",
       "  </tbody>\n",
       "</table>\n",
       "<p>14127 rows × 9 columns</p>\n",
       "</div>"
      ],
      "text/plain": [
       "          id             word  polarity  joy  fear  sadness  anger  surprise  \\\n",
       "0          1  à ce endroit là  positive    0     0        0      0         0   \n",
       "1          2        à le hâte  negative    0     1        0      0         1   \n",
       "2          3           à part  negative    0     0        1      0         0   \n",
       "3          4            à pic  negative    0     1        0      0         0   \n",
       "4          5       à rallonge  negative    0     0        1      0         0   \n",
       "...      ...              ...       ...  ...   ...      ...    ...       ...   \n",
       "14122  14125          zozoter  negative    0     1        1      1         0   \n",
       "14123  14126            merci  positive    1     0        0      0         0   \n",
       "14124  14127        remercier  positive    1     0        0      0         0   \n",
       "14125  14128      remerciment  positive    1     0        0      0         0   \n",
       "14126  14129            moins  negative    0     0        0      0         0   \n",
       "\n",
       "       disgust  \n",
       "0            0  \n",
       "1            0  \n",
       "2            0  \n",
       "3            0  \n",
       "4            0  \n",
       "...        ...  \n",
       "14122        0  \n",
       "14123        0  \n",
       "14124        0  \n",
       "14125        0  \n",
       "14126        0  \n",
       "\n",
       "[14127 rows x 9 columns]"
      ]
     },
     "execution_count": 126,
     "metadata": {},
     "output_type": "execute_result"
    }
   ],
   "source": [
    "fell"
   ]
  },
  {
   "cell_type": "code",
   "execution_count": 127,
   "id": "488ca560",
   "metadata": {},
   "outputs": [],
   "source": [
    "nlp = spacy.load('fr_core_news_sm')"
   ]
  },
  {
   "cell_type": "code",
   "execution_count": null,
   "id": "d8dcfbed",
   "metadata": {},
   "outputs": [],
   "source": []
  }
 ],
 "metadata": {
  "kernelspec": {
   "display_name": "Python 3",
   "language": "python",
   "name": "python3"
  },
  "language_info": {
   "codemirror_mode": {
    "name": "ipython",
    "version": 3
   },
   "file_extension": ".py",
   "mimetype": "text/x-python",
   "name": "python",
   "nbconvert_exporter": "python",
   "pygments_lexer": "ipython3",
   "version": "3.8.8"
  }
 },
 "nbformat": 4,
 "nbformat_minor": 5
}
