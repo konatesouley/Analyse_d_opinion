{
 "cells": [
  {
   "cell_type": "markdown",
   "id": "c3d69299",
   "metadata": {},
   "source": [
    "# EXTRACTION DES COMMENTAIRE\n"
   ]
  },
  {
   "cell_type": "code",
   "execution_count": 1,
   "id": "acf1ba7c",
   "metadata": {},
   "outputs": [
    {
     "name": "stdout",
     "output_type": "stream",
     "text": [
      "Requirement already satisfied: beautifulsoup4 in c:\\users\\ganci\\anaconda3\\lib\\site-packages (4.9.3)\n",
      "Requirement already satisfied: soupsieve>1.2 in c:\\users\\ganci\\anaconda3\\lib\\site-packages (from beautifulsoup4) (2.2.1)\n",
      "Note: you may need to restart the kernel to use updated packages.\n"
     ]
    }
   ],
   "source": [
    "pip install beautifulsoup4"
   ]
  },
  {
   "cell_type": "code",
   "execution_count": 2,
   "id": "621b4398",
   "metadata": {},
   "outputs": [
    {
     "name": "stdout",
     "output_type": "stream",
     "text": [
      "Requirement already satisfied: lxml in c:\\users\\ganci\\anaconda3\\lib\\site-packages (4.6.3)\n"
     ]
    }
   ],
   "source": [
    "!pip install lxml"
   ]
  },
  {
   "cell_type": "code",
   "execution_count": 3,
   "id": "347a698c",
   "metadata": {},
   "outputs": [],
   "source": [
    "from bs4 import BeautifulSoup"
   ]
  },
  {
   "cell_type": "code",
   "execution_count": null,
   "id": "14cf67c5",
   "metadata": {},
   "outputs": [],
   "source": [
    "html_doc = "
   ]
  },
  {
   "cell_type": "code",
   "execution_count": null,
   "id": "c28ff34b",
   "metadata": {},
   "outputs": [],
   "source": [
    "from bs4 import BeautifulSoup\n",
    "soup = BeautifulSoup(html_doc, 'html.parser')"
   ]
  },
  {
   "cell_type": "code",
   "execution_count": 9,
   "id": "8b295fac",
   "metadata": {},
   "outputs": [
    {
     "name": "stdout",
     "output_type": "stream",
     "text": [
      "['cmr-contributeurs-pages-et-discussions.zip', 'cmr-wikiconflits-affaire_bogdanoff-tei-v1.xml', 'cmr-wikiconflits-affaire_bogdanoff_discu-tei-v1.xml', 'cmr-wikiconflits-bogdanoff-tei-v1.xml', 'cmr-wikiconflits-bogdanoff_discu-tei-v1.html', 'cmr-wikiconflits-bogdanoff_discu-tei-v1.xml', 'cmr-wikiconflits-bogdanoff_discu_neut-tei-v1.xml', 'cmr-wikiconflits-bogdanoff_histo-html.zip', 'cmr-wikiconflits-contributors-tei-v1.xml', 'cmr-wikiconflits-freq_auteurs.xls', 'cmr-wikiconflits-tei-v4.1-manuel.pdf', 'olac-cmr-wikiconflits-tei-v1.xml']\n"
     ]
    }
   ],
   "source": [
    "import os\n",
    "lists = os.listdir('C:/Users/ganci/Documents/master_miashs sans TER/Analyse de données textuelles/Projet/Données/cmr-wikiconflits-bogdanoff_discu-tei-v1')\n",
    "print(lists)\n"
   ]
  },
  {
   "cell_type": "code",
   "execution_count": 18,
   "id": "b6abaaeb",
   "metadata": {},
   "outputs": [
    {
     "data": {
      "text/plain": [
       "['C:/Users/ganci/Documents/master_miashs sans TER/Analyse de données textuelles/Projet/Données/cmr-wikiconflits-bogdanoff_discu-tei-v1']"
      ]
     },
     "execution_count": 18,
     "metadata": {},
     "output_type": "execute_result"
    }
   ],
   "source": [
    "import glob\n",
    "#############################################################################################\n",
    "##  GLOB\n",
    "#############################################################################################\n",
    "### cette fonction retourne tous les fichier que nous avons dans notre repertoire de travail\n",
    "glob.glob('C:/Users/ganci/Documents/master_miashs sans TER/Analyse de données textuelles/Projet/Données/cmr-wikiconflits-bogdanoff_discu-tei-v1') ## pour avoir le type de fichier qu'on souhaite il faut faire \"*.typedefichier\"\n",
    "typefil"
   ]
  },
  {
   "cell_type": "code",
   "execution_count": 6,
   "id": "546bf8cf",
   "metadata": {},
   "outputs": [
    {
     "data": {
      "text/plain": [
       "'C:\\\\Users\\\\ganci\\\\Documents\\\\master_miashs sans TER\\\\Analyse de données textuelles\\\\Projet\\\\Analyse_d_opinion\\\\Codes'"
      ]
     },
     "execution_count": 6,
     "metadata": {},
     "output_type": "execute_result"
    }
   ],
   "source": [
    "#############################################################################################\n",
    "##  OS OPERATING SYSTEM\n",
    "#############################################################################################\n",
    "os.getcwd() ### indique le repertoir de travail on se trouve le module courant\n",
    "\n"
   ]
  },
  {
   "cell_type": "code",
   "execution_count": null,
   "id": "90ba5890",
   "metadata": {},
   "outputs": [],
   "source": [
    "\n",
    "#############################################################################################\n",
    "##  GLOB\n",
    "#############################################################################################\n",
    "### cette fonction retourne tous les fichier que nous avons dans notre repertoire de travail\n",
    "filnames = glob.glob(\"*.txt\") ## pour avoir le type de fichier qu'on souhaite il faut faire \"*.typedefichier\"\n",
    "\n",
    "for file in filnames:\n",
    "    with open(file,\"r\") as f:\n",
    "        print(f.read())\n"
   ]
  }
 ],
 "metadata": {
  "kernelspec": {
   "display_name": "Python 3 (ipykernel)",
   "language": "python",
   "name": "python3"
  },
  "language_info": {
   "codemirror_mode": {
    "name": "ipython",
    "version": 3
   },
   "file_extension": ".py",
   "mimetype": "text/x-python",
   "name": "python",
   "nbconvert_exporter": "python",
   "pygments_lexer": "ipython3",
   "version": "3.9.7"
  }
 },
 "nbformat": 4,
 "nbformat_minor": 5
}
