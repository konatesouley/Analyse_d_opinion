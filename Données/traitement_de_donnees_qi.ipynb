{
 "cells": [
  {
   "cell_type": "markdown",
   "metadata": {},
   "source": [
    "# Traitement de données pour le corpus QI"
   ]
  },
  {
   "cell_type": "markdown",
   "metadata": {},
   "source": [
    "## Installation packages"
   ]
  },
  {
   "cell_type": "code",
   "execution_count": 1,
   "metadata": {},
   "outputs": [],
   "source": [
    "#importation des packages\n",
    "import os \n",
    "import pandas as pd \n",
    "import warnings\n",
    "warnings.filterwarnings(\"ignore\")\n",
    "import matplotlib.pyplot as plt\n",
    "import chardet"
   ]
  },
  {
   "cell_type": "markdown",
   "metadata": {},
   "source": [
    "## Lecture fichier final"
   ]
  },
  {
   "cell_type": "code",
   "execution_count": 2,
   "metadata": {
    "scrolled": true
   },
   "outputs": [],
   "source": [
    "#data_qi = pd.read_csv('corpus_qi.csv')#,\n",
    "                           #sep = '\\t',\n",
    "                           #index_col=False)\n",
    "\n",
    "data_qi = pd.read_csv('fichierQI.csv',\n",
    "                      sep = ';',\n",
    "                      on_bad_lines='skip')"
   ]
  },
  {
   "cell_type": "code",
   "execution_count": 3,
   "metadata": {},
   "outputs": [
    {
     "data": {
      "text/plain": [
       "(159, 10)"
      ]
     },
     "execution_count": 3,
     "metadata": {},
     "output_type": "execute_result"
    }
   ],
   "source": [
    "# dimension de nos données\n",
    "data_qi.shape\n"
   ]
  },
  {
   "cell_type": "code",
   "execution_count": 4,
   "metadata": {},
   "outputs": [
    {
     "data": {
      "text/html": [
       "<div>\n",
       "<style scoped>\n",
       "    .dataframe tbody tr th:only-of-type {\n",
       "        vertical-align: middle;\n",
       "    }\n",
       "\n",
       "    .dataframe tbody tr th {\n",
       "        vertical-align: top;\n",
       "    }\n",
       "\n",
       "    .dataframe thead th {\n",
       "        text-align: right;\n",
       "    }\n",
       "</style>\n",
       "<table border=\"1\" class=\"dataframe\">\n",
       "  <thead>\n",
       "    <tr style=\"text-align: right;\">\n",
       "      <th></th>\n",
       "      <th>Thématique</th>\n",
       "      <th>Titre</th>\n",
       "      <th>Contenu</th>\n",
       "      <th>Date</th>\n",
       "      <th>Heure</th>\n",
       "      <th>Contenu_texte</th>\n",
       "      <th>Numéro du post</th>\n",
       "      <th>Id de l Auteur</th>\n",
       "      <th>Références de l Auteur</th>\n",
       "      <th>Auteur1</th>\n",
       "    </tr>\n",
       "  </thead>\n",
       "  <tbody>\n",
       "    <tr>\n",
       "      <th>0</th>\n",
       "      <td>Quotient intellectuel</td>\n",
       "      <td>Réécriture</td>\n",
       "      <td>&lt;post n=\"0\" when-iso=\"2004-04-30T00:53\" who=\"p...</td>\n",
       "      <td>30/04/2004</td>\n",
       "      <td>00:53</td>\n",
       "      <td>Je viens de réécrire la page qui contenait de ...</td>\n",
       "      <td>0</td>\n",
       "      <td>cmr-wiki-c001-a1</td>\n",
       "      <td>NaN</td>\n",
       "      <td>psn:cmr-wikiconflits-p1723</td>\n",
       "    </tr>\n",
       "    <tr>\n",
       "      <th>1</th>\n",
       "      <td>Quotient intellectuel</td>\n",
       "      <td>Réécriture</td>\n",
       "      <td>&lt;post n=\"1\" ref=\"#cmr-wiki-c001-a1\" when-iso=\"...</td>\n",
       "      <td>29/11/2004</td>\n",
       "      <td>00:31</td>\n",
       "      <td>\\nil semble qu'on a ajouté beaucoup de choses ...</td>\n",
       "      <td>1</td>\n",
       "      <td>cmr-wiki-c001-a2</td>\n",
       "      <td>#cmr-wiki-c001-a1</td>\n",
       "      <td>psn:cmr-wikiconflits-p8915</td>\n",
       "    </tr>\n",
       "    <tr>\n",
       "      <th>2</th>\n",
       "      <td>Quotient intellectuel</td>\n",
       "      <td>Un morceau obscur</td>\n",
       "      <td>&lt;post n=\"0\" when-iso=\"2005-01-16T09:35\" who=\"p...</td>\n",
       "      <td>16/01/2005</td>\n",
       "      <td>09:35</td>\n",
       "      <td>\\nCi-dessous un copier-coller d'une partie de ...</td>\n",
       "      <td>0</td>\n",
       "      <td>cmr-wiki-c001-a3</td>\n",
       "      <td>NaN</td>\n",
       "      <td>psn:cmr-wikiconflits-p1453</td>\n",
       "    </tr>\n",
       "    <tr>\n",
       "      <th>3</th>\n",
       "      <td>Quotient intellectuel</td>\n",
       "      <td>Un morceau obscur</td>\n",
       "      <td>&lt;post n=\"1\" ref=\"#cmr-wiki-c001-a3\" when-iso=\"...</td>\n",
       "      <td>28/01/2005</td>\n",
       "      <td>09:31</td>\n",
       "      <td>c'est faux. La note (QI) est globale, mais il...</td>\n",
       "      <td>1</td>\n",
       "      <td>cmr-wiki-c001-a4</td>\n",
       "      <td>#cmr-wiki-c001-a3</td>\n",
       "      <td>psn:cmr-wikiconflits-p8915</td>\n",
       "    </tr>\n",
       "    <tr>\n",
       "      <th>4</th>\n",
       "      <td>Quotient intellectuel</td>\n",
       "      <td>Lapsus et calembour</td>\n",
       "      <td>&lt;post n=\"0\" when-iso=\"2005-03-29T13:25\" who=\"p...</td>\n",
       "      <td>29/03/2005</td>\n",
       "      <td>13:25</td>\n",
       "      <td>\"On peut programmer assez facilement un ordina...</td>\n",
       "      <td>0</td>\n",
       "      <td>cmr-wiki-c001-a5</td>\n",
       "      <td>NaN</td>\n",
       "      <td>psn:cmr-wikiconflits-p13782</td>\n",
       "    </tr>\n",
       "  </tbody>\n",
       "</table>\n",
       "</div>"
      ],
      "text/plain": [
       "              Thématique                Titre  \\\n",
       "0  Quotient intellectuel           Réécriture   \n",
       "1  Quotient intellectuel           Réécriture   \n",
       "2  Quotient intellectuel    Un morceau obscur   \n",
       "3  Quotient intellectuel    Un morceau obscur   \n",
       "4  Quotient intellectuel  Lapsus et calembour   \n",
       "\n",
       "                                             Contenu        Date  Heure  \\\n",
       "0  <post n=\"0\" when-iso=\"2004-04-30T00:53\" who=\"p...  30/04/2004  00:53   \n",
       "1  <post n=\"1\" ref=\"#cmr-wiki-c001-a1\" when-iso=\"...  29/11/2004  00:31   \n",
       "2  <post n=\"0\" when-iso=\"2005-01-16T09:35\" who=\"p...  16/01/2005  09:35   \n",
       "3  <post n=\"1\" ref=\"#cmr-wiki-c001-a3\" when-iso=\"...  28/01/2005  09:31   \n",
       "4  <post n=\"0\" when-iso=\"2005-03-29T13:25\" who=\"p...  29/03/2005  13:25   \n",
       "\n",
       "                                       Contenu_texte  Numéro du post  \\\n",
       "0  Je viens de réécrire la page qui contenait de ...               0   \n",
       "1  \\nil semble qu'on a ajouté beaucoup de choses ...               1   \n",
       "2  \\nCi-dessous un copier-coller d'une partie de ...               0   \n",
       "3   c'est faux. La note (QI) est globale, mais il...               1   \n",
       "4  \"On peut programmer assez facilement un ordina...               0   \n",
       "\n",
       "     Id de l Auteur Références de l Auteur                      Auteur1  \n",
       "0  cmr-wiki-c001-a1                    NaN   psn:cmr-wikiconflits-p1723  \n",
       "1  cmr-wiki-c001-a2      #cmr-wiki-c001-a1   psn:cmr-wikiconflits-p8915  \n",
       "2  cmr-wiki-c001-a3                    NaN   psn:cmr-wikiconflits-p1453  \n",
       "3  cmr-wiki-c001-a4      #cmr-wiki-c001-a3   psn:cmr-wikiconflits-p8915  \n",
       "4  cmr-wiki-c001-a5                    NaN  psn:cmr-wikiconflits-p13782  "
      ]
     },
     "execution_count": 4,
     "metadata": {},
     "output_type": "execute_result"
    }
   ],
   "source": [
    "# dimension de nos données\n",
    "data_qi.head()\n"
   ]
  },
  {
   "cell_type": "markdown",
   "metadata": {},
   "source": [
    "## Exploration des données"
   ]
  },
  {
   "cell_type": "code",
   "execution_count": 5,
   "metadata": {},
   "outputs": [
    {
     "name": "stdout",
     "output_type": "stream",
     "text": [
      "159\n"
     ]
    }
   ],
   "source": [
    "print(len(data_qi['Contenu'].unique()))"
   ]
  },
  {
   "cell_type": "markdown",
   "metadata": {},
   "source": [
    "### Nombre de mots"
   ]
  },
  {
   "cell_type": "markdown",
   "metadata": {},
   "source": [
    "Le but de cette partie est de regarder l'évolution du nombre de mots pour les commentaires.\n"
   ]
  },
  {
   "cell_type": "code",
   "execution_count": 6,
   "metadata": {},
   "outputs": [
    {
     "data": {
      "text/plain": [
       "[('de', 775),\n",
       " ('à', 429),\n",
       " ('et', 319),\n",
       " ('la', 311),\n",
       " ('que', 306),\n",
       " ('le', 304),\n",
       " ('les', 282),\n",
       " ('des', 259),\n",
       " ('pas', 217),\n",
       " ('en', 193),\n",
       " ('un', 193),\n",
       " ('est', 165),\n",
       " ('ne', 154),\n",
       " ('qui', 149),\n",
       " ('ce', 149),\n",
       " ('dans', 149),\n",
       " ('une', 143),\n",
       " ('du', 130),\n",
       " ('pour', 130),\n",
       " ('sur', 120),\n",
       " ('par', 114),\n",
       " ('a', 111),\n",
       " ('il', 107),\n",
       " ('je', 96),\n",
       " ('mais', 93),\n",
       " ('QI', 90),\n",
       " ('(CEST)', 87),\n",
       " ('de\\n', 86),\n",
       " ('ou', 85),\n",
       " ('sont', 84),\n",
       " ('vous', 77),\n",
       " ('plus', 69),\n",
       " ('au', 64),\n",
       " (\"c'est\", 63),\n",
       " ('on', 60),\n",
       " ('bien', 58),\n",
       " ('(d)', 58),\n",
       " ('y', 53),\n",
       " ('ces', 52),\n",
       " ('se', 50),\n",
       " ('tout', 47),\n",
       " ('avec', 46),\n",
       " (\"n'est\", 45),\n",
       " ('entre', 45),\n",
       " ('même', 45),\n",
       " ('comme', 43),\n",
       " ('tests', 41),\n",
       " (\"qu'il\", 40),\n",
       " ('me', 40),\n",
       " ('très', 39),\n",
       " ('aussi', 38),\n",
       " ('cette', 37),\n",
       " ('la\\n', 37),\n",
       " ('si', 37),\n",
       " ('fait', 36),\n",
       " ('2009', 36),\n",
       " ('donc', 35),\n",
       " ('ont', 35),\n",
       " ('Je', 33),\n",
       " (\"d'une\", 33),\n",
       " ('septembre', 33),\n",
       " ('octobre', 33),\n",
       " ('suis', 32),\n",
       " (\"d'un\", 31),\n",
       " ('à\\n', 29),\n",
       " ('(CET)', 29),\n",
       " ('article', 29),\n",
       " ('des\\n', 29),\n",
       " ('Il', 28),\n",
       " ('Les', 28),\n",
       " ('peut', 28),\n",
       " ('les\\n', 28),\n",
       " ('été', 28),\n",
       " ('soit', 28),\n",
       " ('et\\n', 27),\n",
       " ('leur', 27),\n",
       " ('être', 26),\n",
       " ('son', 26),\n",
       " ('non', 25),\n",
       " ('test', 25),\n",
       " ('tous', 25),\n",
       " ('faire', 25),\n",
       " (\"l'intelligence\", 24),\n",
       " ('ses', 23),\n",
       " ('sa', 23),\n",
       " ('aux', 23),\n",
       " ('que\\n', 23),\n",
       " ('Et', 23),\n",
       " ('cela', 22),\n",
       " (\"l'on\", 22),\n",
       " ('moins', 22),\n",
       " (\"C'est\", 22),\n",
       " (\"j'ai\", 21),\n",
       " ('mesure', 21),\n",
       " (\"l'article\", 21),\n",
       " ('cas', 21),\n",
       " ('sans', 21),\n",
       " ('2005', 20),\n",
       " ('quand', 20),\n",
       " ('personne', 20)]"
      ]
     },
     "execution_count": 6,
     "metadata": {},
     "output_type": "execute_result"
    }
   ],
   "source": [
    "#chi_adrien['contenu'].unique()\n",
    "#chi_adrien['contenu'].value_counts()#le but est de compter le nombre d'occurrences présentes sur une colonne\n",
    "\n",
    "    \n",
    "#Bonne solution\n",
    "#Découpage en mots plutôt qu'en phrases\n",
    "from collections import Counter\n",
    "mots_qi = Counter(\" \".join(data_qi['Contenu_texte'].values.tolist()).split(\" \"))\n",
    "mots_qi\n",
    "\n",
    "\n",
    "#nettoyer les données en retirant les espaces\n",
    "test=['\\n',' ', '','!',':','?']\n",
    "\n",
    "for elem in test:\n",
    "    while elem in mots_qi:\n",
    "        del mots_qi[elem]\n",
    "    \n",
    "occur = mots_qi.most_common(100)#compter le nombre d'occurrences pour les 100 mots les plus fréquents après suppression des espaces\n",
    "occur\n"
   ]
  },
  {
   "cell_type": "code",
   "execution_count": 7,
   "metadata": {},
   "outputs": [
    {
     "name": "stdout",
     "output_type": "stream",
     "text": [
      "C:\\Users\\YCarl\\OneDrive\\Bureau\\Analyse_d_opinion\\Données\n",
      "Collecting wordcloud\n",
      "  Using cached wordcloud-1.8.1.tar.gz (220 kB)\n",
      "Requirement already satisfied: numpy>=1.6.1 in c:\\users\\ycarl\\anaconda\\lib\\site-packages (from wordcloud) (1.20.3)\n",
      "Requirement already satisfied: pillow in c:\\users\\ycarl\\anaconda\\lib\\site-packages (from wordcloud) (8.4.0)\n",
      "Requirement already satisfied: matplotlib in c:\\users\\ycarl\\anaconda\\lib\\site-packages (from wordcloud) (3.4.3)\n",
      "Requirement already satisfied: pyparsing>=2.2.1 in c:\\users\\ycarl\\anaconda\\lib\\site-packages (from matplotlib->wordcloud) (3.0.4)\n",
      "Requirement already satisfied: python-dateutil>=2.7 in c:\\users\\ycarl\\anaconda\\lib\\site-packages (from matplotlib->wordcloud) (2.8.2)\n",
      "Requirement already satisfied: cycler>=0.10 in c:\\users\\ycarl\\anaconda\\lib\\site-packages (from matplotlib->wordcloud) (0.10.0)\n",
      "Requirement already satisfied: kiwisolver>=1.0.1 in c:\\users\\ycarl\\anaconda\\lib\\site-packages (from matplotlib->wordcloud) (1.3.1)\n",
      "Requirement already satisfied: six in c:\\users\\ycarl\\anaconda\\lib\\site-packages (from cycler>=0.10->matplotlib->wordcloud) (1.16.0)\n",
      "Building wheels for collected packages: wordcloud\n",
      "  Building wheel for wordcloud (setup.py): started\n",
      "  Building wheel for wordcloud (setup.py): finished with status 'error'\n",
      "  Running setup.py clean for wordcloud\n",
      "Failed to build wordcloud\n",
      "Installing collected packages: wordcloud\n",
      "    Running setup.py install for wordcloud: started\n",
      "    Running setup.py install for wordcloud: finished with status 'error'\n"
     ]
    },
    {
     "name": "stderr",
     "output_type": "stream",
     "text": [
      "  ERROR: Command errored out with exit status 1:\n",
      "   command: 'C:\\Users\\YCarl\\anaconda\\python.exe' -u -c 'import io, os, sys, setuptools, tokenize; sys.argv[0] = '\"'\"'C:\\\\Users\\\\YCarl\\\\AppData\\\\Local\\\\Temp\\\\pip-install-r1hqkamd\\\\wordcloud_6c77d81cc4284ab8a9bcdda3848c706d\\\\setup.py'\"'\"'; __file__='\"'\"'C:\\\\Users\\\\YCarl\\\\AppData\\\\Local\\\\Temp\\\\pip-install-r1hqkamd\\\\wordcloud_6c77d81cc4284ab8a9bcdda3848c706d\\\\setup.py'\"'\"';f = getattr(tokenize, '\"'\"'open'\"'\"', open)(__file__) if os.path.exists(__file__) else io.StringIO('\"'\"'from setuptools import setup; setup()'\"'\"');code = f.read().replace('\"'\"'\\r\\n'\"'\"', '\"'\"'\\n'\"'\"');f.close();exec(compile(code, __file__, '\"'\"'exec'\"'\"'))' bdist_wheel -d 'C:\\Users\\YCarl\\AppData\\Local\\Temp\\pip-wheel-q8zv4ndl'\n",
      "       cwd: C:\\Users\\YCarl\\AppData\\Local\\Temp\\pip-install-r1hqkamd\\wordcloud_6c77d81cc4284ab8a9bcdda3848c706d\\\n",
      "  Complete output (20 lines):\n",
      "  running bdist_wheel\n",
      "  running build\n",
      "  running build_py\n",
      "  creating build\n",
      "  creating build\\lib.win-amd64-3.9\n",
      "  creating build\\lib.win-amd64-3.9\\wordcloud\n",
      "  copying wordcloud\\color_from_image.py -> build\\lib.win-amd64-3.9\\wordcloud\n",
      "  copying wordcloud\\tokenization.py -> build\\lib.win-amd64-3.9\\wordcloud\n",
      "  copying wordcloud\\wordcloud.py -> build\\lib.win-amd64-3.9\\wordcloud\n",
      "  copying wordcloud\\wordcloud_cli.py -> build\\lib.win-amd64-3.9\\wordcloud\n",
      "  copying wordcloud\\_version.py -> build\\lib.win-amd64-3.9\\wordcloud\n",
      "  copying wordcloud\\__init__.py -> build\\lib.win-amd64-3.9\\wordcloud\n",
      "  copying wordcloud\\__main__.py -> build\\lib.win-amd64-3.9\\wordcloud\n",
      "  copying wordcloud\\stopwords -> build\\lib.win-amd64-3.9\\wordcloud\n",
      "  copying wordcloud\\DroidSansMono.ttf -> build\\lib.win-amd64-3.9\\wordcloud\n",
      "  UPDATING build\\lib.win-amd64-3.9\\wordcloud/_version.py\n",
      "  set build\\lib.win-amd64-3.9\\wordcloud/_version.py to '1.8.1'\n",
      "  running build_ext\n",
      "  building 'wordcloud.query_integral_image' extension\n",
      "  error: Microsoft Visual C++ 14.0 or greater is required. Get it with \"Microsoft C++ Build Tools\": https://visualstudio.microsoft.com/visual-cpp-build-tools/\n",
      "  ----------------------------------------\n",
      "  ERROR: Failed building wheel for wordcloud\n",
      "    ERROR: Command errored out with exit status 1:\n",
      "     command: 'C:\\Users\\YCarl\\anaconda\\python.exe' -u -c 'import io, os, sys, setuptools, tokenize; sys.argv[0] = '\"'\"'C:\\\\Users\\\\YCarl\\\\AppData\\\\Local\\\\Temp\\\\pip-install-r1hqkamd\\\\wordcloud_6c77d81cc4284ab8a9bcdda3848c706d\\\\setup.py'\"'\"'; __file__='\"'\"'C:\\\\Users\\\\YCarl\\\\AppData\\\\Local\\\\Temp\\\\pip-install-r1hqkamd\\\\wordcloud_6c77d81cc4284ab8a9bcdda3848c706d\\\\setup.py'\"'\"';f = getattr(tokenize, '\"'\"'open'\"'\"', open)(__file__) if os.path.exists(__file__) else io.StringIO('\"'\"'from setuptools import setup; setup()'\"'\"');code = f.read().replace('\"'\"'\\r\\n'\"'\"', '\"'\"'\\n'\"'\"');f.close();exec(compile(code, __file__, '\"'\"'exec'\"'\"'))' install --record 'C:\\Users\\YCarl\\AppData\\Local\\Temp\\pip-record-anb9vef2\\install-record.txt' --single-version-externally-managed --compile --install-headers 'C:\\Users\\YCarl\\anaconda\\Include\\wordcloud'\n",
      "         cwd: C:\\Users\\YCarl\\AppData\\Local\\Temp\\pip-install-r1hqkamd\\wordcloud_6c77d81cc4284ab8a9bcdda3848c706d\\\n",
      "    Complete output (20 lines):\n",
      "    running install\n",
      "    running build\n",
      "    running build_py\n",
      "    creating build\n",
      "    creating build\\lib.win-amd64-3.9\n",
      "    creating build\\lib.win-amd64-3.9\\wordcloud\n",
      "    copying wordcloud\\color_from_image.py -> build\\lib.win-amd64-3.9\\wordcloud\n",
      "    copying wordcloud\\tokenization.py -> build\\lib.win-amd64-3.9\\wordcloud\n",
      "    copying wordcloud\\wordcloud.py -> build\\lib.win-amd64-3.9\\wordcloud\n",
      "    copying wordcloud\\wordcloud_cli.py -> build\\lib.win-amd64-3.9\\wordcloud\n",
      "    copying wordcloud\\_version.py -> build\\lib.win-amd64-3.9\\wordcloud\n",
      "    copying wordcloud\\__init__.py -> build\\lib.win-amd64-3.9\\wordcloud\n",
      "    copying wordcloud\\__main__.py -> build\\lib.win-amd64-3.9\\wordcloud\n",
      "    copying wordcloud\\stopwords -> build\\lib.win-amd64-3.9\\wordcloud\n",
      "    copying wordcloud\\DroidSansMono.ttf -> build\\lib.win-amd64-3.9\\wordcloud\n",
      "    UPDATING build\\lib.win-amd64-3.9\\wordcloud/_version.py\n",
      "    set build\\lib.win-amd64-3.9\\wordcloud/_version.py to '1.8.1'\n",
      "    running build_ext\n",
      "    building 'wordcloud.query_integral_image' extension\n",
      "    error: Microsoft Visual C++ 14.0 or greater is required. Get it with \"Microsoft C++ Build Tools\": https://visualstudio.microsoft.com/visual-cpp-build-tools/\n",
      "    ----------------------------------------\n",
      "ERROR: Command errored out with exit status 1: 'C:\\Users\\YCarl\\anaconda\\python.exe' -u -c 'import io, os, sys, setuptools, tokenize; sys.argv[0] = '\"'\"'C:\\\\Users\\\\YCarl\\\\AppData\\\\Local\\\\Temp\\\\pip-install-r1hqkamd\\\\wordcloud_6c77d81cc4284ab8a9bcdda3848c706d\\\\setup.py'\"'\"'; __file__='\"'\"'C:\\\\Users\\\\YCarl\\\\AppData\\\\Local\\\\Temp\\\\pip-install-r1hqkamd\\\\wordcloud_6c77d81cc4284ab8a9bcdda3848c706d\\\\setup.py'\"'\"';f = getattr(tokenize, '\"'\"'open'\"'\"', open)(__file__) if os.path.exists(__file__) else io.StringIO('\"'\"'from setuptools import setup; setup()'\"'\"');code = f.read().replace('\"'\"'\\r\\n'\"'\"', '\"'\"'\\n'\"'\"');f.close();exec(compile(code, __file__, '\"'\"'exec'\"'\"'))' install --record 'C:\\Users\\YCarl\\AppData\\Local\\Temp\\pip-record-anb9vef2\\install-record.txt' --single-version-externally-managed --compile --install-headers 'C:\\Users\\YCarl\\anaconda\\Include\\wordcloud' Check the logs for full command output.\n"
     ]
    }
   ],
   "source": [
    "%cd \"C:\\Users\\YCarl\\OneDrive\\Bureau\\Analyse_d_opinion\\Données\"\n",
    "!pip install wordcloud\n",
    "import io, os, sys, setuptools, tokenize"
   ]
  },
  {
   "cell_type": "code",
   "execution_count": 8,
   "metadata": {},
   "outputs": [
    {
     "name": "stderr",
     "output_type": "stream",
     "text": [
      "  ERROR: Command errored out with exit status 1:\n",
      "   command: 'C:\\Users\\YCarl\\anaconda\\python.exe' -u -c 'import io, os, sys, setuptools, tokenize; sys.argv[0] = '\"'\"'C:\\\\Users\\\\YCarl\\\\AppData\\\\Local\\\\Temp\\\\pip-install-bfidzn8o\\\\wordcloud_336614b00f204833883aedaef03cb12c\\\\setup.py'\"'\"'; __file__='\"'\"'C:\\\\Users\\\\YCarl\\\\AppData\\\\Local\\\\Temp\\\\pip-install-bfidzn8o\\\\wordcloud_336614b00f204833883aedaef03cb12c\\\\setup.py'\"'\"';f = getattr(tokenize, '\"'\"'open'\"'\"', open)(__file__) if os.path.exists(__file__) else io.StringIO('\"'\"'from setuptools import setup; setup()'\"'\"');code = f.read().replace('\"'\"'\\r\\n'\"'\"', '\"'\"'\\n'\"'\"');f.close();exec(compile(code, __file__, '\"'\"'exec'\"'\"'))' bdist_wheel -d 'C:\\Users\\YCarl\\AppData\\Local\\Temp\\pip-wheel-uj43bvim'\n",
      "       cwd: C:\\Users\\YCarl\\AppData\\Local\\Temp\\pip-install-bfidzn8o\\wordcloud_336614b00f204833883aedaef03cb12c\\\n",
      "  Complete output (20 lines):\n",
      "  running bdist_wheel\n",
      "  running build\n",
      "  running build_py\n",
      "  creating build\n",
      "  creating build\\lib.win-amd64-3.9\n",
      "  creating build\\lib.win-amd64-3.9\\wordcloud\n",
      "  copying wordcloud\\color_from_image.py -> build\\lib.win-amd64-3.9\\wordcloud\n",
      "  copying wordcloud\\tokenization.py -> build\\lib.win-amd64-3.9\\wordcloud\n",
      "  copying wordcloud\\wordcloud.py -> build\\lib.win-amd64-3.9\\wordcloud\n",
      "  copying wordcloud\\wordcloud_cli.py -> build\\lib.win-amd64-3.9\\wordcloud\n",
      "  copying wordcloud\\_version.py -> build\\lib.win-amd64-3.9\\wordcloud\n",
      "  copying wordcloud\\__init__.py -> build\\lib.win-amd64-3.9\\wordcloud\n",
      "  copying wordcloud\\__main__.py -> build\\lib.win-amd64-3.9\\wordcloud\n",
      "  copying wordcloud\\stopwords -> build\\lib.win-amd64-3.9\\wordcloud\n",
      "  copying wordcloud\\DroidSansMono.ttf -> build\\lib.win-amd64-3.9\\wordcloud\n",
      "  UPDATING build\\lib.win-amd64-3.9\\wordcloud/_version.py\n",
      "  set build\\lib.win-amd64-3.9\\wordcloud/_version.py to '1.8.1'\n",
      "  running build_ext\n",
      "  building 'wordcloud.query_integral_image' extension\n",
      "  error: Microsoft Visual C++ 14.0 or greater is required. Get it with \"Microsoft C++ Build Tools\": https://visualstudio.microsoft.com/visual-cpp-build-tools/\n",
      "  ----------------------------------------\n",
      "  ERROR: Failed building wheel for wordcloud\n",
      "    ERROR: Command errored out with exit status 1:\n",
      "     command: 'C:\\Users\\YCarl\\anaconda\\python.exe' -u -c 'import io, os, sys, setuptools, tokenize; sys.argv[0] = '\"'\"'C:\\\\Users\\\\YCarl\\\\AppData\\\\Local\\\\Temp\\\\pip-install-bfidzn8o\\\\wordcloud_336614b00f204833883aedaef03cb12c\\\\setup.py'\"'\"'; __file__='\"'\"'C:\\\\Users\\\\YCarl\\\\AppData\\\\Local\\\\Temp\\\\pip-install-bfidzn8o\\\\wordcloud_336614b00f204833883aedaef03cb12c\\\\setup.py'\"'\"';f = getattr(tokenize, '\"'\"'open'\"'\"', open)(__file__) if os.path.exists(__file__) else io.StringIO('\"'\"'from setuptools import setup; setup()'\"'\"');code = f.read().replace('\"'\"'\\r\\n'\"'\"', '\"'\"'\\n'\"'\"');f.close();exec(compile(code, __file__, '\"'\"'exec'\"'\"'))' install --record 'C:\\Users\\YCarl\\AppData\\Local\\Temp\\pip-record-_9y33b7c\\install-record.txt' --single-version-externally-managed --compile --install-headers 'C:\\Users\\YCarl\\anaconda\\Include\\wordcloud'\n",
      "         cwd: C:\\Users\\YCarl\\AppData\\Local\\Temp\\pip-install-bfidzn8o\\wordcloud_336614b00f204833883aedaef03cb12c\\\n",
      "    Complete output (20 lines):\n",
      "    running install\n",
      "    running build\n",
      "    running build_py\n",
      "    creating build\n",
      "    creating build\\lib.win-amd64-3.9\n",
      "    creating build\\lib.win-amd64-3.9\\wordcloud\n",
      "    copying wordcloud\\color_from_image.py -> build\\lib.win-amd64-3.9\\wordcloud\n",
      "    copying wordcloud\\tokenization.py -> build\\lib.win-amd64-3.9\\wordcloud\n",
      "    copying wordcloud\\wordcloud.py -> build\\lib.win-amd64-3.9\\wordcloud\n",
      "    copying wordcloud\\wordcloud_cli.py -> build\\lib.win-amd64-3.9\\wordcloud\n",
      "    copying wordcloud\\_version.py -> build\\lib.win-amd64-3.9\\wordcloud\n",
      "    copying wordcloud\\__init__.py -> build\\lib.win-amd64-3.9\\wordcloud\n",
      "    copying wordcloud\\__main__.py -> build\\lib.win-amd64-3.9\\wordcloud\n",
      "    copying wordcloud\\stopwords -> build\\lib.win-amd64-3.9\\wordcloud\n",
      "    copying wordcloud\\DroidSansMono.ttf -> build\\lib.win-amd64-3.9\\wordcloud\n",
      "    UPDATING build\\lib.win-amd64-3.9\\wordcloud/_version.py\n",
      "    set build\\lib.win-amd64-3.9\\wordcloud/_version.py to '1.8.1'\n",
      "    running build_ext\n",
      "    building 'wordcloud.query_integral_image' extension\n",
      "    error: Microsoft Visual C++ 14.0 or greater is required. Get it with \"Microsoft C++ Build Tools\": https://visualstudio.microsoft.com/visual-cpp-build-tools/\n",
      "    ----------------------------------------\n",
      "ERROR: Command errored out with exit status 1: 'C:\\Users\\YCarl\\anaconda\\python.exe' -u -c 'import io, os, sys, setuptools, tokenize; sys.argv[0] = '\"'\"'C:\\\\Users\\\\YCarl\\\\AppData\\\\Local\\\\Temp\\\\pip-install-bfidzn8o\\\\wordcloud_336614b00f204833883aedaef03cb12c\\\\setup.py'\"'\"'; __file__='\"'\"'C:\\\\Users\\\\YCarl\\\\AppData\\\\Local\\\\Temp\\\\pip-install-bfidzn8o\\\\wordcloud_336614b00f204833883aedaef03cb12c\\\\setup.py'\"'\"';f = getattr(tokenize, '\"'\"'open'\"'\"', open)(__file__) if os.path.exists(__file__) else io.StringIO('\"'\"'from setuptools import setup; setup()'\"'\"');code = f.read().replace('\"'\"'\\r\\n'\"'\"', '\"'\"'\\n'\"'\"');f.close();exec(compile(code, __file__, '\"'\"'exec'\"'\"'))' install --record 'C:\\Users\\YCarl\\AppData\\Local\\Temp\\pip-record-_9y33b7c\\install-record.txt' --single-version-externally-managed --compile --install-headers 'C:\\Users\\YCarl\\anaconda\\Include\\wordcloud' Check the logs for full command output.\n"
     ]
    },
    {
     "name": "stdout",
     "output_type": "stream",
     "text": [
      "Collecting wordcloud\n",
      "  Using cached wordcloud-1.8.1.tar.gz (220 kB)\n",
      "Requirement already satisfied: numpy>=1.6.1 in c:\\users\\ycarl\\anaconda\\lib\\site-packages (from wordcloud) (1.20.3)\n",
      "Requirement already satisfied: pillow in c:\\users\\ycarl\\anaconda\\lib\\site-packages (from wordcloud) (8.4.0)\n",
      "Requirement already satisfied: matplotlib in c:\\users\\ycarl\\anaconda\\lib\\site-packages (from wordcloud) (3.4.3)\n",
      "Requirement already satisfied: kiwisolver>=1.0.1 in c:\\users\\ycarl\\anaconda\\lib\\site-packages (from matplotlib->wordcloud) (1.3.1)\n",
      "Requirement already satisfied: cycler>=0.10 in c:\\users\\ycarl\\anaconda\\lib\\site-packages (from matplotlib->wordcloud) (0.10.0)\n",
      "Requirement already satisfied: pyparsing>=2.2.1 in c:\\users\\ycarl\\anaconda\\lib\\site-packages (from matplotlib->wordcloud) (3.0.4)\n",
      "Requirement already satisfied: python-dateutil>=2.7 in c:\\users\\ycarl\\anaconda\\lib\\site-packages (from matplotlib->wordcloud) (2.8.2)\n",
      "Requirement already satisfied: six in c:\\users\\ycarl\\anaconda\\lib\\site-packages (from cycler>=0.10->matplotlib->wordcloud) (1.16.0)\n",
      "Building wheels for collected packages: wordcloud\n",
      "  Building wheel for wordcloud (setup.py): started\n",
      "  Building wheel for wordcloud (setup.py): finished with status 'error'\n",
      "  Running setup.py clean for wordcloud\n",
      "Failed to build wordcloud\n",
      "Installing collected packages: wordcloud\n",
      "    Running setup.py install for wordcloud: started\n",
      "    Running setup.py install for wordcloud: finished with status 'error'\n"
     ]
    },
    {
     "ename": "ModuleNotFoundError",
     "evalue": "No module named 'wordcloud'",
     "output_type": "error",
     "traceback": [
      "\u001b[1;31m---------------------------------------------------------------------------\u001b[0m",
      "\u001b[1;31mModuleNotFoundError\u001b[0m                       Traceback (most recent call last)",
      "\u001b[1;32m~\\AppData\\Local\\Temp/ipykernel_19368/1816440400.py\u001b[0m in \u001b[0;36m<module>\u001b[1;34m\u001b[0m\n\u001b[0;32m      1\u001b[0m \u001b[0mget_ipython\u001b[0m\u001b[1;33m(\u001b[0m\u001b[1;33m)\u001b[0m\u001b[1;33m.\u001b[0m\u001b[0msystem\u001b[0m\u001b[1;33m(\u001b[0m\u001b[1;34m'pip install wordcloud'\u001b[0m\u001b[1;33m)\u001b[0m\u001b[1;33m\u001b[0m\u001b[1;33m\u001b[0m\u001b[0m\n\u001b[1;32m----> 2\u001b[1;33m \u001b[1;32mfrom\u001b[0m \u001b[0mwordcloud\u001b[0m \u001b[1;32mimport\u001b[0m \u001b[0mWordCloud\u001b[0m \u001b[1;32mas\u001b[0m \u001b[0mwc\u001b[0m\u001b[1;33m\u001b[0m\u001b[1;33m\u001b[0m\u001b[0m\n\u001b[0m\u001b[0;32m      3\u001b[0m \u001b[1;32mfrom\u001b[0m \u001b[0mwordcloud\u001b[0m \u001b[1;32mimport\u001b[0m \u001b[0mImageColorGenerator\u001b[0m\u001b[1;33m\u001b[0m\u001b[1;33m\u001b[0m\u001b[0m\n\u001b[0;32m      4\u001b[0m \u001b[1;32mimport\u001b[0m \u001b[0mre\u001b[0m\u001b[1;33m\u001b[0m\u001b[1;33m\u001b[0m\u001b[0m\n\u001b[0;32m      5\u001b[0m \u001b[1;32mimport\u001b[0m \u001b[0mmatplotlib\u001b[0m\u001b[1;33m.\u001b[0m\u001b[0mpyplot\u001b[0m \u001b[1;32mas\u001b[0m \u001b[0mplt\u001b[0m\u001b[1;33m\u001b[0m\u001b[1;33m\u001b[0m\u001b[0m\n",
      "\u001b[1;31mModuleNotFoundError\u001b[0m: No module named 'wordcloud'"
     ]
    }
   ],
   "source": [
    "!pip install wordcloud\n",
    "from wordcloud import WordCloud as wc\n",
    "from wordcloud import ImageColorGenerator\n",
    "import re\n",
    "import matplotlib.pyplot as plt\n",
    "from PIL import Image"
   ]
  },
  {
   "cell_type": "code",
   "execution_count": null,
   "metadata": {},
   "outputs": [],
   "source": [
    "import numpy as np\n",
    "import pandas as pd\n",
    "from os import path\n",
    "from PIL import Image\n",
    "from wordcloud import WordCloud, STOPWORDS, ImageColorGenerator\n",
    "\n",
    "import matplotlib.pyplot as plt\n",
    "% matplotlib inline"
   ]
  },
  {
   "cell_type": "code",
   "execution_count": 16,
   "metadata": {},
   "outputs": [
    {
     "ename": "NameError",
     "evalue": "name 'wc' is not defined",
     "output_type": "error",
     "traceback": [
      "\u001b[1;31m---------------------------------------------------------------------------\u001b[0m",
      "\u001b[1;31mNameError\u001b[0m                                 Traceback (most recent call last)",
      "\u001b[1;32m~\\AppData\\Local\\Temp/ipykernel_11096/3611049240.py\u001b[0m in \u001b[0;36m<module>\u001b[1;34m\u001b[0m\n\u001b[0;32m      9\u001b[0m \u001b[0mdata_qi\u001b[0m\u001b[1;33m.\u001b[0m\u001b[0mhead\u001b[0m\u001b[1;33m(\u001b[0m\u001b[1;33m)\u001b[0m\u001b[1;33m\u001b[0m\u001b[1;33m\u001b[0m\u001b[0m\n\u001b[0;32m     10\u001b[0m \u001b[0mtext2\u001b[0m \u001b[1;33m=\u001b[0m \u001b[1;34m\" \"\u001b[0m\u001b[1;33m.\u001b[0m\u001b[0mjoin\u001b[0m\u001b[1;33m(\u001b[0m\u001b[0mContenu\u001b[0m \u001b[1;32mfor\u001b[0m \u001b[0mContenu\u001b[0m \u001b[1;32min\u001b[0m \u001b[0mdata_qi\u001b[0m\u001b[1;33m.\u001b[0m\u001b[0mContenu\u001b[0m\u001b[1;33m)\u001b[0m\u001b[1;33m\u001b[0m\u001b[1;33m\u001b[0m\u001b[0m\n\u001b[1;32m---> 11\u001b[1;33m \u001b[0mword_cloud2\u001b[0m \u001b[1;33m=\u001b[0m \u001b[0mwc\u001b[0m\u001b[1;33m(\u001b[0m\u001b[0mcollocations\u001b[0m \u001b[1;33m=\u001b[0m \u001b[1;32mFalse\u001b[0m\u001b[1;33m,\u001b[0m \u001b[0mbackground_color\u001b[0m \u001b[1;33m=\u001b[0m \u001b[1;34m'white'\u001b[0m\u001b[1;33m)\u001b[0m\u001b[1;33m.\u001b[0m\u001b[0mgenerate\u001b[0m\u001b[1;33m(\u001b[0m\u001b[0mtext2\u001b[0m\u001b[1;33m)\u001b[0m\u001b[1;33m\u001b[0m\u001b[1;33m\u001b[0m\u001b[0m\n\u001b[0m\u001b[0;32m     12\u001b[0m \u001b[1;33m\u001b[0m\u001b[0m\n\u001b[0;32m     13\u001b[0m \u001b[1;33m\u001b[0m\u001b[0m\n",
      "\u001b[1;31mNameError\u001b[0m: name 'wc' is not defined"
     ]
    }
   ],
   "source": [
    "#nuages de mots avec les mots les plus fréquents\n",
    "\n",
    "#importation des packages\n",
    "#from wordcloud import ImageColorGenerator\n",
    "import re\n",
    "import matplotlib.pyplot as plt\n",
    "from PIL import Image\n",
    "\n",
    "data_qi.head()\n",
    "text2 = \" \".join(Contenu for Contenu in data_qi.Contenu)\n",
    "word_cloud2 = wc(collocations = False, background_color = 'white').generate(text2)\n",
    "\n",
    "\n",
    "\n",
    "\n",
    "# Permet de générer le nuage de mots\n",
    "plt.imshow(word_cloud2, interpolation='bilinear')\n",
    "plt.axis(\"off\")\n",
    "plt.show()\n"
   ]
  },
  {
   "cell_type": "code",
   "execution_count": 14,
   "metadata": {},
   "outputs": [
    {
     "ename": "NameError",
     "evalue": "name 'WordCloud' is not defined",
     "output_type": "error",
     "traceback": [
      "\u001b[1;31m---------------------------------------------------------------------------\u001b[0m",
      "\u001b[1;31mNameError\u001b[0m                                 Traceback (most recent call last)",
      "\u001b[1;32m~\\AppData\\Local\\Temp/ipykernel_11096/2279435412.py\u001b[0m in \u001b[0;36m<module>\u001b[1;34m\u001b[0m\n\u001b[0;32m      4\u001b[0m \u001b[1;33m\u001b[0m\u001b[0m\n\u001b[0;32m      5\u001b[0m \u001b[1;31m#Créer et génèrer le nuage de mots avec les 100 mots les plus fréquents\u001b[0m\u001b[1;33m\u001b[0m\u001b[1;33m\u001b[0m\u001b[0m\n\u001b[1;32m----> 6\u001b[1;33m \u001b[0mwc\u001b[0m \u001b[1;33m=\u001b[0m \u001b[0mWordCloud\u001b[0m\u001b[1;33m(\u001b[0m\u001b[0mcollocations\u001b[0m \u001b[1;33m=\u001b[0m \u001b[1;32mFalse\u001b[0m\u001b[1;33m,\u001b[0m \u001b[0mbackground_color\u001b[0m \u001b[1;33m=\u001b[0m \u001b[1;34m'white'\u001b[0m\u001b[1;33m,\u001b[0m\u001b[0mheight\u001b[0m\u001b[1;33m=\u001b[0m\u001b[1;36m1000\u001b[0m\u001b[1;33m,\u001b[0m\u001b[0mwidth\u001b[0m\u001b[1;33m=\u001b[0m\u001b[1;36m2000\u001b[0m\u001b[1;33m,\u001b[0m\u001b[0mmax_words\u001b[0m\u001b[1;33m=\u001b[0m\u001b[1;36m100\u001b[0m\u001b[1;33m,\u001b[0m\u001b[0mscale\u001b[0m\u001b[1;33m=\u001b[0m\u001b[1;36m7\u001b[0m\u001b[1;33m)\u001b[0m\u001b[1;33m\u001b[0m\u001b[1;33m\u001b[0m\u001b[0m\n\u001b[0m\u001b[0;32m      7\u001b[0m \u001b[1;33m\u001b[0m\u001b[0m\n\u001b[0;32m      8\u001b[0m \u001b[1;31m#Génèrer les fréquences avec la collection créée en amont\u001b[0m\u001b[1;33m\u001b[0m\u001b[1;33m\u001b[0m\u001b[0m\n",
      "\u001b[1;31mNameError\u001b[0m: name 'WordCloud' is not defined"
     ]
    }
   ],
   "source": [
    "#Brouillons\n",
    "\n",
    "# Nouvelle version du code pour les mots les plus fréquents après suppression de la ponctuation\n",
    "\n",
    "#Créer et génèrer le nuage de mots avec les 100 mots les plus fréquents\n",
    "wc = WordCloud(collocations = False, background_color = 'white',height=1000,width=2000,max_words=100,scale=7)\n",
    "\n",
    "#Génèrer les fréquences avec la collection créée en amont\n",
    "wc.generate_from_frequencies(mots_qi)\n",
    "\n",
    "\n",
    "# Permet de générer le nuage de mots\n",
    "\n",
    "plt.imshow(wc, interpolation='bilinear')\n",
    "fig = plt.figure(1, figsize=(20, 20))\n",
    "plt.axis(\"off\")\n",
    "plt.savefig('figsize_test_qi.png',dpi=200)\n",
    "plt.show()\n",
    "\n"
   ]
  }
 ],
 "metadata": {
  "hide_input": true,
  "kernelspec": {
   "display_name": "Python 3 (ipykernel)",
   "language": "python",
   "name": "python3"
  },
  "language_info": {
   "codemirror_mode": {
    "name": "ipython",
    "version": 3
   },
   "file_extension": ".py",
   "mimetype": "text/x-python",
   "name": "python",
   "nbconvert_exporter": "python",
   "pygments_lexer": "ipython3",
   "version": "3.9.7"
  }
 },
 "nbformat": 4,
 "nbformat_minor": 2
}
