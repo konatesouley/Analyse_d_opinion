{
 "cells": [
  {
   "cell_type": "code",
   "execution_count": 1,
   "id": "a9888af7",
   "metadata": {},
   "outputs": [
    {
     "name": "stdout",
     "output_type": "stream",
     "text": [
      "Requirement already satisfied: afinn in c:\\users\\ycarl\\anaconda\\lib\\site-packages (0.1)\n"
     ]
    }
   ],
   "source": [
    "!pip install afinn "
   ]
  },
  {
   "cell_type": "code",
   "execution_count": 2,
   "id": "709c871a",
   "metadata": {},
   "outputs": [
    {
     "name": "stdout",
     "output_type": "stream",
     "text": [
      "Requirement already satisfied: textblob in c:\\users\\ycarl\\anaconda\\lib\\site-packages (0.17.1)\n",
      "Requirement already satisfied: nltk>=3.1 in c:\\users\\ycarl\\anaconda\\lib\\site-packages (from textblob) (3.6.5)\n",
      "Requirement already satisfied: click in c:\\users\\ycarl\\anaconda\\lib\\site-packages (from nltk>=3.1->textblob) (8.0.3)\n",
      "Requirement already satisfied: joblib in c:\\users\\ycarl\\anaconda\\lib\\site-packages (from nltk>=3.1->textblob) (1.1.0)\n",
      "Requirement already satisfied: regex>=2021.8.3 in c:\\users\\ycarl\\anaconda\\lib\\site-packages (from nltk>=3.1->textblob) (2021.8.3)\n",
      "Requirement already satisfied: tqdm in c:\\users\\ycarl\\anaconda\\lib\\site-packages (from nltk>=3.1->textblob) (4.62.3)\n",
      "Requirement already satisfied: colorama in c:\\users\\ycarl\\anaconda\\lib\\site-packages (from click->nltk>=3.1->textblob) (0.4.4)\n"
     ]
    }
   ],
   "source": [
    "!pip install textblob"
   ]
  },
  {
   "cell_type": "code",
   "execution_count": 3,
   "id": "d465d562",
   "metadata": {},
   "outputs": [
    {
     "name": "stdout",
     "output_type": "stream",
     "text": [
      "Requirement already satisfied: textblob_fr in c:\\users\\ycarl\\anaconda\\lib\\site-packages (0.2.0)\n",
      "Requirement already satisfied: textblob>=0.8.0 in c:\\users\\ycarl\\anaconda\\lib\\site-packages (from textblob_fr) (0.17.1)\n",
      "Requirement already satisfied: nltk>=3.1 in c:\\users\\ycarl\\anaconda\\lib\\site-packages (from textblob>=0.8.0->textblob_fr) (3.6.5)\n",
      "Requirement already satisfied: click in c:\\users\\ycarl\\anaconda\\lib\\site-packages (from nltk>=3.1->textblob>=0.8.0->textblob_fr) (8.0.3)\n",
      "Requirement already satisfied: joblib in c:\\users\\ycarl\\anaconda\\lib\\site-packages (from nltk>=3.1->textblob>=0.8.0->textblob_fr) (1.1.0)\n",
      "Requirement already satisfied: regex>=2021.8.3 in c:\\users\\ycarl\\anaconda\\lib\\site-packages (from nltk>=3.1->textblob>=0.8.0->textblob_fr) (2021.8.3)\n",
      "Requirement already satisfied: tqdm in c:\\users\\ycarl\\anaconda\\lib\\site-packages (from nltk>=3.1->textblob>=0.8.0->textblob_fr) (4.62.3)\n",
      "Requirement already satisfied: colorama in c:\\users\\ycarl\\anaconda\\lib\\site-packages (from click->nltk>=3.1->textblob>=0.8.0->textblob_fr) (0.4.4)\n"
     ]
    }
   ],
   "source": [
    "!pip install textblob_fr"
   ]
  },
  {
   "cell_type": "code",
   "execution_count": 4,
   "id": "3fc17c22",
   "metadata": {},
   "outputs": [
    {
     "name": "stdout",
     "output_type": "stream",
     "text": [
      "Requirement already satisfied: plotly in c:\\users\\ycarl\\anaconda\\lib\\site-packages (5.6.0)\n",
      "Requirement already satisfied: tenacity>=6.2.0 in c:\\users\\ycarl\\anaconda\\lib\\site-packages (from plotly) (8.0.1)\n",
      "Requirement already satisfied: six in c:\\users\\ycarl\\anaconda\\lib\\site-packages (from plotly) (1.16.0)\n"
     ]
    }
   ],
   "source": [
    "!pip install plotly"
   ]
  },
  {
   "cell_type": "code",
   "execution_count": 5,
   "id": "8829edef",
   "metadata": {},
   "outputs": [],
   "source": [
    "import pandas as pd\n",
    "import matplotlib.pyplot as plt\n",
    "import numpy as np\n",
    "from afinn import Afinn \n",
    "import spacy\n",
    "from nltk.tokenize import sent_tokenize\n",
    "from nltk.tokenize import word_tokenize\n",
    "import re\n",
    "from spacy.lang.fr.stop_words import STOP_WORDS\n",
    "import string\n",
    "from textblob import Blobber\n",
    "from textblob_fr import PatternTagger, PatternAnalyzer\n",
    "tb = Blobber(pos_tagger=PatternTagger(), analyzer=PatternAnalyzer())\n",
    "import plotly.graph_objects as go\n",
    "import plotly.express as px"
   ]
  },
  {
   "cell_type": "code",
   "execution_count": 6,
   "id": "1c82abba",
   "metadata": {},
   "outputs": [],
   "source": [
    "#df = pd.read_csv(\"C://Users//ganci//Documents//master_miashs sans TER//Analyse de données textuelles//Projet//Analyse_d_opinion//Données//corpus_bogdanof.csv\")\n",
    "df = pd.read_csv(\"C://Users//YCarl//OneDrive//Bureau//Analyse_d_opinion//Données//corpus_bogdanof.csv\")"
   ]
  },
  {
   "cell_type": "code",
   "execution_count": 7,
   "id": "06b50869",
   "metadata": {},
   "outputs": [
    {
     "data": {
      "text/html": [
       "<div>\n",
       "<style scoped>\n",
       "    .dataframe tbody tr th:only-of-type {\n",
       "        vertical-align: middle;\n",
       "    }\n",
       "\n",
       "    .dataframe tbody tr th {\n",
       "        vertical-align: top;\n",
       "    }\n",
       "\n",
       "    .dataframe thead th {\n",
       "        text-align: right;\n",
       "    }\n",
       "</style>\n",
       "<table border=\"1\" class=\"dataframe\">\n",
       "  <thead>\n",
       "    <tr style=\"text-align: right;\">\n",
       "      <th></th>\n",
       "      <th>Unnamed: 0</th>\n",
       "      <th>post</th>\n",
       "      <th>sujet</th>\n",
       "    </tr>\n",
       "  </thead>\n",
       "  <tbody>\n",
       "    <tr>\n",
       "      <th>0</th>\n",
       "      <td>0</td>\n",
       "      <td>\\r\\nPour corriger les passages tendancieux, je...</td>\n",
       "      <td>frerebogdanof_travaux</td>\n",
       "    </tr>\n",
       "    <tr>\n",
       "      <th>1</th>\n",
       "      <td>1</td>\n",
       "      <td>\\r\\nAssez d'accord.\\r\\nJ'ai fait quelques refo...</td>\n",
       "      <td>frerebogdanof_travaux</td>\n",
       "    </tr>\n",
       "    <tr>\n",
       "      <th>2</th>\n",
       "      <td>2</td>\n",
       "      <td>\\r\\nIl semble bien que le drame soit plus auto...</td>\n",
       "      <td>frerebogdanof_travaux</td>\n",
       "    </tr>\n",
       "    <tr>\n",
       "      <th>3</th>\n",
       "      <td>3</td>\n",
       "      <td>\\r\\nJe suis aussi d'accord pour dire qu'il y a...</td>\n",
       "      <td>frerebogdanof_travaux</td>\n",
       "    </tr>\n",
       "    <tr>\n",
       "      <th>4</th>\n",
       "      <td>4</td>\n",
       "      <td>\\r\\nJe vois pas trop le dÃ©bat avancer. Ne ser...</td>\n",
       "      <td>frerebogdanof_travaux</td>\n",
       "    </tr>\n",
       "    <tr>\n",
       "      <th>...</th>\n",
       "      <td>...</td>\n",
       "      <td>...</td>\n",
       "      <td>...</td>\n",
       "    </tr>\n",
       "    <tr>\n",
       "      <th>271</th>\n",
       "      <td>271</td>\n",
       "      <td>\\r\\n\\r\\nEn effet , pas très encyclopédique et ...</td>\n",
       "      <td>frerebogdanof_travaux</td>\n",
       "    </tr>\n",
       "    <tr>\n",
       "      <th>272</th>\n",
       "      <td>272</td>\n",
       "      <td>\\r\\n\\r\\nJe trouve l'article assez faible, surt...</td>\n",
       "      <td>frerebogdanof_travaux</td>\n",
       "    </tr>\n",
       "    <tr>\n",
       "      <th>273</th>\n",
       "      <td>273</td>\n",
       "      <td>\\r\\n\\r\\nPour information : Sylvestre Huet, «\\r...</td>\n",
       "      <td>frerebogdanof_travaux</td>\n",
       "    </tr>\n",
       "    <tr>\n",
       "      <th>274</th>\n",
       "      <td>274</td>\n",
       "      <td>\\r\\n\\r\\n\\r\\n\\r\\nSalut tout le monde,\\r\\n\\r\\nDa...</td>\n",
       "      <td>frerebogdanof_travaux</td>\n",
       "    </tr>\n",
       "    <tr>\n",
       "      <th>275</th>\n",
       "      <td>275</td>\n",
       "      <td>\\r\\n\\r\\nUne série de vidéo, présentent sur you...</td>\n",
       "      <td>frerebogdanof_travaux</td>\n",
       "    </tr>\n",
       "  </tbody>\n",
       "</table>\n",
       "<p>276 rows × 3 columns</p>\n",
       "</div>"
      ],
      "text/plain": [
       "     Unnamed: 0                                               post  \\\n",
       "0             0  \\r\\nPour corriger les passages tendancieux, je...   \n",
       "1             1  \\r\\nAssez d'accord.\\r\\nJ'ai fait quelques refo...   \n",
       "2             2  \\r\\nIl semble bien que le drame soit plus auto...   \n",
       "3             3  \\r\\nJe suis aussi d'accord pour dire qu'il y a...   \n",
       "4             4  \\r\\nJe vois pas trop le dÃ©bat avancer. Ne ser...   \n",
       "..          ...                                                ...   \n",
       "271         271  \\r\\n\\r\\nEn effet , pas très encyclopédique et ...   \n",
       "272         272  \\r\\n\\r\\nJe trouve l'article assez faible, surt...   \n",
       "273         273  \\r\\n\\r\\nPour information : Sylvestre Huet, «\\r...   \n",
       "274         274  \\r\\n\\r\\n\\r\\n\\r\\nSalut tout le monde,\\r\\n\\r\\nDa...   \n",
       "275         275  \\r\\n\\r\\nUne série de vidéo, présentent sur you...   \n",
       "\n",
       "                     sujet  \n",
       "0    frerebogdanof_travaux  \n",
       "1    frerebogdanof_travaux  \n",
       "2    frerebogdanof_travaux  \n",
       "3    frerebogdanof_travaux  \n",
       "4    frerebogdanof_travaux  \n",
       "..                     ...  \n",
       "271  frerebogdanof_travaux  \n",
       "272  frerebogdanof_travaux  \n",
       "273  frerebogdanof_travaux  \n",
       "274  frerebogdanof_travaux  \n",
       "275  frerebogdanof_travaux  \n",
       "\n",
       "[276 rows x 3 columns]"
      ]
     },
     "execution_count": 7,
     "metadata": {},
     "output_type": "execute_result"
    }
   ],
   "source": [
    "df"
   ]
  },
  {
   "cell_type": "code",
   "execution_count": 8,
   "id": "5d886bbb",
   "metadata": {},
   "outputs": [],
   "source": [
    "df = df.replace(to_replace='\\n', value='', regex=True)"
   ]
  },
  {
   "cell_type": "code",
   "execution_count": 9,
   "id": "3bc2d4cc",
   "metadata": {},
   "outputs": [],
   "source": [
    "df = df.replace(to_replace='Ã©', value='é', regex=True)"
   ]
  },
  {
   "cell_type": "code",
   "execution_count": 10,
   "id": "b2dba271",
   "metadata": {},
   "outputs": [
    {
     "data": {
      "text/html": [
       "<div>\n",
       "<style scoped>\n",
       "    .dataframe tbody tr th:only-of-type {\n",
       "        vertical-align: middle;\n",
       "    }\n",
       "\n",
       "    .dataframe tbody tr th {\n",
       "        vertical-align: top;\n",
       "    }\n",
       "\n",
       "    .dataframe thead th {\n",
       "        text-align: right;\n",
       "    }\n",
       "</style>\n",
       "<table border=\"1\" class=\"dataframe\">\n",
       "  <thead>\n",
       "    <tr style=\"text-align: right;\">\n",
       "      <th></th>\n",
       "      <th>post</th>\n",
       "      <th>sujet</th>\n",
       "    </tr>\n",
       "  </thead>\n",
       "  <tbody>\n",
       "    <tr>\n",
       "      <th>0</th>\n",
       "      <td>\\rPour corriger les passages tendancieux, je p...</td>\n",
       "      <td>frerebogdanof_travaux</td>\n",
       "    </tr>\n",
       "    <tr>\n",
       "      <th>1</th>\n",
       "      <td>\\rAssez d'accord.\\rJ'ai fait quelques reformul...</td>\n",
       "      <td>frerebogdanof_travaux</td>\n",
       "    </tr>\n",
       "    <tr>\n",
       "      <th>2</th>\n",
       "      <td>\\rIl semble bien que le drame soit plus autour...</td>\n",
       "      <td>frerebogdanof_travaux</td>\n",
       "    </tr>\n",
       "    <tr>\n",
       "      <th>3</th>\n",
       "      <td>\\rJe suis aussi d'accord pour dire qu'il y atr...</td>\n",
       "      <td>frerebogdanof_travaux</td>\n",
       "    </tr>\n",
       "    <tr>\n",
       "      <th>4</th>\n",
       "      <td>\\rJe vois pas trop le débat avancer. Ne serait...</td>\n",
       "      <td>frerebogdanof_travaux</td>\n",
       "    </tr>\n",
       "    <tr>\n",
       "      <th>...</th>\n",
       "      <td>...</td>\n",
       "      <td>...</td>\n",
       "    </tr>\n",
       "    <tr>\n",
       "      <th>271</th>\n",
       "      <td>\\r\\rEn effet , pas très encyclopédique et pas ...</td>\n",
       "      <td>frerebogdanof_travaux</td>\n",
       "    </tr>\n",
       "    <tr>\n",
       "      <th>272</th>\n",
       "      <td>\\r\\rJe trouve l'article assez faible, surtout ...</td>\n",
       "      <td>frerebogdanof_travaux</td>\n",
       "    </tr>\n",
       "    <tr>\n",
       "      <th>273</th>\n",
       "      <td>\\r\\rPour information : Sylvestre Huet, «\\rUn c...</td>\n",
       "      <td>frerebogdanof_travaux</td>\n",
       "    </tr>\n",
       "    <tr>\n",
       "      <th>274</th>\n",
       "      <td>\\r\\r\\r\\rSalut tout le monde,\\r\\rDans l'interve...</td>\n",
       "      <td>frerebogdanof_travaux</td>\n",
       "    </tr>\n",
       "    <tr>\n",
       "      <th>275</th>\n",
       "      <td>\\r\\rUne série de vidéo, présentent sur youtube...</td>\n",
       "      <td>frerebogdanof_travaux</td>\n",
       "    </tr>\n",
       "  </tbody>\n",
       "</table>\n",
       "<p>276 rows × 2 columns</p>\n",
       "</div>"
      ],
      "text/plain": [
       "                                                  post                  sujet\n",
       "0    \\rPour corriger les passages tendancieux, je p...  frerebogdanof_travaux\n",
       "1    \\rAssez d'accord.\\rJ'ai fait quelques reformul...  frerebogdanof_travaux\n",
       "2    \\rIl semble bien que le drame soit plus autour...  frerebogdanof_travaux\n",
       "3    \\rJe suis aussi d'accord pour dire qu'il y atr...  frerebogdanof_travaux\n",
       "4    \\rJe vois pas trop le débat avancer. Ne serait...  frerebogdanof_travaux\n",
       "..                                                 ...                    ...\n",
       "271  \\r\\rEn effet , pas très encyclopédique et pas ...  frerebogdanof_travaux\n",
       "272  \\r\\rJe trouve l'article assez faible, surtout ...  frerebogdanof_travaux\n",
       "273  \\r\\rPour information : Sylvestre Huet, «\\rUn c...  frerebogdanof_travaux\n",
       "274  \\r\\r\\r\\rSalut tout le monde,\\r\\rDans l'interve...  frerebogdanof_travaux\n",
       "275  \\r\\rUne série de vidéo, présentent sur youtube...  frerebogdanof_travaux\n",
       "\n",
       "[276 rows x 2 columns]"
      ]
     },
     "execution_count": 10,
     "metadata": {},
     "output_type": "execute_result"
    }
   ],
   "source": [
    "df= df.drop(['Unnamed: 0'],axis=1)\n",
    "df"
   ]
  },
  {
   "cell_type": "code",
   "execution_count": 11,
   "id": "c2969a5b",
   "metadata": {},
   "outputs": [
    {
     "data": {
      "text/html": [
       "<div>\n",
       "<style scoped>\n",
       "    .dataframe tbody tr th:only-of-type {\n",
       "        vertical-align: middle;\n",
       "    }\n",
       "\n",
       "    .dataframe tbody tr th {\n",
       "        vertical-align: top;\n",
       "    }\n",
       "\n",
       "    .dataframe thead th {\n",
       "        text-align: right;\n",
       "    }\n",
       "</style>\n",
       "<table border=\"1\" class=\"dataframe\">\n",
       "  <thead>\n",
       "    <tr style=\"text-align: right;\">\n",
       "      <th></th>\n",
       "      <th>column_name</th>\n",
       "      <th>percentage</th>\n",
       "    </tr>\n",
       "  </thead>\n",
       "  <tbody>\n",
       "    <tr>\n",
       "      <th>0</th>\n",
       "      <td>post</td>\n",
       "      <td>0.0</td>\n",
       "    </tr>\n",
       "    <tr>\n",
       "      <th>1</th>\n",
       "      <td>sujet</td>\n",
       "      <td>0.0</td>\n",
       "    </tr>\n",
       "  </tbody>\n",
       "</table>\n",
       "</div>"
      ],
      "text/plain": [
       "  column_name  percentage\n",
       "0        post         0.0\n",
       "1       sujet         0.0"
      ]
     },
     "execution_count": 11,
     "metadata": {},
     "output_type": "execute_result"
    }
   ],
   "source": [
    "NAN = [(c, df[c].isna().mean()*100) for c in df]\n",
    "NAN = pd.DataFrame(NAN, columns=[\"column_name\", \"percentage\"])\n",
    "NAN.sort_values(\"percentage\", ascending=False)"
   ]
  },
  {
   "cell_type": "code",
   "execution_count": 12,
   "id": "26a2fdb9",
   "metadata": {},
   "outputs": [],
   "source": [
    "df[\"post\"]= df[\"post\"].str.lower()"
   ]
  },
  {
   "cell_type": "markdown",
   "id": "499778ef",
   "metadata": {},
   "source": [
    "## tokenisation des poste"
   ]
  },
  {
   "cell_type": "code",
   "execution_count": 13,
   "id": "b64658e2",
   "metadata": {},
   "outputs": [],
   "source": [
    "tokenpost=[]\n",
    "for comment in df[\"post\"].apply(str):\n",
    "    Word_Tok = []\n",
    "    for word in  re.sub(\"\\W\",\" \",comment ).split():\n",
    "        Word_Tok.append(word)\n",
    "    tokenpost.append(Word_Tok)\n",
    "    "
   ]
  },
  {
   "cell_type": "code",
   "execution_count": 14,
   "id": "abe89344",
   "metadata": {},
   "outputs": [],
   "source": [
    "tokenpost=[]\n",
    "for comment in df[\"post\"].apply(str):\n",
    "    Word_Tok = []\n",
    "    for word in  re.sub(\"\\W\",\" \",comment ).split():\n",
    "        Word_Tok.append(word)\n",
    "    tokenpost.append(Word_Tok)\n",
    "    "
   ]
  },
  {
   "cell_type": "code",
   "execution_count": 15,
   "id": "ea721278",
   "metadata": {},
   "outputs": [
    {
     "data": {
      "text/html": [
       "<div>\n",
       "<style scoped>\n",
       "    .dataframe tbody tr th:only-of-type {\n",
       "        vertical-align: middle;\n",
       "    }\n",
       "\n",
       "    .dataframe tbody tr th {\n",
       "        vertical-align: top;\n",
       "    }\n",
       "\n",
       "    .dataframe thead th {\n",
       "        text-align: right;\n",
       "    }\n",
       "</style>\n",
       "<table border=\"1\" class=\"dataframe\">\n",
       "  <thead>\n",
       "    <tr style=\"text-align: right;\">\n",
       "      <th></th>\n",
       "      <th>post</th>\n",
       "      <th>sujet</th>\n",
       "      <th>tokenpost</th>\n",
       "    </tr>\n",
       "  </thead>\n",
       "  <tbody>\n",
       "    <tr>\n",
       "      <th>0</th>\n",
       "      <td>\\rpour corriger les passages tendancieux, je p...</td>\n",
       "      <td>frerebogdanof_travaux</td>\n",
       "      <td>[pour, corriger, les, passages, tendancieux, j...</td>\n",
       "    </tr>\n",
       "    <tr>\n",
       "      <th>1</th>\n",
       "      <td>\\rassez d'accord.\\rj'ai fait quelques reformul...</td>\n",
       "      <td>frerebogdanof_travaux</td>\n",
       "      <td>[assez, d, accord, j, ai, fait, quelques, refo...</td>\n",
       "    </tr>\n",
       "    <tr>\n",
       "      <th>2</th>\n",
       "      <td>\\ril semble bien que le drame soit plus autour...</td>\n",
       "      <td>frerebogdanof_travaux</td>\n",
       "      <td>[il, semble, bien, que, le, drame, soit, plus,...</td>\n",
       "    </tr>\n",
       "    <tr>\n",
       "      <th>3</th>\n",
       "      <td>\\rje suis aussi d'accord pour dire qu'il y atr...</td>\n",
       "      <td>frerebogdanof_travaux</td>\n",
       "      <td>[je, suis, aussi, d, accord, pour, dire, qu, i...</td>\n",
       "    </tr>\n",
       "    <tr>\n",
       "      <th>4</th>\n",
       "      <td>\\rje vois pas trop le débat avancer. ne serait...</td>\n",
       "      <td>frerebogdanof_travaux</td>\n",
       "      <td>[je, vois, pas, trop, le, débat, avancer, ne, ...</td>\n",
       "    </tr>\n",
       "  </tbody>\n",
       "</table>\n",
       "</div>"
      ],
      "text/plain": [
       "                                                post                  sujet  \\\n",
       "0  \\rpour corriger les passages tendancieux, je p...  frerebogdanof_travaux   \n",
       "1  \\rassez d'accord.\\rj'ai fait quelques reformul...  frerebogdanof_travaux   \n",
       "2  \\ril semble bien que le drame soit plus autour...  frerebogdanof_travaux   \n",
       "3  \\rje suis aussi d'accord pour dire qu'il y atr...  frerebogdanof_travaux   \n",
       "4  \\rje vois pas trop le débat avancer. ne serait...  frerebogdanof_travaux   \n",
       "\n",
       "                                           tokenpost  \n",
       "0  [pour, corriger, les, passages, tendancieux, j...  \n",
       "1  [assez, d, accord, j, ai, fait, quelques, refo...  \n",
       "2  [il, semble, bien, que, le, drame, soit, plus,...  \n",
       "3  [je, suis, aussi, d, accord, pour, dire, qu, i...  \n",
       "4  [je, vois, pas, trop, le, débat, avancer, ne, ...  "
      ]
     },
     "execution_count": 15,
     "metadata": {},
     "output_type": "execute_result"
    }
   ],
   "source": [
    "df[\"tokenpost\"]= tokenpost\n",
    "df.head()"
   ]
  },
  {
   "cell_type": "markdown",
   "id": "3aa9dbef",
   "metadata": {},
   "source": [
    "## Suppression des negations avec le stopwords de spacy"
   ]
  },
  {
   "cell_type": "code",
   "execution_count": 16,
   "id": "6a1a7456",
   "metadata": {},
   "outputs": [],
   "source": [
    "stop_words=set(STOP_WORDS)\n",
    "\n",
    "## supression des mots de negations de mots vide afin(important pour la suite de l'analyse de sentement)\n",
    "deselect_stop_words = ['n\\'', 'ne','pas','plus','personne','aucun','ni','aucune','rien']\n",
    "for w in deselect_stop_words:\n",
    "    if w in stop_words:\n",
    "        stop_words.remove(w)\n",
    "    else:\n",
    "        continue"
   ]
  },
  {
   "cell_type": "markdown",
   "id": "4c3af3e1",
   "metadata": {},
   "source": [
    "### suppression de mots vides de sens "
   ]
  },
  {
   "cell_type": "code",
   "execution_count": 17,
   "id": "56a034dd",
   "metadata": {},
   "outputs": [],
   "source": [
    "postfiltre=[]\n",
    "for comment in df[\"tokenpost\"]:\n",
    "    filteredComment = [w for w in comment if not ((w in stop_words) or (len(w) == 1))]\n",
    "    postfiltre.append(' '.join(filteredComment))"
   ]
  },
  {
   "cell_type": "code",
   "execution_count": 18,
   "id": "316f6f5d",
   "metadata": {},
   "outputs": [
    {
     "data": {
      "text/plain": [
       "'dites oui doute compétent juger erreur mathématique ici pas cas prononcer répète renvoyer dos dos intervenants polémique pas faire acte neutralité directeurs thèse frères éminents savants ne vois pas trancher répète ne agit pas querelle experts ne saura jamais fin mot histoire sachant qu sciences dures pas pas vérité définitive erreur prouvée non fois non science distingue connaissances justement démarche consiste parfaitement définir objets définit cadre cadre vérité mieux avez justement remarquer niveau débat jamais lieu précisément niveau thèse jugée digne soutenue texte mathématique pires attaques plan scientifique ne sais pas compétent juger ne pas traquent bogdanoff forums soient mieux placés faire non plus êtes pas neutre bases appuyez propos véracité jugée aune véhément mettre doute valeur argument revient traquent jugement partial avez participé débats faut rester faits effectivement soutenu thèses succès éclat plein pas éléments pretent flan critiques effectivement tollé contre raisons apparemment pas générale reproche plus bogdanov prétention présentent travaux effectivement prendre 10 ans obtenir thèse qu médailles fields alain connes juge indigne mémoire dea pas forcément critiquable point vue contre présenté thèses avancées décisives science beaucoup plus sais milieux quasiment faute professionnel ne pas présenter génie science rarement cas présomptions docteurs prétendent expliquer tandis qu thésard lambda occupe points détails algébriques chiants apparence neutralité prise position ferme présomptions êtes aptes qualifier propos docteurs sciences présomptions arguments avez parfaitement droit opinion sujet ailleurs heureux confronter point vue regrette vivement ne cherchiez pas éléments permettraient meilleure idée polémique avez moyens intellectuels bien green heart août 2005 19 51 cest'"
      ]
     },
     "execution_count": 18,
     "metadata": {},
     "output_type": "execute_result"
    }
   ],
   "source": [
    "df[\"postfinal\"]=postfiltre\n",
    "df.postfinal[56]"
   ]
  },
  {
   "cell_type": "markdown",
   "id": "bdb3f865",
   "metadata": {},
   "source": [
    "# Analyse de sentiment par documents"
   ]
  },
  {
   "cell_type": "code",
   "execution_count": 19,
   "id": "e657b078",
   "metadata": {},
   "outputs": [],
   "source": [
    "senti_list = []\n",
    "for i in df[\"postfinal\"]:\n",
    "    vs = tb(i).sentiment[0]\n",
    "    if (vs > 0):\n",
    "        senti_list.append('Positive')\n",
    "    elif (vs < 0):\n",
    "        senti_list.append('Negative')\n",
    "    else:\n",
    "        senti_list.append('Neutral')   "
   ]
  },
  {
   "cell_type": "code",
   "execution_count": 20,
   "id": "0153cd81",
   "metadata": {},
   "outputs": [
    {
     "data": {
      "text/html": [
       "<div>\n",
       "<style scoped>\n",
       "    .dataframe tbody tr th:only-of-type {\n",
       "        vertical-align: middle;\n",
       "    }\n",
       "\n",
       "    .dataframe tbody tr th {\n",
       "        vertical-align: top;\n",
       "    }\n",
       "\n",
       "    .dataframe thead th {\n",
       "        text-align: right;\n",
       "    }\n",
       "</style>\n",
       "<table border=\"1\" class=\"dataframe\">\n",
       "  <thead>\n",
       "    <tr style=\"text-align: right;\">\n",
       "      <th></th>\n",
       "      <th>post</th>\n",
       "      <th>sujet</th>\n",
       "      <th>tokenpost</th>\n",
       "      <th>postfinal</th>\n",
       "      <th>sentiment</th>\n",
       "    </tr>\n",
       "  </thead>\n",
       "  <tbody>\n",
       "    <tr>\n",
       "      <th>0</th>\n",
       "      <td>\\rpour corriger les passages tendancieux, je p...</td>\n",
       "      <td>frerebogdanof_travaux</td>\n",
       "      <td>[pour, corriger, les, passages, tendancieux, j...</td>\n",
       "      <td>corriger passages tendancieux propose modifica...</td>\n",
       "      <td>Positive</td>\n",
       "    </tr>\n",
       "    <tr>\n",
       "      <th>1</th>\n",
       "      <td>\\rassez d'accord.\\rj'ai fait quelques reformul...</td>\n",
       "      <td>frerebogdanof_travaux</td>\n",
       "      <td>[assez, d, accord, j, ai, fait, quelques, refo...</td>\n",
       "      <td>accord reformulations sens pas fin compte arti...</td>\n",
       "      <td>Negative</td>\n",
       "    </tr>\n",
       "    <tr>\n",
       "      <th>2</th>\n",
       "      <td>\\ril semble bien que le drame soit plus autour...</td>\n",
       "      <td>frerebogdanof_travaux</td>\n",
       "      <td>[il, semble, bien, que, le, drame, soit, plus,...</td>\n",
       "      <td>bien drame plus autour article mãªme lignes ré...</td>\n",
       "      <td>Positive</td>\n",
       "    </tr>\n",
       "    <tr>\n",
       "      <th>3</th>\n",
       "      <td>\\rje suis aussi d'accord pour dire qu'il y atr...</td>\n",
       "      <td>frerebogdanof_travaux</td>\n",
       "      <td>[je, suis, aussi, d, accord, pour, dire, qu, i...</td>\n",
       "      <td>accord qu atrop anti bogdanov page non signé 7...</td>\n",
       "      <td>Negative</td>\n",
       "    </tr>\n",
       "    <tr>\n",
       "      <th>4</th>\n",
       "      <td>\\rje vois pas trop le débat avancer. ne serait...</td>\n",
       "      <td>frerebogdanof_travaux</td>\n",
       "      <td>[je, vois, pas, trop, le, débat, avancer, ne, ...</td>\n",
       "      <td>vois pas trop débat avancer ne pas temps clore...</td>\n",
       "      <td>Positive</td>\n",
       "    </tr>\n",
       "  </tbody>\n",
       "</table>\n",
       "</div>"
      ],
      "text/plain": [
       "                                                post                  sujet  \\\n",
       "0  \\rpour corriger les passages tendancieux, je p...  frerebogdanof_travaux   \n",
       "1  \\rassez d'accord.\\rj'ai fait quelques reformul...  frerebogdanof_travaux   \n",
       "2  \\ril semble bien que le drame soit plus autour...  frerebogdanof_travaux   \n",
       "3  \\rje suis aussi d'accord pour dire qu'il y atr...  frerebogdanof_travaux   \n",
       "4  \\rje vois pas trop le débat avancer. ne serait...  frerebogdanof_travaux   \n",
       "\n",
       "                                           tokenpost  \\\n",
       "0  [pour, corriger, les, passages, tendancieux, j...   \n",
       "1  [assez, d, accord, j, ai, fait, quelques, refo...   \n",
       "2  [il, semble, bien, que, le, drame, soit, plus,...   \n",
       "3  [je, suis, aussi, d, accord, pour, dire, qu, i...   \n",
       "4  [je, vois, pas, trop, le, débat, avancer, ne, ...   \n",
       "\n",
       "                                           postfinal sentiment  \n",
       "0  corriger passages tendancieux propose modifica...  Positive  \n",
       "1  accord reformulations sens pas fin compte arti...  Negative  \n",
       "2  bien drame plus autour article mãªme lignes ré...  Positive  \n",
       "3  accord qu atrop anti bogdanov page non signé 7...  Negative  \n",
       "4  vois pas trop débat avancer ne pas temps clore...  Positive  "
      ]
     },
     "execution_count": 20,
     "metadata": {},
     "output_type": "execute_result"
    }
   ],
   "source": [
    "df[\"sentiment\"]=senti_list\n",
    "df.head()"
   ]
  },
  {
   "cell_type": "code",
   "execution_count": 23,
   "id": "93c46ef9",
   "metadata": {},
   "outputs": [],
   "source": [
    "df.to_csv('C://Users//YCarl//OneDrive//Bureau//Analyse_d_opinion//Données//data_fichierSpacy.csv',\n",
    "           encoding = 'utf-8',\n",
    "           header = True)"
   ]
  },
  {
   "cell_type": "markdown",
   "id": "5b60f602",
   "metadata": {},
   "source": [
    "## Data Visualization"
   ]
  },
  {
   "cell_type": "code",
   "execution_count": null,
   "id": "c0c7c0d4",
   "metadata": {},
   "outputs": [],
   "source": [
    "Number_sentiment= df.groupby([\"sentiment\"]).count().reset_index().reset_index(drop=True)"
   ]
  },
  {
   "cell_type": "code",
   "execution_count": null,
   "id": "ef4ce0bf",
   "metadata": {},
   "outputs": [],
   "source": [
    "fig = px.histogram(df, x=\"sentiment\",color=\"sentiment\")\n",
    "fig.update_layout(\n",
    "    title_text='Sentiment of reviews', # title of plot\n",
    "    xaxis_title_text='Sentiment', # xaxis label\n",
    "    yaxis_title_text='Count', # yaxis label\n",
    "    bargap=0.2, \n",
    "    bargroupgap=0.1\n",
    ")\n",
    "fig.show()"
   ]
  },
  {
   "cell_type": "markdown",
   "id": "62dead7e",
   "metadata": {},
   "source": [
    "# debut de l'analyse de sentiment avec AFINN"
   ]
  },
  {
   "cell_type": "code",
   "execution_count": null,
   "id": "2b00b57e",
   "metadata": {
    "scrolled": true
   },
   "outputs": [],
   "source": [
    "from afinn import Afinn \n",
    "import pandas as pd \n",
    "  \n",
    "afn = Afinn() \n",
    "  \n",
    "news_df = ['les gens pensent aux chiens','je deteste les fleurs', \n",
    "         'il est gentils et intelligents'] \n",
    "           \n",
    "scores = [afn.score(article) for article in news_df] \n",
    "sentiment = ['positive' if score > 0 \n",
    "                          else 'negative' if score < 0 \n",
    "                              else 'neutral' \n",
    "                                  for score in scores] \n",
    "      \n",
    "df = pd.DataFrame() \n",
    "df['topic'] =  news_df \n",
    "df['scores'] = scores \n",
    "df['sentiments'] = sentiment \n",
    "print(df)"
   ]
  },
  {
   "cell_type": "markdown",
   "id": "96835b40",
   "metadata": {},
   "source": [
    "## text de polarité avec textblob\n"
   ]
  },
  {
   "cell_type": "code",
   "execution_count": null,
   "id": "82a5ade7",
   "metadata": {},
   "outputs": [],
   "source": [
    "!pip install textblob_fr"
   ]
  },
  {
   "cell_type": "code",
   "execution_count": null,
   "id": "0181e02a",
   "metadata": {},
   "outputs": [],
   "source": [
    "import spacy\n",
    "from spacy.lang.fr.stop_words import STOP_WORDS\n",
    "import string\n",
    "from textblob import Blobber\n",
    "from textblob_fr import PatternTagger, PatternAnalyzer\n",
    "tb = Blobber(pos_tagger=PatternTagger(), analyzer=PatternAnalyzer())"
   ]
  },
  {
   "cell_type": "code",
   "execution_count": null,
   "id": "58af002d",
   "metadata": {},
   "outputs": [],
   "source": [
    "news_df = ['les gens pensent aux chiens',\"il n'aime pas les fleurs\", \n",
    "         'il est gentils et intelligents'] "
   ]
  },
  {
   "cell_type": "code",
   "execution_count": null,
   "id": "39c9f2d1",
   "metadata": {},
   "outputs": [],
   "source": [
    "for i in news_df:\n",
    "    print(tb(i).sentiment[0])\n"
   ]
  }
 ],
 "metadata": {
  "kernelspec": {
   "display_name": "Python 3 (ipykernel)",
   "language": "python",
   "name": "python3"
  },
  "language_info": {
   "codemirror_mode": {
    "name": "ipython",
    "version": 3
   },
   "file_extension": ".py",
   "mimetype": "text/x-python",
   "name": "python",
   "nbconvert_exporter": "python",
   "pygments_lexer": "ipython3",
   "version": "3.9.7"
  }
 },
 "nbformat": 4,
 "nbformat_minor": 5
}
