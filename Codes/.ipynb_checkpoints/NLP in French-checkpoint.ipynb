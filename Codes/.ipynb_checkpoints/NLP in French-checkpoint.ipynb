{
 "cells": [
  {
   "cell_type": "markdown",
   "metadata": {},
   "source": [
    "### NLP in French using Spacy\n",
    "\n",
    "Le traitement automatique du Langage Naturel (TALN/TLN) est un des domaines de recherche les plus actifs en science des données actuellement. \n",
    "\n",
    "![](SpaCy_logo.png)\n",
    "\n",
    "#### French Model\n",
    "+ pip install spacy\n",
    "+ python -m spacy download fr_core_news_sm\n",
    "+ pip install spacy-lefff\n",
    "    - based on Lefff : https://hal.inria.fr/inria-00521242/\n",
    "            \n",
    "            \n",
    "#### Resources\n",
    "+ The WOLF (Wordnet Libre du Français, Free French Wordnet) is a free semantic lexical resource (wordnet) for French.\n",
    "    + http://pauillac.inria.fr/~sagot/index.html#wolf"
   ]
  },
  {
   "cell_type": "markdown",
   "metadata": {},
   "source": [
    "### Terminologie\n",
    "+ Tokenisation\n",
    "+ L’étiquetage morpho-syntaxique/Part-of-Speech(POS)\n",
    "+ extraction des entités nommées depuis un texte\n",
    "+ Embedding par mot\n",
    "+ classification de texte\n",
    "+ analyse d’opinion/sentiment\n",
    "+ prédiction du prochain mot sur smartphone\n"
   ]
  },
  {
   "cell_type": "markdown",
   "metadata": {
    "jupyter": {
     "source_hidden": true
    }
   },
   "source": [
    "#### Basic Terms\n",
    "+ Tokenization: Segmenting text into words, punctuations marks etc.\n",
    "+ Part-of-speech: (POS) Tagging Assigning word types to tokens, like verb or noun.\n",
    "+ Dependency Parsing: Assigning syntactic dependency labels, describing the relations between individual tokens, like subject or object.\n",
    "+ Lemmatization: Assigning the base forms of words. For example, the lemma of \"was\" is \"be\", and the lemma of \"rats\" is \"rat\".\n",
    "+ Named Entity Recognition (NER): Labelling named \"real-world\" objects, like persons, companies or locations.\n",
    "+ Similarity: Comparing words, text spans and documents and how similar they are to each other.\n",
    "+ Sentence Boundary Detection (SBD): Finding and segmenting individual sentences.\n",
    "+ Text Classification: Assigning categories or labels to a whole document, or parts of a document.\n",
    "+ Rule-based Matching: Finding sequences of tokens based on their texts and linguistic annotations, similar to regular expressions.\n",
    "+ Training: Updating and improving a statistical model's predictions.\n",
    "+ Serialization: Saving objects to files or byte strings."
   ]
  },
  {
   "cell_type": "code",
   "execution_count": 2,
   "metadata": {},
   "outputs": [],
   "source": [
    "# Load Pkgs\n",
    "import spacy"
   ]
  },
  {
   "cell_type": "code",
   "execution_count": 3,
   "metadata": {},
   "outputs": [],
   "source": [
    "# Load Our Model & NLP(TALN) Object\n",
    "nlp = spacy.load('fr_core_news_sm')"
   ]
  },
  {
   "cell_type": "markdown",
   "metadata": {},
   "source": [
    "![](BehindSpacy.jpg)"
   ]
  },
  {
   "cell_type": "code",
   "execution_count": 4,
   "metadata": {
    "collapsed": true,
    "jupyter": {
     "outputs_hidden": true
    }
   },
   "outputs": [
    {
     "data": {
      "text/plain": [
       "['Defaults',\n",
       " '__call__',\n",
       " '__class__',\n",
       " '__delattr__',\n",
       " '__dict__',\n",
       " '__dir__',\n",
       " '__doc__',\n",
       " '__eq__',\n",
       " '__format__',\n",
       " '__ge__',\n",
       " '__getattribute__',\n",
       " '__gt__',\n",
       " '__hash__',\n",
       " '__init__',\n",
       " '__init_subclass__',\n",
       " '__le__',\n",
       " '__lt__',\n",
       " '__module__',\n",
       " '__ne__',\n",
       " '__new__',\n",
       " '__reduce__',\n",
       " '__reduce_ex__',\n",
       " '__repr__',\n",
       " '__setattr__',\n",
       " '__sizeof__',\n",
       " '__str__',\n",
       " '__subclasshook__',\n",
       " '__weakref__',\n",
       " '_format_docs_and_golds',\n",
       " '_meta',\n",
       " '_multiprocessing_pipe',\n",
       " '_optimizer',\n",
       " '_path',\n",
       " 'add_pipe',\n",
       " 'begin_training',\n",
       " 'create_pipe',\n",
       " 'disable_pipes',\n",
       " 'entity',\n",
       " 'evaluate',\n",
       " 'factories',\n",
       " 'from_bytes',\n",
       " 'from_disk',\n",
       " 'get_pipe',\n",
       " 'has_pipe',\n",
       " 'lang',\n",
       " 'linker',\n",
       " 'make_doc',\n",
       " 'matcher',\n",
       " 'max_length',\n",
       " 'meta',\n",
       " 'parser',\n",
       " 'path',\n",
       " 'pipe',\n",
       " 'pipe_factories',\n",
       " 'pipe_labels',\n",
       " 'pipe_names',\n",
       " 'pipeline',\n",
       " 'preprocess_gold',\n",
       " 'rehearse',\n",
       " 'remove_pipe',\n",
       " 'rename_pipe',\n",
       " 'replace_pipe',\n",
       " 'resume_training',\n",
       " 'tagger',\n",
       " 'tensorizer',\n",
       " 'to_bytes',\n",
       " 'to_disk',\n",
       " 'tokenizer',\n",
       " 'update',\n",
       " 'use_params',\n",
       " 'vocab']"
      ]
     },
     "execution_count": 4,
     "metadata": {},
     "output_type": "execute_result"
    }
   ],
   "source": [
    "# Method/Attr\n",
    "dir(nlp)"
   ]
  },
  {
   "cell_type": "code",
   "execution_count": 1,
   "metadata": {},
   "outputs": [],
   "source": [
    "url = \"https://www.france24.com/fr/rss\""
   ]
  },
  {
   "cell_type": "code",
   "execution_count": 5,
   "metadata": {},
   "outputs": [],
   "source": [
    "# Fetch Info From RSS\n",
    "# pip  install feedparser\n",
    "import feedparser"
   ]
  },
  {
   "cell_type": "code",
   "execution_count": 6,
   "metadata": {},
   "outputs": [],
   "source": [
    "f = feedparser.parse(url)"
   ]
  },
  {
   "cell_type": "code",
   "execution_count": 7,
   "metadata": {},
   "outputs": [
    {
     "data": {
      "text/plain": [
       "dict_keys(['bozo', 'entries', 'feed', 'headers', 'href', 'status', 'encoding', 'version', 'namespaces'])"
      ]
     },
     "execution_count": 7,
     "metadata": {},
     "output_type": "execute_result"
    }
   ],
   "source": [
    "f.keys()"
   ]
  },
  {
   "cell_type": "code",
   "execution_count": 9,
   "metadata": {},
   "outputs": [
    {
     "data": {
      "text/plain": [
       "'Alexeï Navalny dit avoir piégé un agent russe impliqué dans son empoisonnement'"
      ]
     },
     "execution_count": 9,
     "metadata": {},
     "output_type": "execute_result"
    }
   ],
   "source": [
    "f.entries[0]['title']"
   ]
  },
  {
   "cell_type": "code",
   "execution_count": 12,
   "metadata": {},
   "outputs": [],
   "source": [
    "ex1 = f.entries[0]['title']\n",
    "ex2 = f.entries[1]['summary']"
   ]
  },
  {
   "cell_type": "code",
   "execution_count": 13,
   "metadata": {},
   "outputs": [
    {
     "data": {
      "text/plain": [
       "'L’arrêt brutal des liaisons entre le Royaume-Uni et le continent européen a bloqué des dizaines de poids lourds au port de Douvres, désormais transformé en parking géant. Reportage.'"
      ]
     },
     "execution_count": 13,
     "metadata": {},
     "output_type": "execute_result"
    }
   ],
   "source": [
    "ex2"
   ]
  },
  {
   "cell_type": "code",
   "execution_count": null,
   "metadata": {},
   "outputs": [],
   "source": []
  },
  {
   "cell_type": "markdown",
   "metadata": {},
   "source": [
    "#### Tokenisation\n",
    "+ La tokenisation cherche à transformer un texte en une série de tokens individuels.\n",
    "+ La tokenisation du mot\n",
    "+ Tokenisation par phrases"
   ]
  },
  {
   "cell_type": "code",
   "execution_count": 14,
   "metadata": {},
   "outputs": [],
   "source": [
    "docx = nlp(ex1)"
   ]
  },
  {
   "cell_type": "code",
   "execution_count": 16,
   "metadata": {},
   "outputs": [
    {
     "data": {
      "text/plain": [
       "'Alexeï Navalny dit avoir piégé un agent russe impliqué dans son empoisonnement'"
      ]
     },
     "execution_count": 16,
     "metadata": {},
     "output_type": "execute_result"
    }
   ],
   "source": [
    "ex1"
   ]
  },
  {
   "cell_type": "code",
   "execution_count": 15,
   "metadata": {
    "collapsed": true,
    "jupyter": {
     "outputs_hidden": true
    }
   },
   "outputs": [
    {
     "name": "stdout",
     "output_type": "stream",
     "text": [
      "Alexeï\n",
      "Navalny\n",
      "dit\n",
      "avoir\n",
      "piégé\n",
      "un\n",
      "agent\n",
      "russe\n",
      "impliqué\n",
      "dans\n",
      "son\n",
      "empoisonnement\n"
     ]
    }
   ],
   "source": [
    "# WOrd Tokenization/\n",
    "for token in docx:\n",
    "    print(token.text)"
   ]
  },
  {
   "cell_type": "code",
   "execution_count": 17,
   "metadata": {},
   "outputs": [],
   "source": [
    "ex3 = \"J'aime du lait\""
   ]
  },
  {
   "cell_type": "code",
   "execution_count": 18,
   "metadata": {},
   "outputs": [],
   "source": [
    "docx3 = nlp(ex3)"
   ]
  },
  {
   "cell_type": "code",
   "execution_count": 19,
   "metadata": {},
   "outputs": [
    {
     "name": "stdout",
     "output_type": "stream",
     "text": [
      "J'\n",
      "aime\n",
      "du\n",
      "lait\n"
     ]
    }
   ],
   "source": [
    "for token in docx3:\n",
    "    print(token.text)"
   ]
  },
  {
   "cell_type": "code",
   "execution_count": 20,
   "metadata": {
    "scrolled": true
   },
   "outputs": [
    {
     "data": {
      "text/plain": [
       "Alexeï Navalny dit avoir piégé un agent russe impliqué dans son empoisonnement"
      ]
     },
     "execution_count": 20,
     "metadata": {},
     "output_type": "execute_result"
    }
   ],
   "source": [
    "# Word Info Stats\n",
    "docx"
   ]
  },
  {
   "cell_type": "code",
   "execution_count": 25,
   "metadata": {},
   "outputs": [
    {
     "name": "stdout",
     "output_type": "stream",
     "text": [
      "('Alexeï', 'Xxxxx', False, True, False)\n",
      "('Navalny', 'Xxxxx', False, True, False)\n",
      "('dit', 'xxx', True, True, False)\n",
      "('avoir', 'xxxx', True, True, False)\n",
      "('piégé', 'xxxx', False, True, False)\n",
      "('un', 'xx', True, True, False)\n",
      "('agent', 'xxxx', False, True, False)\n",
      "('russe', 'xxxx', False, True, False)\n",
      "('impliqué', 'xxxx', False, True, False)\n",
      "('dans', 'xxxx', True, True, False)\n",
      "('son', 'xxx', True, True, False)\n",
      "('empoisonnement', 'xxxx', False, True, False)\n"
     ]
    }
   ],
   "source": [
    "for token in docx:\n",
    "    print((token.text,token.shape_,token.is_stop,token.is_alpha,token.is_punct))"
   ]
  },
  {
   "cell_type": "markdown",
   "metadata": {},
   "source": [
    "### Tokenisation par phrases"
   ]
  },
  {
   "cell_type": "code",
   "execution_count": 26,
   "metadata": {},
   "outputs": [
    {
     "data": {
      "text/plain": [
       "'L’arrêt brutal des liaisons entre le Royaume-Uni et le continent européen a bloqué des dizaines de poids lourds au port de Douvres, désormais transformé en parking géant. Reportage.'"
      ]
     },
     "execution_count": 26,
     "metadata": {},
     "output_type": "execute_result"
    }
   ],
   "source": [
    "ex2"
   ]
  },
  {
   "cell_type": "code",
   "execution_count": 27,
   "metadata": {},
   "outputs": [],
   "source": [
    "docx2 = nlp(ex2)"
   ]
  },
  {
   "cell_type": "code",
   "execution_count": 28,
   "metadata": {},
   "outputs": [
    {
     "data": {
      "text/plain": [
       "spacy.tokens.doc.Doc"
      ]
     },
     "execution_count": 28,
     "metadata": {},
     "output_type": "execute_result"
    }
   ],
   "source": [
    "type(docx2)"
   ]
  },
  {
   "cell_type": "code",
   "execution_count": 31,
   "metadata": {},
   "outputs": [
    {
     "name": "stdout",
     "output_type": "stream",
     "text": [
      "1:L’arrêt brutal des liaisons entre le Royaume-Uni\n",
      "2:et le continent européen a bloqué des dizaines de poids lourds au port de Douvres, désormais transformé en parking géant.\n",
      "3:Reportage.\n"
     ]
    }
   ],
   "source": [
    "# Sentence Tokenisation\n",
    "for num,sent in enumerate(docx2.sents,start=1):\n",
    "    print(f\"{num}:{sent}\")"
   ]
  },
  {
   "cell_type": "code",
   "execution_count": null,
   "metadata": {},
   "outputs": [],
   "source": [
    "#### Lemmatisation & Stemming"
   ]
  },
  {
   "cell_type": "code",
   "execution_count": 33,
   "metadata": {},
   "outputs": [
    {
     "data": {
      "text/plain": [
       "'Alexeï Navalny dit avoir piégé un agent russe impliqué dans son empoisonnement'"
      ]
     },
     "execution_count": 33,
     "metadata": {},
     "output_type": "execute_result"
    }
   ],
   "source": [
    "ex1"
   ]
  },
  {
   "cell_type": "code",
   "execution_count": 34,
   "metadata": {},
   "outputs": [
    {
     "data": {
      "text/plain": [
       "Alexeï Navalny dit avoir piégé un agent russe impliqué dans son empoisonnement"
      ]
     },
     "execution_count": 34,
     "metadata": {},
     "output_type": "execute_result"
    }
   ],
   "source": [
    "docx"
   ]
  },
  {
   "cell_type": "code",
   "execution_count": 36,
   "metadata": {},
   "outputs": [
    {
     "name": "stdout",
     "output_type": "stream",
     "text": [
      "('Alexeï', 'Alexeï')\n",
      "('Navalny', 'Navalny')\n",
      "('dit', 'dire')\n",
      "('avoir', 'avoir')\n",
      "('piégé', 'piéger')\n",
      "('un', 'un')\n",
      "('agent', 'agent')\n",
      "('russe', 'russe')\n",
      "('impliqué', 'impliquer')\n",
      "('dans', 'dans')\n",
      "('son', 'son')\n",
      "('empoisonnement', 'empoisonnement')\n"
     ]
    }
   ],
   "source": [
    "for token in docx:\n",
    "    print((token.text,token.lemma_))"
   ]
  },
  {
   "cell_type": "code",
   "execution_count": 37,
   "metadata": {},
   "outputs": [
    {
     "data": {
      "text/plain": [
       "\"J'aime du lait\""
      ]
     },
     "execution_count": 37,
     "metadata": {},
     "output_type": "execute_result"
    }
   ],
   "source": [
    "ex3"
   ]
  },
  {
   "cell_type": "code",
   "execution_count": 38,
   "metadata": {},
   "outputs": [
    {
     "name": "stdout",
     "output_type": "stream",
     "text": [
      "(\"J'\", 'je')\n",
      "('aime', 'aime')\n",
      "('du', 'de')\n",
      "('lait', 'lait')\n"
     ]
    }
   ],
   "source": [
    "for token in docx3:\n",
    "    print((token.text,token.lemma_))"
   ]
  },
  {
   "cell_type": "code",
   "execution_count": null,
   "metadata": {},
   "outputs": [],
   "source": []
  },
  {
   "cell_type": "code",
   "execution_count": null,
   "metadata": {},
   "outputs": [],
   "source": []
  },
  {
   "cell_type": "markdown",
   "metadata": {},
   "source": [
    "#### L’étiquetage morpho-syntaxique/Part-of-Speech(POS)\n",
    "+ Il essaye d’attribuer une étiquette à chaque mot d’une phrase mentionnant la foncextionnalité grammaticale d’un mot \n",
    "+ (Nom propre, adjectif, déterminant…).\n",
    "\n"
   ]
  },
  {
   "cell_type": "code",
   "execution_count": 39,
   "metadata": {},
   "outputs": [
    {
     "data": {
      "text/plain": [
       "Alexeï Navalny dit avoir piégé un agent russe impliqué dans son empoisonnement"
      ]
     },
     "execution_count": 39,
     "metadata": {},
     "output_type": "execute_result"
    }
   ],
   "source": [
    "docx"
   ]
  },
  {
   "cell_type": "code",
   "execution_count": 42,
   "metadata": {},
   "outputs": [
    {
     "name": "stdout",
     "output_type": "stream",
     "text": [
      "Alexeï PROPN PROPN__Gender=Masc|Number=Sing\n",
      "Navalny PROPN PROPN__Gender=Masc|Number=Sing\n",
      "dit VERB VERB__Mood=Ind|Number=Sing|Person=3|Tense=Pres|VerbForm=Fin\n",
      "avoir AUX AUX__VerbForm=Inf\n",
      "piégé VERB VERB__Gender=Masc|Number=Sing|Tense=Past|VerbForm=Part\n",
      "un DET DET__Definite=Ind|Gender=Masc|Number=Sing|PronType=Art\n",
      "agent NOUN NOUN__Gender=Masc|Number=Sing\n",
      "russe VERB VERB__Gender=Fem|Number=Sing|Tense=Past|VerbForm=Part\n",
      "impliqué VERB VERB__Gender=Masc|Number=Sing|Tense=Past|VerbForm=Part\n",
      "dans ADP ADP\n",
      "son DET DET__Number=Sing|Poss=Yes\n",
      "empoisonnement NOUN NOUN__Gender=Masc|Number=Sing\n"
     ]
    }
   ],
   "source": [
    "for token in docx:\n",
    "    print(token.text,token.pos_,token.tag_)"
   ]
  },
  {
   "cell_type": "code",
   "execution_count": 45,
   "metadata": {},
   "outputs": [
    {
     "name": "stdout",
     "output_type": "stream",
     "text": [
      "('Alexeï', 'PROPN__Gender=Masc|Number=Sing')\n",
      "('Navalny', 'PROPN__Gender=Masc|Number=Sing')\n",
      "('dit', 'VERB__Mood=Ind|Number=Sing|Person=3|Tense=Pres|VerbForm=Fin')\n",
      "('avoir', 'AUX__VerbForm=Inf')\n",
      "('piégé', 'VERB__Gender=Masc|Number=Sing|Tense=Past|VerbForm=Part')\n",
      "('un', 'DET__Definite=Ind|Gender=Masc|Number=Sing|PronType=Art')\n",
      "('agent', 'NOUN__Gender=Masc|Number=Sing')\n",
      "('russe', 'VERB__Gender=Fem|Number=Sing|Tense=Past|VerbForm=Part')\n",
      "('impliqué', 'VERB__Gender=Masc|Number=Sing|Tense=Past|VerbForm=Part')\n",
      "('dans', 'ADP')\n",
      "('son', 'DET__Number=Sing|Poss=Yes')\n",
      "('empoisonnement', 'NOUN__Gender=Masc|Number=Sing')\n"
     ]
    }
   ],
   "source": [
    "for token in docx:\n",
    "    print((token.text,token.tag_))"
   ]
  },
  {
   "cell_type": "code",
   "execution_count": 46,
   "metadata": {},
   "outputs": [
    {
     "data": {
      "text/plain": [
       "J'aime du lait"
      ]
     },
     "execution_count": 46,
     "metadata": {},
     "output_type": "execute_result"
    }
   ],
   "source": [
    "docx3"
   ]
  },
  {
   "cell_type": "code",
   "execution_count": 47,
   "metadata": {},
   "outputs": [
    {
     "name": "stdout",
     "output_type": "stream",
     "text": [
      "J' PRON PRON__Number=Sing|Person=1\n",
      "aime VERB VERB__Mood=Ind|Number=Sing|Person=1|Tense=Pres|VerbForm=Fin\n",
      "du DET ADP_DET__Definite=Def|Gender=Masc|Number=Sing|PronType=Art\n",
      "lait NOUN NOUN__Gender=Masc|Number=Sing\n"
     ]
    }
   ],
   "source": [
    "for token in docx3:\n",
    "    print(token.text,token.pos_,token.tag_)"
   ]
  },
  {
   "cell_type": "code",
   "execution_count": null,
   "metadata": {},
   "outputs": [],
   "source": [
    "# Visualisation Des Dep"
   ]
  },
  {
   "cell_type": "code",
   "execution_count": 48,
   "metadata": {},
   "outputs": [],
   "source": [
    "from spacy import displacy"
   ]
  },
  {
   "cell_type": "code",
   "execution_count": 49,
   "metadata": {},
   "outputs": [
    {
     "data": {
      "text/html": [
       "<span class=\"tex2jax_ignore\"><svg xmlns=\"http://www.w3.org/2000/svg\" xmlns:xlink=\"http://www.w3.org/1999/xlink\" xml:lang=\"fr\" id=\"960eb419cf934186a7d7a1527e6e1164-0\" class=\"displacy\" width=\"2150\" height=\"399.5\" direction=\"ltr\" style=\"max-width: none; height: 399.5px; color: #000000; background: #ffffff; font-family: Arial; direction: ltr\">\n",
       "<text class=\"displacy-token\" fill=\"currentColor\" text-anchor=\"middle\" y=\"309.5\">\n",
       "    <tspan class=\"displacy-word\" fill=\"currentColor\" x=\"50\">Alexeï</tspan>\n",
       "    <tspan class=\"displacy-tag\" dy=\"2em\" fill=\"currentColor\" x=\"50\">PROPN</tspan>\n",
       "</text>\n",
       "\n",
       "<text class=\"displacy-token\" fill=\"currentColor\" text-anchor=\"middle\" y=\"309.5\">\n",
       "    <tspan class=\"displacy-word\" fill=\"currentColor\" x=\"225\">Navalny</tspan>\n",
       "    <tspan class=\"displacy-tag\" dy=\"2em\" fill=\"currentColor\" x=\"225\">PROPN</tspan>\n",
       "</text>\n",
       "\n",
       "<text class=\"displacy-token\" fill=\"currentColor\" text-anchor=\"middle\" y=\"309.5\">\n",
       "    <tspan class=\"displacy-word\" fill=\"currentColor\" x=\"400\">dit</tspan>\n",
       "    <tspan class=\"displacy-tag\" dy=\"2em\" fill=\"currentColor\" x=\"400\">VERB</tspan>\n",
       "</text>\n",
       "\n",
       "<text class=\"displacy-token\" fill=\"currentColor\" text-anchor=\"middle\" y=\"309.5\">\n",
       "    <tspan class=\"displacy-word\" fill=\"currentColor\" x=\"575\">avoir</tspan>\n",
       "    <tspan class=\"displacy-tag\" dy=\"2em\" fill=\"currentColor\" x=\"575\">AUX</tspan>\n",
       "</text>\n",
       "\n",
       "<text class=\"displacy-token\" fill=\"currentColor\" text-anchor=\"middle\" y=\"309.5\">\n",
       "    <tspan class=\"displacy-word\" fill=\"currentColor\" x=\"750\">piégé</tspan>\n",
       "    <tspan class=\"displacy-tag\" dy=\"2em\" fill=\"currentColor\" x=\"750\">VERB</tspan>\n",
       "</text>\n",
       "\n",
       "<text class=\"displacy-token\" fill=\"currentColor\" text-anchor=\"middle\" y=\"309.5\">\n",
       "    <tspan class=\"displacy-word\" fill=\"currentColor\" x=\"925\">un</tspan>\n",
       "    <tspan class=\"displacy-tag\" dy=\"2em\" fill=\"currentColor\" x=\"925\">DET</tspan>\n",
       "</text>\n",
       "\n",
       "<text class=\"displacy-token\" fill=\"currentColor\" text-anchor=\"middle\" y=\"309.5\">\n",
       "    <tspan class=\"displacy-word\" fill=\"currentColor\" x=\"1100\">agent</tspan>\n",
       "    <tspan class=\"displacy-tag\" dy=\"2em\" fill=\"currentColor\" x=\"1100\">NOUN</tspan>\n",
       "</text>\n",
       "\n",
       "<text class=\"displacy-token\" fill=\"currentColor\" text-anchor=\"middle\" y=\"309.5\">\n",
       "    <tspan class=\"displacy-word\" fill=\"currentColor\" x=\"1275\">russe</tspan>\n",
       "    <tspan class=\"displacy-tag\" dy=\"2em\" fill=\"currentColor\" x=\"1275\">VERB</tspan>\n",
       "</text>\n",
       "\n",
       "<text class=\"displacy-token\" fill=\"currentColor\" text-anchor=\"middle\" y=\"309.5\">\n",
       "    <tspan class=\"displacy-word\" fill=\"currentColor\" x=\"1450\">impliqué</tspan>\n",
       "    <tspan class=\"displacy-tag\" dy=\"2em\" fill=\"currentColor\" x=\"1450\">VERB</tspan>\n",
       "</text>\n",
       "\n",
       "<text class=\"displacy-token\" fill=\"currentColor\" text-anchor=\"middle\" y=\"309.5\">\n",
       "    <tspan class=\"displacy-word\" fill=\"currentColor\" x=\"1625\">dans</tspan>\n",
       "    <tspan class=\"displacy-tag\" dy=\"2em\" fill=\"currentColor\" x=\"1625\">ADP</tspan>\n",
       "</text>\n",
       "\n",
       "<text class=\"displacy-token\" fill=\"currentColor\" text-anchor=\"middle\" y=\"309.5\">\n",
       "    <tspan class=\"displacy-word\" fill=\"currentColor\" x=\"1800\">son</tspan>\n",
       "    <tspan class=\"displacy-tag\" dy=\"2em\" fill=\"currentColor\" x=\"1800\">DET</tspan>\n",
       "</text>\n",
       "\n",
       "<text class=\"displacy-token\" fill=\"currentColor\" text-anchor=\"middle\" y=\"309.5\">\n",
       "    <tspan class=\"displacy-word\" fill=\"currentColor\" x=\"1975\">empoisonnement</tspan>\n",
       "    <tspan class=\"displacy-tag\" dy=\"2em\" fill=\"currentColor\" x=\"1975\">NOUN</tspan>\n",
       "</text>\n",
       "\n",
       "<g class=\"displacy-arrow\">\n",
       "    <path class=\"displacy-arc\" id=\"arrow-960eb419cf934186a7d7a1527e6e1164-0-0\" stroke-width=\"2px\" d=\"M70,264.5 C70,89.5 395.0,89.5 395.0,264.5\" fill=\"none\" stroke=\"currentColor\"/>\n",
       "    <text dy=\"1.25em\" style=\"font-size: 0.8em; letter-spacing: 1px\">\n",
       "        <textPath xlink:href=\"#arrow-960eb419cf934186a7d7a1527e6e1164-0-0\" class=\"displacy-label\" startOffset=\"50%\" side=\"left\" fill=\"currentColor\" text-anchor=\"middle\">nsubj</textPath>\n",
       "    </text>\n",
       "    <path class=\"displacy-arrowhead\" d=\"M70,266.5 L62,254.5 78,254.5\" fill=\"currentColor\"/>\n",
       "</g>\n",
       "\n",
       "<g class=\"displacy-arrow\">\n",
       "    <path class=\"displacy-arc\" id=\"arrow-960eb419cf934186a7d7a1527e6e1164-0-1\" stroke-width=\"2px\" d=\"M70,264.5 C70,177.0 215.0,177.0 215.0,264.5\" fill=\"none\" stroke=\"currentColor\"/>\n",
       "    <text dy=\"1.25em\" style=\"font-size: 0.8em; letter-spacing: 1px\">\n",
       "        <textPath xlink:href=\"#arrow-960eb419cf934186a7d7a1527e6e1164-0-1\" class=\"displacy-label\" startOffset=\"50%\" side=\"left\" fill=\"currentColor\" text-anchor=\"middle\">flat:name</textPath>\n",
       "    </text>\n",
       "    <path class=\"displacy-arrowhead\" d=\"M215.0,266.5 L223.0,254.5 207.0,254.5\" fill=\"currentColor\"/>\n",
       "</g>\n",
       "\n",
       "<g class=\"displacy-arrow\">\n",
       "    <path class=\"displacy-arc\" id=\"arrow-960eb419cf934186a7d7a1527e6e1164-0-2\" stroke-width=\"2px\" d=\"M595,264.5 C595,177.0 740.0,177.0 740.0,264.5\" fill=\"none\" stroke=\"currentColor\"/>\n",
       "    <text dy=\"1.25em\" style=\"font-size: 0.8em; letter-spacing: 1px\">\n",
       "        <textPath xlink:href=\"#arrow-960eb419cf934186a7d7a1527e6e1164-0-2\" class=\"displacy-label\" startOffset=\"50%\" side=\"left\" fill=\"currentColor\" text-anchor=\"middle\">aux:tense</textPath>\n",
       "    </text>\n",
       "    <path class=\"displacy-arrowhead\" d=\"M595,266.5 L587,254.5 603,254.5\" fill=\"currentColor\"/>\n",
       "</g>\n",
       "\n",
       "<g class=\"displacy-arrow\">\n",
       "    <path class=\"displacy-arc\" id=\"arrow-960eb419cf934186a7d7a1527e6e1164-0-3\" stroke-width=\"2px\" d=\"M420,264.5 C420,89.5 745.0,89.5 745.0,264.5\" fill=\"none\" stroke=\"currentColor\"/>\n",
       "    <text dy=\"1.25em\" style=\"font-size: 0.8em; letter-spacing: 1px\">\n",
       "        <textPath xlink:href=\"#arrow-960eb419cf934186a7d7a1527e6e1164-0-3\" class=\"displacy-label\" startOffset=\"50%\" side=\"left\" fill=\"currentColor\" text-anchor=\"middle\">xcomp</textPath>\n",
       "    </text>\n",
       "    <path class=\"displacy-arrowhead\" d=\"M745.0,266.5 L753.0,254.5 737.0,254.5\" fill=\"currentColor\"/>\n",
       "</g>\n",
       "\n",
       "<g class=\"displacy-arrow\">\n",
       "    <path class=\"displacy-arc\" id=\"arrow-960eb419cf934186a7d7a1527e6e1164-0-4\" stroke-width=\"2px\" d=\"M945,264.5 C945,177.0 1090.0,177.0 1090.0,264.5\" fill=\"none\" stroke=\"currentColor\"/>\n",
       "    <text dy=\"1.25em\" style=\"font-size: 0.8em; letter-spacing: 1px\">\n",
       "        <textPath xlink:href=\"#arrow-960eb419cf934186a7d7a1527e6e1164-0-4\" class=\"displacy-label\" startOffset=\"50%\" side=\"left\" fill=\"currentColor\" text-anchor=\"middle\">det</textPath>\n",
       "    </text>\n",
       "    <path class=\"displacy-arrowhead\" d=\"M945,266.5 L937,254.5 953,254.5\" fill=\"currentColor\"/>\n",
       "</g>\n",
       "\n",
       "<g class=\"displacy-arrow\">\n",
       "    <path class=\"displacy-arc\" id=\"arrow-960eb419cf934186a7d7a1527e6e1164-0-5\" stroke-width=\"2px\" d=\"M770,264.5 C770,89.5 1095.0,89.5 1095.0,264.5\" fill=\"none\" stroke=\"currentColor\"/>\n",
       "    <text dy=\"1.25em\" style=\"font-size: 0.8em; letter-spacing: 1px\">\n",
       "        <textPath xlink:href=\"#arrow-960eb419cf934186a7d7a1527e6e1164-0-5\" class=\"displacy-label\" startOffset=\"50%\" side=\"left\" fill=\"currentColor\" text-anchor=\"middle\">obj</textPath>\n",
       "    </text>\n",
       "    <path class=\"displacy-arrowhead\" d=\"M1095.0,266.5 L1103.0,254.5 1087.0,254.5\" fill=\"currentColor\"/>\n",
       "</g>\n",
       "\n",
       "<g class=\"displacy-arrow\">\n",
       "    <path class=\"displacy-arc\" id=\"arrow-960eb419cf934186a7d7a1527e6e1164-0-6\" stroke-width=\"2px\" d=\"M1120,264.5 C1120,177.0 1265.0,177.0 1265.0,264.5\" fill=\"none\" stroke=\"currentColor\"/>\n",
       "    <text dy=\"1.25em\" style=\"font-size: 0.8em; letter-spacing: 1px\">\n",
       "        <textPath xlink:href=\"#arrow-960eb419cf934186a7d7a1527e6e1164-0-6\" class=\"displacy-label\" startOffset=\"50%\" side=\"left\" fill=\"currentColor\" text-anchor=\"middle\">amod</textPath>\n",
       "    </text>\n",
       "    <path class=\"displacy-arrowhead\" d=\"M1265.0,266.5 L1273.0,254.5 1257.0,254.5\" fill=\"currentColor\"/>\n",
       "</g>\n",
       "\n",
       "<g class=\"displacy-arrow\">\n",
       "    <path class=\"displacy-arc\" id=\"arrow-960eb419cf934186a7d7a1527e6e1164-0-7\" stroke-width=\"2px\" d=\"M1295,264.5 C1295,177.0 1440.0,177.0 1440.0,264.5\" fill=\"none\" stroke=\"currentColor\"/>\n",
       "    <text dy=\"1.25em\" style=\"font-size: 0.8em; letter-spacing: 1px\">\n",
       "        <textPath xlink:href=\"#arrow-960eb419cf934186a7d7a1527e6e1164-0-7\" class=\"displacy-label\" startOffset=\"50%\" side=\"left\" fill=\"currentColor\" text-anchor=\"middle\">xcomp</textPath>\n",
       "    </text>\n",
       "    <path class=\"displacy-arrowhead\" d=\"M1440.0,266.5 L1448.0,254.5 1432.0,254.5\" fill=\"currentColor\"/>\n",
       "</g>\n",
       "\n",
       "<g class=\"displacy-arrow\">\n",
       "    <path class=\"displacy-arc\" id=\"arrow-960eb419cf934186a7d7a1527e6e1164-0-8\" stroke-width=\"2px\" d=\"M1645,264.5 C1645,89.5 1970.0,89.5 1970.0,264.5\" fill=\"none\" stroke=\"currentColor\"/>\n",
       "    <text dy=\"1.25em\" style=\"font-size: 0.8em; letter-spacing: 1px\">\n",
       "        <textPath xlink:href=\"#arrow-960eb419cf934186a7d7a1527e6e1164-0-8\" class=\"displacy-label\" startOffset=\"50%\" side=\"left\" fill=\"currentColor\" text-anchor=\"middle\">case</textPath>\n",
       "    </text>\n",
       "    <path class=\"displacy-arrowhead\" d=\"M1645,266.5 L1637,254.5 1653,254.5\" fill=\"currentColor\"/>\n",
       "</g>\n",
       "\n",
       "<g class=\"displacy-arrow\">\n",
       "    <path class=\"displacy-arc\" id=\"arrow-960eb419cf934186a7d7a1527e6e1164-0-9\" stroke-width=\"2px\" d=\"M1820,264.5 C1820,177.0 1965.0,177.0 1965.0,264.5\" fill=\"none\" stroke=\"currentColor\"/>\n",
       "    <text dy=\"1.25em\" style=\"font-size: 0.8em; letter-spacing: 1px\">\n",
       "        <textPath xlink:href=\"#arrow-960eb419cf934186a7d7a1527e6e1164-0-9\" class=\"displacy-label\" startOffset=\"50%\" side=\"left\" fill=\"currentColor\" text-anchor=\"middle\">det</textPath>\n",
       "    </text>\n",
       "    <path class=\"displacy-arrowhead\" d=\"M1820,266.5 L1812,254.5 1828,254.5\" fill=\"currentColor\"/>\n",
       "</g>\n",
       "\n",
       "<g class=\"displacy-arrow\">\n",
       "    <path class=\"displacy-arc\" id=\"arrow-960eb419cf934186a7d7a1527e6e1164-0-10\" stroke-width=\"2px\" d=\"M1470,264.5 C1470,2.0 1975.0,2.0 1975.0,264.5\" fill=\"none\" stroke=\"currentColor\"/>\n",
       "    <text dy=\"1.25em\" style=\"font-size: 0.8em; letter-spacing: 1px\">\n",
       "        <textPath xlink:href=\"#arrow-960eb419cf934186a7d7a1527e6e1164-0-10\" class=\"displacy-label\" startOffset=\"50%\" side=\"left\" fill=\"currentColor\" text-anchor=\"middle\">obl:mod</textPath>\n",
       "    </text>\n",
       "    <path class=\"displacy-arrowhead\" d=\"M1975.0,266.5 L1983.0,254.5 1967.0,254.5\" fill=\"currentColor\"/>\n",
       "</g>\n",
       "</svg></span>"
      ],
      "text/plain": [
       "<IPython.core.display.HTML object>"
      ]
     },
     "metadata": {},
     "output_type": "display_data"
    }
   ],
   "source": [
    "displacy.render(docx,style='dep',jupyter=True)"
   ]
  },
  {
   "cell_type": "code",
   "execution_count": 50,
   "metadata": {},
   "outputs": [
    {
     "data": {
      "text/plain": [
       "J'aime du lait"
      ]
     },
     "execution_count": 50,
     "metadata": {},
     "output_type": "execute_result"
    }
   ],
   "source": [
    "docx3"
   ]
  },
  {
   "cell_type": "code",
   "execution_count": 51,
   "metadata": {},
   "outputs": [
    {
     "data": {
      "text/html": [
       "<span class=\"tex2jax_ignore\"><svg xmlns=\"http://www.w3.org/2000/svg\" xmlns:xlink=\"http://www.w3.org/1999/xlink\" xml:lang=\"fr\" id=\"3954a2499243470695570b0b8116db70-0\" class=\"displacy\" width=\"750\" height=\"312.0\" direction=\"ltr\" style=\"max-width: none; height: 312.0px; color: #000000; background: #ffffff; font-family: Arial; direction: ltr\">\n",
       "<text class=\"displacy-token\" fill=\"currentColor\" text-anchor=\"middle\" y=\"222.0\">\n",
       "    <tspan class=\"displacy-word\" fill=\"currentColor\" x=\"50\">J'</tspan>\n",
       "    <tspan class=\"displacy-tag\" dy=\"2em\" fill=\"currentColor\" x=\"50\">PRON</tspan>\n",
       "</text>\n",
       "\n",
       "<text class=\"displacy-token\" fill=\"currentColor\" text-anchor=\"middle\" y=\"222.0\">\n",
       "    <tspan class=\"displacy-word\" fill=\"currentColor\" x=\"225\">aime</tspan>\n",
       "    <tspan class=\"displacy-tag\" dy=\"2em\" fill=\"currentColor\" x=\"225\">VERB</tspan>\n",
       "</text>\n",
       "\n",
       "<text class=\"displacy-token\" fill=\"currentColor\" text-anchor=\"middle\" y=\"222.0\">\n",
       "    <tspan class=\"displacy-word\" fill=\"currentColor\" x=\"400\">du</tspan>\n",
       "    <tspan class=\"displacy-tag\" dy=\"2em\" fill=\"currentColor\" x=\"400\">DET</tspan>\n",
       "</text>\n",
       "\n",
       "<text class=\"displacy-token\" fill=\"currentColor\" text-anchor=\"middle\" y=\"222.0\">\n",
       "    <tspan class=\"displacy-word\" fill=\"currentColor\" x=\"575\">lait</tspan>\n",
       "    <tspan class=\"displacy-tag\" dy=\"2em\" fill=\"currentColor\" x=\"575\">NOUN</tspan>\n",
       "</text>\n",
       "\n",
       "<g class=\"displacy-arrow\">\n",
       "    <path class=\"displacy-arc\" id=\"arrow-3954a2499243470695570b0b8116db70-0-0\" stroke-width=\"2px\" d=\"M70,177.0 C70,89.5 220.0,89.5 220.0,177.0\" fill=\"none\" stroke=\"currentColor\"/>\n",
       "    <text dy=\"1.25em\" style=\"font-size: 0.8em; letter-spacing: 1px\">\n",
       "        <textPath xlink:href=\"#arrow-3954a2499243470695570b0b8116db70-0-0\" class=\"displacy-label\" startOffset=\"50%\" side=\"left\" fill=\"currentColor\" text-anchor=\"middle\">nsubj</textPath>\n",
       "    </text>\n",
       "    <path class=\"displacy-arrowhead\" d=\"M70,179.0 L62,167.0 78,167.0\" fill=\"currentColor\"/>\n",
       "</g>\n",
       "\n",
       "<g class=\"displacy-arrow\">\n",
       "    <path class=\"displacy-arc\" id=\"arrow-3954a2499243470695570b0b8116db70-0-1\" stroke-width=\"2px\" d=\"M420,177.0 C420,89.5 570.0,89.5 570.0,177.0\" fill=\"none\" stroke=\"currentColor\"/>\n",
       "    <text dy=\"1.25em\" style=\"font-size: 0.8em; letter-spacing: 1px\">\n",
       "        <textPath xlink:href=\"#arrow-3954a2499243470695570b0b8116db70-0-1\" class=\"displacy-label\" startOffset=\"50%\" side=\"left\" fill=\"currentColor\" text-anchor=\"middle\">case</textPath>\n",
       "    </text>\n",
       "    <path class=\"displacy-arrowhead\" d=\"M420,179.0 L412,167.0 428,167.0\" fill=\"currentColor\"/>\n",
       "</g>\n",
       "\n",
       "<g class=\"displacy-arrow\">\n",
       "    <path class=\"displacy-arc\" id=\"arrow-3954a2499243470695570b0b8116db70-0-2\" stroke-width=\"2px\" d=\"M245,177.0 C245,2.0 575.0,2.0 575.0,177.0\" fill=\"none\" stroke=\"currentColor\"/>\n",
       "    <text dy=\"1.25em\" style=\"font-size: 0.8em; letter-spacing: 1px\">\n",
       "        <textPath xlink:href=\"#arrow-3954a2499243470695570b0b8116db70-0-2\" class=\"displacy-label\" startOffset=\"50%\" side=\"left\" fill=\"currentColor\" text-anchor=\"middle\">obl:arg</textPath>\n",
       "    </text>\n",
       "    <path class=\"displacy-arrowhead\" d=\"M575.0,179.0 L583.0,167.0 567.0,167.0\" fill=\"currentColor\"/>\n",
       "</g>\n",
       "</svg></span>"
      ],
      "text/plain": [
       "<IPython.core.display.HTML object>"
      ]
     },
     "metadata": {},
     "output_type": "display_data"
    }
   ],
   "source": [
    "displacy.render(docx3,style='dep',jupyter=True)"
   ]
  },
  {
   "cell_type": "code",
   "execution_count": null,
   "metadata": {},
   "outputs": [],
   "source": []
  },
  {
   "cell_type": "markdown",
   "metadata": {},
   "source": [
    "### Reconnaissance d’entités nommées (NER)\n",
    "- On cherche à détecter les entités telles que des personnes, des entreprises ou des lieux dans un texte."
   ]
  },
  {
   "cell_type": "code",
   "execution_count": 53,
   "metadata": {},
   "outputs": [
    {
     "data": {
      "text/plain": [
       "Alexeï Navalny dit avoir piégé un agent russe impliqué dans son empoisonnement"
      ]
     },
     "execution_count": 53,
     "metadata": {},
     "output_type": "execute_result"
    }
   ],
   "source": [
    "docx"
   ]
  },
  {
   "cell_type": "code",
   "execution_count": 55,
   "metadata": {},
   "outputs": [
    {
     "name": "stdout",
     "output_type": "stream",
     "text": [
      "('Alexeï Navalny', 'PER')\n"
     ]
    }
   ],
   "source": [
    "for entity in docx.ents:\n",
    "    print((entity.text,entity.label_))"
   ]
  },
  {
   "cell_type": "code",
   "execution_count": 56,
   "metadata": {},
   "outputs": [
    {
     "data": {
      "text/plain": [
       "'Named person or family.'"
      ]
     },
     "execution_count": 56,
     "metadata": {},
     "output_type": "execute_result"
    }
   ],
   "source": [
    "# Explain\n",
    "spacy.explain('PER')"
   ]
  },
  {
   "cell_type": "code",
   "execution_count": 57,
   "metadata": {},
   "outputs": [
    {
     "data": {
      "text/plain": [
       "L’arrêt brutal des liaisons entre le Royaume-Uni et le continent européen a bloqué des dizaines de poids lourds au port de Douvres, désormais transformé en parking géant. Reportage."
      ]
     },
     "execution_count": 57,
     "metadata": {},
     "output_type": "execute_result"
    }
   ],
   "source": [
    "docx2"
   ]
  },
  {
   "cell_type": "code",
   "execution_count": 58,
   "metadata": {},
   "outputs": [
    {
     "name": "stdout",
     "output_type": "stream",
     "text": [
      "('Royaume-Uni', 'LOC')\n",
      "('Douvres', 'LOC')\n",
      "('Reportage', 'LOC')\n"
     ]
    }
   ],
   "source": [
    "for entity in docx2.ents:\n",
    "    print((entity.text,entity.label_))"
   ]
  },
  {
   "cell_type": "code",
   "execution_count": 59,
   "metadata": {},
   "outputs": [
    {
     "data": {
      "text/html": [
       "<span class=\"tex2jax_ignore\"><div class=\"entities\" style=\"line-height: 2.5; direction: ltr\">L’arrêt brutal des liaisons entre le \n",
       "<mark class=\"entity\" style=\"background: #ff9561; padding: 0.45em 0.6em; margin: 0 0.25em; line-height: 1; border-radius: 0.35em;\">\n",
       "    Royaume-Uni\n",
       "    <span style=\"font-size: 0.8em; font-weight: bold; line-height: 1; border-radius: 0.35em; text-transform: uppercase; vertical-align: middle; margin-left: 0.5rem\">LOC</span>\n",
       "</mark>\n",
       " et le continent européen a bloqué des dizaines de poids lourds au port de \n",
       "<mark class=\"entity\" style=\"background: #ff9561; padding: 0.45em 0.6em; margin: 0 0.25em; line-height: 1; border-radius: 0.35em;\">\n",
       "    Douvres\n",
       "    <span style=\"font-size: 0.8em; font-weight: bold; line-height: 1; border-radius: 0.35em; text-transform: uppercase; vertical-align: middle; margin-left: 0.5rem\">LOC</span>\n",
       "</mark>\n",
       ", désormais transformé en parking géant. \n",
       "<mark class=\"entity\" style=\"background: #ff9561; padding: 0.45em 0.6em; margin: 0 0.25em; line-height: 1; border-radius: 0.35em;\">\n",
       "    Reportage\n",
       "    <span style=\"font-size: 0.8em; font-weight: bold; line-height: 1; border-radius: 0.35em; text-transform: uppercase; vertical-align: middle; margin-left: 0.5rem\">LOC</span>\n",
       "</mark>\n",
       ".</div></span>"
      ],
      "text/plain": [
       "<IPython.core.display.HTML object>"
      ]
     },
     "metadata": {},
     "output_type": "display_data"
    }
   ],
   "source": [
    "# Visualize Entities\n",
    "displacy.render(docx2,style='ent',jupyter=True)"
   ]
  },
  {
   "cell_type": "code",
   "execution_count": null,
   "metadata": {},
   "outputs": [],
   "source": [
    "### Noun Chunk"
   ]
  },
  {
   "cell_type": "code",
   "execution_count": 60,
   "metadata": {},
   "outputs": [
    {
     "data": {
      "text/plain": [
       "'L’arrêt brutal des liaisons entre le Royaume-Uni et le continent européen a bloqué des dizaines de poids lourds au port de Douvres, désormais transformé en parking géant. Reportage.'"
      ]
     },
     "execution_count": 60,
     "metadata": {},
     "output_type": "execute_result"
    }
   ],
   "source": [
    "ex2"
   ]
  },
  {
   "cell_type": "code",
   "execution_count": 61,
   "metadata": {},
   "outputs": [],
   "source": [
    "docx2 = nlp(ex2)"
   ]
  },
  {
   "cell_type": "code",
   "execution_count": 62,
   "metadata": {},
   "outputs": [
    {
     "name": "stdout",
     "output_type": "stream",
     "text": [
      "L’arrêt brutal des liaisons entre le Royaume-Uni\n",
      "et le continent européen\n",
      "des dizaines de poids lourds\n",
      "de Douvres\n",
      "Reportage.\n"
     ]
    }
   ],
   "source": [
    "for noun in docx2.noun_chunks:\n",
    "    print(noun)"
   ]
  },
  {
   "cell_type": "code",
   "execution_count": 63,
   "metadata": {},
   "outputs": [
    {
     "name": "stdout",
     "output_type": "stream",
     "text": [
      "L’\n",
      "continent\n",
      "dizaines\n",
      "Douvres\n",
      "Reportage\n"
     ]
    }
   ],
   "source": [
    "# Root Noun\n",
    "for noun in docx2.noun_chunks:\n",
    "    print(noun.root.text)"
   ]
  },
  {
   "cell_type": "markdown",
   "metadata": {},
   "source": [
    "#### Similarité entre phrases (Similarity)"
   ]
  },
  {
   "cell_type": "code",
   "execution_count": 64,
   "metadata": {},
   "outputs": [],
   "source": [
    "d1 = nlp(\"La femme\")\n",
    "d2 = nlp(\"La fille\")"
   ]
  },
  {
   "cell_type": "code",
   "execution_count": 65,
   "metadata": {},
   "outputs": [
    {
     "name": "stderr",
     "output_type": "stream",
     "text": [
      "/usr/local/lib/python3.7/dist-packages/ipykernel_launcher.py:1: UserWarning: [W007] The model you're using has no word vectors loaded, so the result of the Doc.similarity method will be based on the tagger, parser and NER, which may not give useful similarity judgements. This may happen if you're using one of the small models, e.g. `en_core_web_sm`, which don't ship with word vectors and only use context-sensitive tensors. You can always add your own word vectors, or use one of the larger models instead if available.\n",
      "  \"\"\"Entry point for launching an IPython kernel.\n"
     ]
    },
    {
     "data": {
      "text/plain": [
       "0.9420618146233994"
      ]
     },
     "execution_count": 65,
     "metadata": {},
     "output_type": "execute_result"
    }
   ],
   "source": [
    "d1.similarity(d2)"
   ]
  },
  {
   "cell_type": "code",
   "execution_count": 66,
   "metadata": {},
   "outputs": [],
   "source": [
    "d3 = nlp(\"Le chat\")"
   ]
  },
  {
   "cell_type": "code",
   "execution_count": 67,
   "metadata": {},
   "outputs": [
    {
     "name": "stderr",
     "output_type": "stream",
     "text": [
      "/usr/local/lib/python3.7/dist-packages/ipykernel_launcher.py:1: UserWarning: [W007] The model you're using has no word vectors loaded, so the result of the Doc.similarity method will be based on the tagger, parser and NER, which may not give useful similarity judgements. This may happen if you're using one of the small models, e.g. `en_core_web_sm`, which don't ship with word vectors and only use context-sensitive tensors. You can always add your own word vectors, or use one of the larger models instead if available.\n",
      "  \"\"\"Entry point for launching an IPython kernel.\n"
     ]
    },
    {
     "data": {
      "text/plain": [
       "0.27243440074080755"
      ]
     },
     "execution_count": 67,
     "metadata": {},
     "output_type": "execute_result"
    }
   ],
   "source": [
    "d1.similarity(d3)"
   ]
  },
  {
   "cell_type": "markdown",
   "metadata": {},
   "source": [
    "#### Word Embeddings (Embedding par mot)"
   ]
  },
  {
   "cell_type": "code",
   "execution_count": 68,
   "metadata": {},
   "outputs": [
    {
     "data": {
      "text/plain": [
       "Alexeï Navalny dit avoir piégé un agent russe impliqué dans son empoisonnement"
      ]
     },
     "execution_count": 68,
     "metadata": {},
     "output_type": "execute_result"
    }
   ],
   "source": [
    "docx"
   ]
  },
  {
   "cell_type": "code",
   "execution_count": 69,
   "metadata": {},
   "outputs": [
    {
     "data": {
      "text/plain": [
       "spacy.tokens.doc.Doc"
      ]
     },
     "execution_count": 69,
     "metadata": {},
     "output_type": "execute_result"
    }
   ],
   "source": [
    "type(docx)"
   ]
  },
  {
   "cell_type": "code",
   "execution_count": 71,
   "metadata": {
    "collapsed": true,
    "jupyter": {
     "outputs_hidden": true
    }
   },
   "outputs": [
    {
     "name": "stdout",
     "output_type": "stream",
     "text": [
      "Alexeï [-0.57801384 -9.499393    6.270409   -6.612452   -9.532782   -3.754823\n",
      "  4.102013   -1.7296364   0.42197883  2.8682342  -1.6353197   2.040993\n",
      "  0.08148438 -0.10193264  1.9663248  -1.9154917  -4.235216   -5.019513\n",
      " -2.4805348   0.78011453  6.3478465  -1.3540419  -3.7018702   7.0702095\n",
      "  2.7497792  -2.9013333  -2.0397964  -1.7619114  -0.592998    2.0745897\n",
      " -1.4060761  -4.2036858   4.9323816  -3.0229053  13.404644   -1.0339522\n",
      "  5.174839    1.5939039   0.47620964  2.111621    3.4290142   8.318858\n",
      "  0.26394862 -3.650488   -2.117982   -4.6383986  -0.02334848  2.209282\n",
      "  7.967528    0.7236385   1.8033189  -6.1035995  -4.242278   -3.9140515\n",
      " -7.211985    2.8593493  -4.413377   -7.435608   -2.8398836   8.130455\n",
      " -7.570708    7.567334    2.1332946  -4.113237    1.9508309  -3.8286676\n",
      "  5.0504127   2.4723759   0.9966483   2.024271   -3.0935593   3.7530835\n",
      " -0.41364563  1.9015231  -4.546221    2.6086473   0.15394098 -4.6088104\n",
      "  0.32673234  3.4968317   1.7668386  -2.071981   -5.866379    1.4551754\n",
      " -1.2269639  10.951544   -3.2453127  -2.282598   -3.029435    5.645392\n",
      "  2.0564764  -1.8752785   3.3108501  -3.7410574   6.697754    1.1044438 ]\n",
      "Navalny [11.64095     4.8955193   5.047243   -6.72139     0.8649918   5.1904874\n",
      " -5.0598955  -2.3761795   0.17684479 -1.2957484   1.9856329  -1.8237426\n",
      " -0.5489501   2.8782778  -3.7748587   0.9594208   1.6848812  -6.661341\n",
      " -5.8587866  -5.238306    3.3479552  -6.266657    5.627235   -0.01426101\n",
      " -6.0193577   0.55473363  2.5894241  -1.5848267  -1.7856712   5.2593975\n",
      " -3.2767048  -5.7639728   8.204867   -0.14104778  1.770078   -2.538096\n",
      " -1.4659288  -1.4902241   0.44861448 -4.4816155  -3.816462    8.674677\n",
      " -6.095801    1.692845   -1.0691187  -2.8484607  -0.11031602  4.9305153\n",
      " -0.9255236   7.4330416  -6.479519   -1.7225051   2.0125334   0.5376207\n",
      " -4.3589005  12.2206955  -1.4539442  -3.5859737  -2.425857   -1.3253322\n",
      " -0.14843011  1.4235045  -1.435972    1.3497914   5.7453485  -3.7453012\n",
      " -0.8198435   5.2203856   0.8886234  -0.3747083  -4.0743866   3.8996892\n",
      " -3.3368728   3.9188325  -8.91519    -5.385868   -4.4600563   3.3984976\n",
      "  1.3192139  -3.3065298  10.97309     2.1525931  -0.05156207  1.0018411\n",
      "  1.3635129   7.5012093  -0.08263028 -5.335747    4.2849383   4.542632\n",
      "  5.589325   -7.462008    1.4054013  -0.44697464  0.5416518  -4.4077597 ]\n",
      "dit [ -1.118042     4.240628    -4.284528     3.5098019    6.9982696\n",
      "   0.0281834   -4.887519     0.82700527   1.4189329   -0.9448751\n",
      "   2.3779075   -4.9803452    1.104499    -4.0915003    6.4725313\n",
      "   2.2165084   -2.0564013    0.6870083    1.6980604    0.09203988\n",
      "  -5.108957     2.3780649    3.1028893   -1.7800184   -4.217739\n",
      "  -0.1497764    5.8696046    4.8059263   -1.0559454   -2.353506\n",
      "   0.78265196   0.61421454  -0.07855321  -5.4842563   -4.6731305\n",
      "  -0.512414    -8.73637     -3.326163    -1.4022017    3.9603984\n",
      "  -1.6110948   -1.6992074   -3.6279426   -2.1946058    2.1449764\n",
      "   3.1595023  -10.351961    -8.282714   -12.009382    -0.77422476\n",
      "   5.2129583   -4.6125154   -4.432576    -0.7294161   -3.1442268\n",
      "  -0.27768782  -2.0767593   -1.4436845    2.3618376    4.8513765\n",
      "   4.0752954   -5.6198096    0.17244297  -3.8891523   -0.02535415\n",
      "   1.9825453    1.5526899    4.0405674   10.806913    -1.9057602\n",
      "  -6.014738    -2.9873152    0.59365976   2.32128     -0.924554\n",
      "   4.3227024    0.5834079    5.4492984    3.2134848    6.2424307\n",
      "  -2.6528707   11.831543    -3.096469     0.5520374    0.49629116\n",
      "   1.5734166   -0.10218444   4.7960253   -3.9173589    2.8739407\n",
      "   2.187038    -4.1879754    4.6528907    9.370487     2.422533\n",
      "  -1.7435796 ]\n",
      "avoir [-3.5821278   2.2372155  -4.850311   -4.295746    7.754096    0.8534353\n",
      "  5.071193    5.1659117  -4.183073   -5.3371997  -3.2055166  -2.6940207\n",
      " -4.9367294  -0.8034018   4.9650393  -1.7214712   2.451601    0.10080975\n",
      " -0.13205642  0.8332591  -9.61911    -1.6547203   9.139153   -3.3684182\n",
      " -1.730788    0.568005    7.818093    1.5752362  -6.037819   11.154677\n",
      " -6.0377913   0.60014707  5.1029305  -7.4437      5.071193    1.2539613\n",
      "  0.39902675  1.2683109   6.4160304  -2.0653405  -2.3854368  -2.918738\n",
      "  3.8526413  -5.9674563  -0.5202426  -6.112303    8.631971   -5.0427437\n",
      " -1.0681086  -7.3751326   0.16786575 -1.4390988   5.0106363   4.244068\n",
      " -4.910398   -6.059025    0.2734825   5.303006   -0.42144632  2.9890096\n",
      " -7.682547    2.2193606   0.27399683 -2.6549134  -4.4179144  -3.2815113\n",
      "  0.43693784  7.6946216   0.5956588   0.4482122  -4.2814884  -1.3837261\n",
      "  6.4503393   0.33947754  1.8316333   1.5495139  -5.2296314  -3.3169522\n",
      "  0.5148872   5.487647   -4.6466603  -2.463594    0.15686907 11.346102\n",
      "  6.814431   10.6353     -5.4392796  -0.5791201  -3.0074399   0.85047364\n",
      "  0.70466197  0.2284964  -2.915334    5.811477   -4.6196194  -1.5830221 ]\n",
      "piégé [-6.136354   -0.35110563 -1.9968227  -2.8831432   3.1665814  -0.35274303\n",
      "  0.15095264 -0.60645574  5.365059   -9.791869   -8.1838665   1.1479733\n",
      " -1.0326054  -4.1405053   9.765155    1.2844672  -8.735371   -4.477662\n",
      " -1.3015889   9.175268    2.291535    4.44182    -5.8451614   3.5959458\n",
      "  3.0983589   2.8843384   3.1833415   5.4554853   5.481833    0.16450346\n",
      "  5.017533   -5.9966755   6.9190865  -1.8216343   4.2226477   0.63879913\n",
      " -1.7710023  -4.209594   -6.6064453   7.734932    3.1530437  -0.312317\n",
      " -3.627078    1.7975708   8.434577    0.9017076  -6.107719   -4.769275\n",
      " -5.6776037  -2.4589653   2.2924972  -3.9863133  -4.819307   -2.3822823\n",
      " -2.0371637  -3.2868013  -5.935315   -7.8421407  -0.45768285  2.652957\n",
      "  4.458494   -5.688755    2.8308291  -2.4986453   3.825693    3.5569348\n",
      " 10.000973   -6.9093714   1.0946681  -4.966093    5.4069085   7.331791\n",
      "  4.0001593  -4.5646715   2.3013227  -0.2499814   1.0186121  -2.543387\n",
      " -2.8003294   7.083906   -3.0014806   4.351656   -4.800553   -1.0573106\n",
      " -5.1607103  -0.8885759   0.6754235  -5.805322    3.6009278   1.6471865\n",
      "  1.4569255  -4.526439    1.6939747  10.444763   -2.537861    6.4410095 ]\n",
      "un [ -3.7378132    4.7836246   -8.673693   -10.020922    -3.19166\n",
      "   6.029725     9.073087     3.368555     0.7967595   -6.874657\n",
      "   5.8559475    3.3771954    2.163461    -4.277851    -4.040663\n",
      "  -2.8742197   -1.3893976   -6.5707946   -1.9162375    1.2863888\n",
      "  -6.2551622   -5.9343586    6.9005904    4.4912395   -0.01502365\n",
      "   1.5099995    1.3307979    4.1719723    9.404521     7.1357965\n",
      "   6.9413395   -2.9545076   -4.0928516    3.776816     2.3386176\n",
      "   0.01371437   1.4694775   -0.36079627  -2.654861     3.5670207\n",
      "  -4.6365623   -1.8691624   -6.769214     1.7291007    1.8768942\n",
      "  -3.576342     5.1428223    0.30440527  -5.71468     -6.8564615\n",
      "  -1.5792316    3.3507872    0.86879236  -0.21737006  -0.76961327\n",
      "  -0.16320646   0.0303064    5.0626464    2.41017      0.14305836\n",
      "  12.333812    -5.1004643    4.9579372   -7.804767    -3.072906\n",
      "  -5.9137278    2.9157348    3.4303198    2.929977    -3.5408146\n",
      "   5.915305     2.4223611   -3.165459    10.882248     5.3427243\n",
      "  -3.715723    -3.6216078    5.6539993    0.5832863   -0.16409865\n",
      "   1.070165     2.5187895   -1.1628754   -3.0211344    7.7042046\n",
      "  -4.732031    -4.340023    -0.69916004   1.3526161   -6.79517\n",
      "  -2.0168927   -0.04171997  -1.3489343   -4.5327897   -3.0921974\n",
      "  -4.5371656 ]\n",
      "agent [ -0.36224958   4.9097357   -4.3473744  -10.107096     3.7441804\n",
      "  -4.007937    -1.0635263    1.7048913    6.9180617   -3.861631\n",
      "  -2.0674505   -4.342787     0.9307779    0.39610046   6.7529488\n",
      "   2.9025888    0.01254332  -0.962854   -10.342103    -0.5826047\n",
      "  -7.9976654    4.300666    -1.4125147   -7.3642907   -4.0377774\n",
      "  -2.4522147   -1.9279798    8.233404    10.672341    -0.01170066\n",
      "   0.34909534  -6.8806777    6.4398193   -1.0170021   -0.03794204\n",
      "   4.1357555    5.943268    -5.2131023    1.8112487    4.1236353\n",
      "  -0.68900514  -1.3294681   -0.2392627   -0.44782287   3.8900466\n",
      "  -4.7378483    3.043408    -3.322277    -2.1379685   -2.7033577\n",
      "  -3.250545    -4.312008    -3.682026    -2.5333815    2.7110786\n",
      "  -0.02945244  -2.5849774   -8.128815     1.9025657    4.866108\n",
      "  -0.98967373   5.4528213    6.8934336   -8.450498     1.4296932\n",
      "   0.05400318   4.281447     2.3146873   -1.0232177   -6.2202444\n",
      "   0.21845853  -0.30275145   9.610268    -0.11069107   0.10034595\n",
      "  -5.830119     9.036821    -5.3222275   -5.0535593    6.69726\n",
      "   6.1017056   -2.7619328   -0.82406056  -6.1287537   -3.8949292\n",
      "  -4.5769453    6.762429    -5.53548     10.011648     0.85624456\n",
      "   7.962184     5.7795925    5.2425637    2.1924245    0.42609614\n",
      "  -7.5060434 ]\n",
      "russe [ -0.82887423   2.924726    -3.7968755   -4.79734     -2.155245\n",
      "   3.0706146   -9.349869    -2.5890884    3.9696014    2.166479\n",
      "  -1.8004332    0.36240613  -7.4214706   -1.351984     1.4170132\n",
      "   0.58426905  -2.2802968    1.6289613    6.1875906    2.5872397\n",
      "  -2.5762854   -5.1459355   -4.975773     3.7754772    8.101911\n",
      "   3.5551598   -0.3861383   -5.085397    -1.9615083   -1.138382\n",
      "   5.7801375   -3.7330623    5.159122     2.5200427   -2.6190372\n",
      "  -6.2722106   -6.681219    -8.613947    -2.0052836    7.32759\n",
      "   5.1054506  -10.252487    -0.8666168   -4.8245416    0.9926883\n",
      "   7.0820045   -4.806266    -2.7416573   -4.039339    -1.2438066\n",
      "  -4.901431     2.2690902    1.9521805   -1.2320167   -1.9443369\n",
      "   2.2178066    1.6471524    1.8943576    5.1458216    1.2037394\n",
      "  -0.8280095    2.3375726    2.8677106   -2.6877136    3.8981543\n",
      "   3.7364411    3.7717729    2.4505582   12.749978    -1.3270214\n",
      "   4.6432967   -6.2619095   -6.185879    -4.768987    -2.5117068\n",
      "  -0.6527387   -0.5973423   -6.9050446   -3.5766637    2.2025216\n",
      "   4.269726     2.4696696    2.4063287    4.180537     2.4924464\n",
      "   3.6214666    2.1328163    3.1796641   -4.978814     7.3828497\n",
      "   1.2464683   -1.678693     2.6654646    7.075708     0.60467976\n",
      "  -4.8952346 ]\n",
      "impliqué [  1.8748741   -5.8117566   -9.352588     0.26157087   4.8521795\n",
      "   1.3064828   -1.008984    -4.567759    -0.35927334  -4.7712364\n",
      "  -0.5396488   -5.414151    -0.5827696    0.22632438   3.8190722\n",
      "  -1.1937261   -6.2793326   -2.7060404   -5.020916    12.042003\n",
      "  -2.1880686    2.8682718   -2.169083     4.7273664    1.1209786\n",
      "   0.6715207    3.0307102   -2.3135195    2.583869     2.095919\n",
      "   3.8304214    1.747073    -0.65704066  -7.9428024   -0.42864072\n",
      "   2.0554724   -2.1372218   -6.9066076   -4.09839      8.637923\n",
      "   8.909962     0.9055896   -2.695713     0.32259643  -0.08107868\n",
      "   0.8041427   -6.153847    -7.300005    -6.4060383    2.0918572\n",
      "  -4.336026     2.8145583    2.6636717    5.705232     2.0724616\n",
      "  -5.168999    -0.5547185    2.3215978   -1.2520127    5.169571\n",
      "   1.7574042    1.1438228    8.007973     4.0056787    1.8223984\n",
      "   8.301803     4.3544264   -7.190684     9.592259    -1.8835244\n",
      "  -1.9471338    0.40024957   2.46637     -8.694233     3.1946692\n",
      "  -1.5010452   -4.0789747    4.6316204   -2.4150746    5.635544\n",
      "   2.766124     5.725476    -6.871722     0.2706905   -3.7151234\n",
      "  -3.113696    -8.528746     5.286651   -10.465503     4.7933345\n",
      "   1.9414794   -1.6550798   -2.71972      4.6275396    6.601607\n",
      "  -3.231738  ]\n",
      "dans [-9.347177   -3.971326   -5.5439234  -2.9341125  -4.0926447  -6.226657\n",
      "  7.2980103  -0.18168104  2.8146756  -0.35033578  4.663844    1.4535863\n",
      " -2.71382    -1.1139334   1.4898396  -1.9256111  -3.3861656  -5.8995643\n",
      "  3.2654543   4.73624     1.0488621   2.9083648  -3.3775258   6.569118\n",
      "  1.3170779   6.3245487   4.8733644  -4.984956   -3.2126617  -6.245529\n",
      "  3.7563262  -0.04448688 -3.4679315  -5.8402615   9.191841    0.7648148\n",
      "  0.9730588   6.1154943  -6.5804443   8.182915    2.1479201  -3.7871222\n",
      "  1.4136832  -2.3404658  -1.0806568  -2.692584   -7.194895   -8.93008\n",
      " -7.828157   -4.7655745   2.2180085   5.68743    -0.02449769 -1.5209736\n",
      " -3.516596   -0.05238688 -4.270899   -7.2144094   3.8042715   5.678079\n",
      " -6.2350655   0.04712206  4.0655894  -2.3985586  -2.9179068  -5.688573\n",
      "  5.099597    4.954493   -1.4008533   2.1106775   1.4696181  -4.3729777\n",
      "  9.582127   -4.01053     2.5584097   2.4366417  -0.23839176 -7.1436357\n",
      "  5.384967    5.7392297   2.5561006  -0.76857793 -6.2610974   2.0459452\n",
      "  6.4490347   4.606592    1.3223798   2.298713   -5.091153   -0.4478883\n",
      " -1.3752569   4.828534    7.2390423   8.716156    0.3775993   0.98741436]\n",
      "son [-4.3853245e+00 -1.0479589e+00 -7.7215939e+00 -8.6499252e+00\n",
      " -6.4061141e+00  6.6059165e+00  1.4813473e+01 -3.7033958e+00\n",
      " -5.2667603e+00 -3.4967079e+00  9.4999895e+00 -3.0961008e+00\n",
      "  8.0524278e-01  6.2418032e-01 -1.5898504e+00 -9.6403990e+00\n",
      " -6.1780891e+00 -2.7510390e+00  4.5312434e-02  2.2320418e+00\n",
      " -4.6317344e+00  3.4097903e+00 -9.7910339e-01 -1.1363894e-02\n",
      " -5.1243124e+00 -3.7445307e+00  6.5982885e+00  2.6255946e+00\n",
      "  9.7944313e-01  1.2888110e+01  4.8104706e+00 -3.3767312e+00\n",
      " -2.8032737e+00  9.7519833e-01  1.8083236e+00  3.6873276e+00\n",
      "  8.9954367e+00  5.7875166e+00  7.6604986e-01  1.8178341e+00\n",
      " -1.9040477e+00  3.9737709e+00 -2.1254385e+00 -2.8157451e+00\n",
      " -2.5005369e+00 -2.0108342e-01  8.6643934e+00  4.1650105e+00\n",
      "  1.3998201e+00 -6.3944182e+00  3.9470849e+00  1.4578757e+00\n",
      "  1.0331011e+01  2.4356315e+00  8.0682878e+00  1.3976244e+00\n",
      "  1.9193614e+00 -1.9023223e+00 -3.3010483e+00 -6.2039704e+00\n",
      "  3.9019728e+00 -7.8140283e-01 -2.5632091e+00 -4.2573795e+00\n",
      " -3.9020138e+00 -2.9356766e-01  3.0095825e+00  1.5138621e+00\n",
      "  5.1465571e-02 -3.1676159e+00  3.7382579e+00 -3.1101763e+00\n",
      " -1.8909539e+00  2.9816051e+00 -4.2421379e+00 -2.2204704e+00\n",
      " -2.8986912e+00 -8.0390602e-01  3.2604609e+00 -1.4139816e+00\n",
      "  4.9530487e+00 -1.7016401e+00 -3.9745374e+00  6.4046264e-01\n",
      " -1.4471043e+00  2.8625464e+00 -9.3137283e+00  2.6447451e-01\n",
      " -2.7654910e-01 -2.6028678e+00 -5.5967302e+00  8.2900000e+00\n",
      "  1.7812608e+00  6.7057341e-01 -3.6226159e-01 -5.6040597e+00]\n",
      "empoisonnement [-0.25887257  3.1929712   3.452919   -7.420055    0.06314525 -5.1541443\n",
      "  0.13635826 -2.2150908   2.4897606  -4.4281983  -0.89240164 -8.181339\n",
      " -1.4944471  -0.12141335  5.3341446   1.7203455  -4.009087    6.0171576\n",
      " -7.622842    5.0469904  -3.63058    -0.5048921  -1.1741247  -4.4567823\n",
      " -3.9415786   2.4937997  -7.9742584   9.801092    5.966137    1.0151683\n",
      "  4.2422223   1.044729   -4.871481   -0.64114904  2.84823    10.045756\n",
      "  5.610241   -6.766275   -0.82447433  2.5557642   0.58230436  0.95076054\n",
      "  2.2006786  -2.7858176   2.7103999  -4.2091713   6.703208   -1.8809496\n",
      "  2.2293015  -3.3614314  -5.435628   -5.118869   -6.142665   -3.461183\n",
      "  4.9894056  -0.97846353 -1.0260618  -3.4783163   2.5349307   0.16000004\n",
      " -3.8127856   5.2843404   7.2408695  -7.370594    0.21138191 -2.6731553\n",
      "  0.5830507  -2.2174625  -3.357287   -3.5261793  -0.95340806 -2.758566\n",
      "  9.925343    0.26591802 -0.13683969  0.5201582   7.2888846  -3.5540133\n",
      "  0.42009574  3.5036395   1.2050602  -3.443744   -4.6829114  -4.188927\n",
      " -2.4045177  -4.818018    1.7029929   0.35497886 10.255022   -4.027023\n",
      "  8.482481    5.0326223   6.2273984   3.7114158   1.9403389  -4.8402905 ]\n"
     ]
    }
   ],
   "source": [
    "for word in docx:\n",
    "    print(word.text,word.vector)"
   ]
  },
  {
   "cell_type": "code",
   "execution_count": null,
   "metadata": {},
   "outputs": [],
   "source": [
    "#### Removing Stopword\n",
    "#### Methods\n",
    "+ Spacy\n",
    "+ NLK\n",
    "+ Neattext"
   ]
  },
  {
   "cell_type": "code",
   "execution_count": null,
   "metadata": {},
   "outputs": [],
   "source": [
    "# Method 1 :Utilise Spacy"
   ]
  },
  {
   "cell_type": "code",
   "execution_count": 74,
   "metadata": {},
   "outputs": [
    {
     "data": {
      "text/plain": [
       "Alexeï Navalny dit avoir piégé un agent russe impliqué dans son empoisonnement"
      ]
     },
     "execution_count": 74,
     "metadata": {},
     "output_type": "execute_result"
    }
   ],
   "source": [
    "docx"
   ]
  },
  {
   "cell_type": "code",
   "execution_count": 75,
   "metadata": {
    "collapsed": true,
    "jupyter": {
     "outputs_hidden": true
    }
   },
   "outputs": [
    {
     "name": "stdout",
     "output_type": "stream",
     "text": [
      "Alexeï False\n",
      "Navalny False\n",
      "dit True\n",
      "avoir True\n",
      "piégé False\n",
      "un True\n",
      "agent False\n",
      "russe False\n",
      "impliqué False\n",
      "dans True\n",
      "son True\n",
      "empoisonnement False\n"
     ]
    }
   ],
   "source": [
    "for token in docx:\n",
    "    print(token.text,token.is_stop)"
   ]
  },
  {
   "cell_type": "code",
   "execution_count": 76,
   "metadata": {},
   "outputs": [
    {
     "name": "stdout",
     "output_type": "stream",
     "text": [
      "Alexeï\n",
      "Navalny\n",
      "piégé\n",
      "agent\n",
      "russe\n",
      "impliqué\n",
      "empoisonnement\n"
     ]
    }
   ],
   "source": [
    "for token in docx:\n",
    "    if token.is_stop != True:\n",
    "        print(token.text)"
   ]
  },
  {
   "cell_type": "code",
   "execution_count": 77,
   "metadata": {},
   "outputs": [],
   "source": [
    "non_stopwords = [token.text for token in docx if token.is_stop != True]"
   ]
  },
  {
   "cell_type": "code",
   "execution_count": 78,
   "metadata": {},
   "outputs": [
    {
     "data": {
      "text/plain": [
       "['Alexeï', 'Navalny', 'piégé', 'agent', 'russe', 'impliqué', 'empoisonnement']"
      ]
     },
     "execution_count": 78,
     "metadata": {},
     "output_type": "execute_result"
    }
   ],
   "source": [
    "no_stopwords"
   ]
  },
  {
   "cell_type": "code",
   "execution_count": null,
   "metadata": {},
   "outputs": [],
   "source": [
    "# Using Neattext\n",
    "# pip install neattext"
   ]
  },
  {
   "cell_type": "code",
   "execution_count": 80,
   "metadata": {},
   "outputs": [],
   "source": [
    "# Load Text Cleaning Pkg\n",
    "import neattext as nt\n",
    "import neattext.functions as nfx"
   ]
  },
  {
   "cell_type": "code",
   "execution_count": 81,
   "metadata": {},
   "outputs": [],
   "source": [
    "# OOP\n",
    "d = nt.TextFrame(ex1)"
   ]
  },
  {
   "cell_type": "code",
   "execution_count": 82,
   "metadata": {},
   "outputs": [
    {
     "data": {
      "text/plain": [
       "'Alexeï Navalny dit avoir piégé un agent russe impliqué dans son empoisonnement'"
      ]
     },
     "execution_count": 82,
     "metadata": {},
     "output_type": "execute_result"
    }
   ],
   "source": [
    "d.text"
   ]
  },
  {
   "cell_type": "code",
   "execution_count": 84,
   "metadata": {},
   "outputs": [
    {
     "data": {
      "text/plain": [
       "'Alexeï Navalny piégé agent russe impliqué empoisonnement'"
      ]
     },
     "execution_count": 84,
     "metadata": {},
     "output_type": "execute_result"
    }
   ],
   "source": [
    "d.remove_stopwords(lang='fr').text"
   ]
  },
  {
   "cell_type": "code",
   "execution_count": 85,
   "metadata": {},
   "outputs": [
    {
     "data": {
      "text/plain": [
       "'Alexeï Navalny piégé agent russe impliqué empoisonnement'"
      ]
     },
     "execution_count": 85,
     "metadata": {},
     "output_type": "execute_result"
    }
   ],
   "source": [
    "# MOP\n",
    "nfx.remove_stopwords(ex1,lang='fr')"
   ]
  },
  {
   "cell_type": "code",
   "execution_count": null,
   "metadata": {},
   "outputs": [],
   "source": []
  }
 ],
 "metadata": {
  "kernelspec": {
   "display_name": "Python 3",
   "language": "python",
   "name": "python3"
  },
  "language_info": {
   "codemirror_mode": {
    "name": "ipython",
    "version": 3
   },
   "file_extension": ".py",
   "mimetype": "text/x-python",
   "name": "python",
   "nbconvert_exporter": "python",
   "pygments_lexer": "ipython3",
   "version": "3.8.8"
  }
 },
 "nbformat": 4,
 "nbformat_minor": 4
}
